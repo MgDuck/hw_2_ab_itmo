{
 "cells": [
  {
   "cell_type": "markdown",
   "id": "44161dbe",
   "metadata": {},
   "source": [
    "# Условие ДЗ 1:\n",
    "\n",
    "## Дизайн теста\n",
    "1) Из interactions взять данные за 2 последние недели (2021-08-09 по 2021-08-22)\n",
    "\n",
    "2) Посчитайте на этих данных корректность на бутстрепе и сравните ее с результатами за 1 неделю (посчитано на семинаре) (0.5 балла)\n",
    "\n",
    "3) На двух неделях посчитайте мощность. Для этого нужно в одну из групп докинуть эффект. Докиньте эффект в 1%, 3% и 5% и сравните полученную мощность (1.5 балла)\n",
    "\n",
    "4) Посчитайте MDE, который можно зафиксировать на 2х неделях. В качестве alpha и beta подставьте ваши вычисленные ошибки 1 и 2 рода. Учитывайте что у нас формула для MDE работает для t-test или z-test (1 балл)\n",
    "\n",
    "## A/B тест\n",
    "1) Представим что у нас прошел тест, используем те же самые данные за 2 недели\n",
    "\n",
    "2) Занулите для всех пользователей total_dur, у которых total_dur < 500. Их НЕ УБИРАЕМ, а просто обрабатываем эти значения, принимая за нулевые, но пользователей также учитываем в эксперименте (0.5 балла)\n",
    "\n",
    "3) Разбейте их самостоятельно на две равные группы, используйте функцию groups_splitter и соль = 'kiontestmodel20210805' (0.5 балла)\n",
    "\n",
    "4) Оказалось, что модель в группе В показала себя лучше, чем в группе А на 2.5%, причем эффект распространился неравномерно и преимущественно на 10% самых смотрящих пользователей, докиньте такой эффект самостоятельно. Нужно метрику total_dur увеличить на 2.5% для 10% пользователей с самым продолжительным смотрением. (1 балл)\n",
    "\n",
    "5) Посчитайте результат такого теста и сделайте выводы (2 балла)\n",
    "\n",
    "Еще 1 балл можно получить за хорошее и подробное объяснение каждого шага "
   ]
  },
  {
   "cell_type": "markdown",
   "id": "74c67fb7",
   "metadata": {},
   "source": [
    "# Дизайн теста"
   ]
  },
  {
   "cell_type": "markdown",
   "id": "be8c9a48",
   "metadata": {},
   "source": [
    "## Импорт библиотек"
   ]
  },
  {
   "cell_type": "code",
   "execution_count": 1,
   "id": "1871aa2f",
   "metadata": {
    "ExecuteTime": {
     "end_time": "2024-03-04T11:14:10.875502Z",
     "start_time": "2024-03-04T11:14:07.746374Z"
    }
   },
   "outputs": [],
   "source": [
    "import numpy as np\n",
    "import scipy\n",
    "import matplotlib.pyplot as plt\n",
    "import scipy.stats as stats\n",
    "import statsmodels\n",
    "import statsmodels.sandbox.stats.multicomp\n",
    "import pandas as pd\n",
    "import datetime\n",
    "from scipy import stats as sts\n",
    "from statsmodels.stats.weightstats import ztest\n",
    "\n",
    "import matplotlib.pyplot as plt\n",
    "import seaborn as sns\n",
    "\n",
    "from tqdm import tqdm\n",
    "from sklearn.utils import shuffle\n",
    "import hashlib\n",
    "from base64 import b64encode\n",
    "import collections\n",
    "\n",
    "from copy import deepcopy"
   ]
  },
  {
   "cell_type": "markdown",
   "id": "8619afdf",
   "metadata": {},
   "source": [
    "## Импорт функций"
   ]
  },
  {
   "cell_type": "code",
   "execution_count": 2,
   "id": "91546370",
   "metadata": {
    "ExecuteTime": {
     "end_time": "2024-03-04T11:14:10.897637Z",
     "start_time": "2024-03-04T11:14:10.883364Z"
    }
   },
   "outputs": [],
   "source": [
    "def salt_generator(salt=None):\n",
    "    import os\n",
    "    from base64 import b64encode # кодирует байтоподобный объект с помощью Base64 и возвращает закодированную байтовую строку.\n",
    "    salt = os.urandom(8)\n",
    "    \n",
    "    return b64encode(salt).decode('ascii')\n",
    "\n",
    "##########################\n",
    "\n",
    "# Деление на 2 равные группы\n",
    "def groups_splitter(df, columns, user_salt=None):\n",
    "    \n",
    "    if user_salt == None:\n",
    "        salt = salt_generator()\n",
    "    else:\n",
    "        salt = user_salt\n",
    "    \n",
    "    df['hash'] = ((df['user_id'].astype(str)) + '#' + salt).apply(lambda x: hashlib.sha256(x.encode('utf-8')).hexdigest())\n",
    "\n",
    "    df['group'] = ((df['hash'].str.slice(start=-6).apply(int, base=16) % 2).map(lambda x: 'A' if x == 0 else 'B'))\n",
    "\n",
    "    return df[columns].drop_duplicates()\n",
    "\n",
    "##########################\n",
    "\n",
    "def get_bootstrap_array(arr):\n",
    "    return np.random.choice(arr, replace=True, size=len(arr))\n",
    "\n",
    "#########################\n",
    "\n",
    "def calc_bootstrap_mean(arr, size=1000):\n",
    "    result = np.empty(size)\n",
    "    for i in range(size):\n",
    "        result[i] = np.mean(get_bootstrap_array(arr))\n",
    "    return result\n",
    "\n",
    "########################\n",
    "\n",
    "def get_p_value(dist):\n",
    "    dist = np.array(dist)\n",
    "    x = (dist > 0).mean()\n",
    "    pvalue = min(x, 1 - x) * 2\n",
    "    return pvalue\n",
    "\n",
    "\n",
    "#######################\n",
    "\n",
    "def get_mde(metric_vec, alpha=0.05, beta=0.2):\n",
    "    \n",
    "    metric_mean, metric_std, metric_n = metric_vec.mean(), metric_vec.std(), metric_vec.count()\n",
    "    \n",
    "    z_alpha = norm.ppf(1 - (alpha / 2), loc=0, scale=1)\n",
    "    z_beta = norm.ppf(1 - beta, loc=0, scale=1)\n",
    "    \n",
    "    mde = (z_alpha + z_beta)*metric_std / np.sqrt(metric_n)\n",
    "    \n",
    "    return mde*100/metric_mean"
   ]
  },
  {
   "cell_type": "markdown",
   "id": "27327bb6",
   "metadata": {},
   "source": [
    "## Импорт данных и лёгкая чистка"
   ]
  },
  {
   "cell_type": "code",
   "execution_count": 3,
   "id": "37a88333",
   "metadata": {
    "ExecuteTime": {
     "end_time": "2024-03-04T11:14:14.099503Z",
     "start_time": "2024-03-04T11:14:10.908033Z"
    }
   },
   "outputs": [
    {
     "data": {
      "text/html": [
       "<div>\n",
       "<style scoped>\n",
       "    .dataframe tbody tr th:only-of-type {\n",
       "        vertical-align: middle;\n",
       "    }\n",
       "\n",
       "    .dataframe tbody tr th {\n",
       "        vertical-align: top;\n",
       "    }\n",
       "\n",
       "    .dataframe thead th {\n",
       "        text-align: right;\n",
       "    }\n",
       "</style>\n",
       "<table border=\"1\" class=\"dataframe\">\n",
       "  <thead>\n",
       "    <tr style=\"text-align: right;\">\n",
       "      <th></th>\n",
       "      <th>user_id</th>\n",
       "      <th>item_id</th>\n",
       "      <th>last_watch_dt</th>\n",
       "      <th>total_dur</th>\n",
       "      <th>watched_pct</th>\n",
       "    </tr>\n",
       "  </thead>\n",
       "  <tbody>\n",
       "    <tr>\n",
       "      <th>1264857</th>\n",
       "      <td>135790</td>\n",
       "      <td>3734</td>\n",
       "      <td>2021-07-10</td>\n",
       "      <td>6659</td>\n",
       "      <td>100.0</td>\n",
       "    </tr>\n",
       "    <tr>\n",
       "      <th>456356</th>\n",
       "      <td>256670</td>\n",
       "      <td>11379</td>\n",
       "      <td>2021-07-18</td>\n",
       "      <td>3</td>\n",
       "      <td>0.0</td>\n",
       "    </tr>\n",
       "    <tr>\n",
       "      <th>330160</th>\n",
       "      <td>183672</td>\n",
       "      <td>7950</td>\n",
       "      <td>2021-04-18</td>\n",
       "      <td>3873</td>\n",
       "      <td>62.0</td>\n",
       "    </tr>\n",
       "    <tr>\n",
       "      <th>1620119</th>\n",
       "      <td>659093</td>\n",
       "      <td>8046</td>\n",
       "      <td>2021-07-06</td>\n",
       "      <td>8251</td>\n",
       "      <td>100.0</td>\n",
       "    </tr>\n",
       "    <tr>\n",
       "      <th>1580575</th>\n",
       "      <td>931500</td>\n",
       "      <td>9996</td>\n",
       "      <td>2021-08-06</td>\n",
       "      <td>427</td>\n",
       "      <td>0.0</td>\n",
       "    </tr>\n",
       "  </tbody>\n",
       "</table>\n",
       "</div>"
      ],
      "text/plain": [
       "         user_id  item_id last_watch_dt  total_dur  watched_pct\n",
       "1264857   135790     3734    2021-07-10       6659        100.0\n",
       "456356    256670    11379    2021-07-18          3          0.0\n",
       "330160    183672     7950    2021-04-18       3873         62.0\n",
       "1620119   659093     8046    2021-07-06       8251        100.0\n",
       "1580575   931500     9996    2021-08-06        427          0.0"
      ]
     },
     "execution_count": 3,
     "metadata": {},
     "output_type": "execute_result"
    }
   ],
   "source": [
    "interactions = pd.read_csv('interactions_df.csv')\n",
    "users = pd.read_csv('users.csv')\n",
    "items = pd.read_csv('items.csv')\n",
    "\n",
    "interactions.sample(5)"
   ]
  },
  {
   "cell_type": "code",
   "execution_count": 4,
   "id": "c00f798e",
   "metadata": {
    "ExecuteTime": {
     "end_time": "2024-03-04T11:14:14.126206Z",
     "start_time": "2024-03-04T11:14:14.115520Z"
    }
   },
   "outputs": [
    {
     "data": {
      "text/plain": [
       "user_id            int64\n",
       "item_id            int64\n",
       "last_watch_dt     object\n",
       "total_dur          int64\n",
       "watched_pct      float64\n",
       "dtype: object"
      ]
     },
     "execution_count": 4,
     "metadata": {},
     "output_type": "execute_result"
    }
   ],
   "source": [
    "interactions.dtypes"
   ]
  },
  {
   "cell_type": "code",
   "execution_count": 5,
   "id": "21ca65a6",
   "metadata": {
    "ExecuteTime": {
     "end_time": "2024-03-04T11:14:16.379929Z",
     "start_time": "2024-03-04T11:14:14.147122Z"
    }
   },
   "outputs": [],
   "source": [
    "interactions['last_watch_dt'] = pd.to_datetime(interactions['last_watch_dt'])\n",
    "interactions['user_id'] = interactions['user_id'].astype(str)"
   ]
  },
  {
   "cell_type": "markdown",
   "id": "75e28697",
   "metadata": {},
   "source": [
    "## Задание ДТ1\n",
    "Из interactions взять данные за 2 последние недели (2021-08-09 по 2021-08-22)"
   ]
  },
  {
   "cell_type": "code",
   "execution_count": 6,
   "id": "a97916e3",
   "metadata": {
    "ExecuteTime": {
     "end_time": "2024-03-04T11:14:16.535863Z",
     "start_time": "2024-03-04T11:14:16.396997Z"
    }
   },
   "outputs": [
    {
     "data": {
      "text/html": [
       "<div>\n",
       "<style scoped>\n",
       "    .dataframe tbody tr th:only-of-type {\n",
       "        vertical-align: middle;\n",
       "    }\n",
       "\n",
       "    .dataframe tbody tr th {\n",
       "        vertical-align: top;\n",
       "    }\n",
       "\n",
       "    .dataframe thead th {\n",
       "        text-align: right;\n",
       "    }\n",
       "</style>\n",
       "<table border=\"1\" class=\"dataframe\">\n",
       "  <thead>\n",
       "    <tr style=\"text-align: right;\">\n",
       "      <th></th>\n",
       "      <th>user_id</th>\n",
       "      <th>item_id</th>\n",
       "      <th>last_watch_dt</th>\n",
       "      <th>total_dur</th>\n",
       "      <th>watched_pct</th>\n",
       "    </tr>\n",
       "  </thead>\n",
       "  <tbody>\n",
       "    <tr>\n",
       "      <th>6</th>\n",
       "      <td>1016458</td>\n",
       "      <td>354</td>\n",
       "      <td>2021-08-14</td>\n",
       "      <td>1672</td>\n",
       "      <td>25.0</td>\n",
       "    </tr>\n",
       "    <tr>\n",
       "      <th>9</th>\n",
       "      <td>203219</td>\n",
       "      <td>13582</td>\n",
       "      <td>2021-08-22</td>\n",
       "      <td>6975</td>\n",
       "      <td>100.0</td>\n",
       "    </tr>\n",
       "    <tr>\n",
       "      <th>22</th>\n",
       "      <td>505244</td>\n",
       "      <td>15297</td>\n",
       "      <td>2021-08-15</td>\n",
       "      <td>15991</td>\n",
       "      <td>63.0</td>\n",
       "    </tr>\n",
       "    <tr>\n",
       "      <th>24</th>\n",
       "      <td>916352</td>\n",
       "      <td>12846</td>\n",
       "      <td>2021-08-12</td>\n",
       "      <td>1812</td>\n",
       "      <td>30.0</td>\n",
       "    </tr>\n",
       "    <tr>\n",
       "      <th>30</th>\n",
       "      <td>1057871</td>\n",
       "      <td>6208</td>\n",
       "      <td>2021-08-12</td>\n",
       "      <td>5033</td>\n",
       "      <td>95.0</td>\n",
       "    </tr>\n",
       "    <tr>\n",
       "      <th>...</th>\n",
       "      <td>...</td>\n",
       "      <td>...</td>\n",
       "      <td>...</td>\n",
       "      <td>...</td>\n",
       "      <td>...</td>\n",
       "    </tr>\n",
       "    <tr>\n",
       "      <th>5476215</th>\n",
       "      <td>204332</td>\n",
       "      <td>2081</td>\n",
       "      <td>2021-08-10</td>\n",
       "      <td>822</td>\n",
       "      <td>14.0</td>\n",
       "    </tr>\n",
       "    <tr>\n",
       "      <th>5476222</th>\n",
       "      <td>1007900</td>\n",
       "      <td>9728</td>\n",
       "      <td>2021-08-12</td>\n",
       "      <td>416</td>\n",
       "      <td>6.0</td>\n",
       "    </tr>\n",
       "    <tr>\n",
       "      <th>5476246</th>\n",
       "      <td>648596</td>\n",
       "      <td>12225</td>\n",
       "      <td>2021-08-13</td>\n",
       "      <td>76</td>\n",
       "      <td>0.0</td>\n",
       "    </tr>\n",
       "    <tr>\n",
       "      <th>5476248</th>\n",
       "      <td>697262</td>\n",
       "      <td>15297</td>\n",
       "      <td>2021-08-20</td>\n",
       "      <td>18307</td>\n",
       "      <td>63.0</td>\n",
       "    </tr>\n",
       "    <tr>\n",
       "      <th>5476250</th>\n",
       "      <td>319709</td>\n",
       "      <td>4436</td>\n",
       "      <td>2021-08-15</td>\n",
       "      <td>3921</td>\n",
       "      <td>45.0</td>\n",
       "    </tr>\n",
       "  </tbody>\n",
       "</table>\n",
       "<p>827089 rows × 5 columns</p>\n",
       "</div>"
      ],
      "text/plain": [
       "         user_id  item_id last_watch_dt  total_dur  watched_pct\n",
       "6        1016458      354    2021-08-14       1672         25.0\n",
       "9         203219    13582    2021-08-22       6975        100.0\n",
       "22        505244    15297    2021-08-15      15991         63.0\n",
       "24        916352    12846    2021-08-12       1812         30.0\n",
       "30       1057871     6208    2021-08-12       5033         95.0\n",
       "...          ...      ...           ...        ...          ...\n",
       "5476215   204332     2081    2021-08-10        822         14.0\n",
       "5476222  1007900     9728    2021-08-12        416          6.0\n",
       "5476246   648596    12225    2021-08-13         76          0.0\n",
       "5476248   697262    15297    2021-08-20      18307         63.0\n",
       "5476250   319709     4436    2021-08-15       3921         45.0\n",
       "\n",
       "[827089 rows x 5 columns]"
      ]
     },
     "execution_count": 6,
     "metadata": {},
     "output_type": "execute_result"
    }
   ],
   "source": [
    "two_week_data = deepcopy(interactions[(interactions['last_watch_dt'] >= \"2021-08-09\") * (interactions[\"last_watch_dt\"] <= \"2021-08-22\")])\n",
    "two_week_data"
   ]
  },
  {
   "cell_type": "markdown",
   "id": "6d664da5",
   "metadata": {},
   "source": [
    "## Задание ДТ2\n",
    "Посчитайте на этих данных корректность на бутстрепе и сравните ее с результатами за 1 неделю (посчитано на семинаре) (0.5 балла)"
   ]
  },
  {
   "cell_type": "code",
   "execution_count": 7,
   "id": "71ef36c1",
   "metadata": {
    "ExecuteTime": {
     "end_time": "2024-03-04T11:14:16.570361Z",
     "start_time": "2024-03-04T11:14:16.547010Z"
    }
   },
   "outputs": [],
   "source": [
    "two_week_interactions_copied = deepcopy(two_week_data)"
   ]
  },
  {
   "cell_type": "code",
   "execution_count": 8,
   "id": "1d75285f",
   "metadata": {
    "ExecuteTime": {
     "end_time": "2024-03-04T15:02:30.549515Z",
     "start_time": "2024-03-04T11:14:16.592854Z"
    }
   },
   "outputs": [
    {
     "name": "stderr",
     "output_type": "stream",
     "text": [
      "100%|████████████████████████████████████████████████████████████████████████████| 1000/1000 [3:48:13<00:00, 13.69s/it]"
     ]
    },
    {
     "name": "stdout",
     "output_type": "stream",
     "text": [
      "significance: 6.300%\n"
     ]
    },
    {
     "name": "stderr",
     "output_type": "stream",
     "text": [
      "\n"
     ]
    }
   ],
   "source": [
    "correctness = []\n",
    "values = []\n",
    "\n",
    "num_iterations = 1000\n",
    "bootstrap_size = 1000\n",
    "confidence_level = 0.95\n",
    "\n",
    "two_week_interactions_copied['user_id'] = two_week_interactions_copied['user_id'].astype(str)\n",
    "two_week_interactions_copied = two_week_interactions_copied.drop_duplicates()\n",
    "\n",
    "for _ in tqdm(range(num_iterations), position=0, leave=True):\n",
    "    groups = pd.util.hash_pandas_object(two_week_interactions_copied['user_id'] + '#' + salt_generator()) % 2\n",
    "    \n",
    "    \n",
    "    vec_a = two_week_interactions_copied.loc[groups == 0, 'total_dur']\n",
    "    vec_b = two_week_interactions_copied.loc[groups == 1, 'total_dur']\n",
    "\n",
    "    sample_a_mean = calc_bootstrap_mean(vec_a, size=bootstrap_size)\n",
    "    sample_b_mean = calc_bootstrap_mean(vec_b, size=bootstrap_size)\n",
    "\n",
    "    diff_means = sample_a_mean - sample_b_mean\n",
    "    values.append(diff_means)\n",
    "\n",
    "    confidence_interval = np.percentile(diff_means, [100 * (1 - confidence_level) / 2, 100 * (1 + confidence_level) / 2])\n",
    "    correctness.append(not (confidence_interval[0] <= 0 <= confidence_interval[1]))\n",
    "\n",
    "test_correctness = collections.Counter(correctness)\n",
    "\n",
    "significance_percentage = test_correctness[1] / (test_correctness[1] + test_correctness[0]) * 100\n",
    "print(f'significance: {significance_percentage:.3f}%')"
   ]
  },
  {
   "cell_type": "code",
   "execution_count": 9,
   "id": "fbb01431",
   "metadata": {
    "ExecuteTime": {
     "end_time": "2024-03-04T15:11:53.912515Z",
     "start_time": "2024-03-04T15:11:53.878727Z"
    }
   },
   "outputs": [
    {
     "name": "stdout",
     "output_type": "stream",
     "text": [
      "p_value 0.551029213659362\n"
     ]
    }
   ],
   "source": [
    "p_values = [get_p_value(dist) for dist in values]\n",
    "print('p_value', sts.kstest(p_values, sts.uniform(loc=0.0, scale=1.0).cdf)[1])"
   ]
  },
  {
   "cell_type": "markdown",
   "id": "ff0e25ef",
   "metadata": {},
   "source": [
    "Корректность на уровне 6.3%, когда на семинаре было 5% (довольно близкий результат)\\\n",
    "P-value = 0.55.. нам явно говорит о том, что распределение является равномерным"
   ]
  },
  {
   "cell_type": "markdown",
   "id": "99402803",
   "metadata": {},
   "source": [
    "## Задание ДТ3\n",
    "На двух неделях посчитайте мощность. Для этого нужно в одну из групп докинуть эффект. Докиньте эффект в 1%, 3% и 5% и сравните полученную мощность (1.5 балла)"
   ]
  },
  {
   "cell_type": "code",
   "execution_count": 12,
   "id": "4078461d",
   "metadata": {
    "ExecuteTime": {
     "end_time": "2024-03-05T08:10:56.275548Z",
     "start_time": "2024-03-05T00:18:40.164680Z"
    }
   },
   "outputs": [
    {
     "name": "stderr",
     "output_type": "stream",
     "text": [
      "100%|████████████████████████████████████████████████████████████████████████████| 1000/1000 [7:52:15<00:00, 28.34s/it]"
     ]
    },
    {
     "name": "stdout",
     "output_type": "stream",
     "text": [
      "significance for 1 percent: 16.500%\n",
      "significance for 3 percen: 16.500%\n",
      "significance for 5 percen: 16.500%\n"
     ]
    },
    {
     "name": "stderr",
     "output_type": "stream",
     "text": [
      "\n"
     ]
    }
   ],
   "source": [
    "correctness_1 = []\n",
    "correctness_3 = []\n",
    "correctness_5 = []\n",
    "\n",
    "values_1 = []\n",
    "values_3 = []\n",
    "values_5 = []\n",
    "\n",
    "\n",
    "num_iterations = 1000\n",
    "bootstrap_size = 1000\n",
    "confidence_level = 0.95\n",
    "\n",
    "two_week_interactions_copied['user_id'] = two_week_interactions_copied['user_id'].astype(str)\n",
    "two_week_interactions_copied = two_week_interactions_copied.drop_duplicates()\n",
    "\n",
    "for _ in tqdm(range(num_iterations), position=0, leave=True):\n",
    "    groups = pd.util.hash_pandas_object(two_week_interactions_copied['user_id'] + '#' + salt_generator()) % 2\n",
    "    \n",
    "    \n",
    "    vec_a = two_week_interactions_copied.loc[groups == 0, 'total_dur']\n",
    "    vec_b = two_week_interactions_copied.loc[groups == 1, 'total_dur']\n",
    "    \n",
    "    vec_b_1 = vec_b * 1.01\n",
    "    vec_b_3 = vec_b * 1.03\n",
    "    vec_b_5 = vec_b * 1.05\n",
    "    \n",
    "\n",
    "    sample_a_mean = calc_bootstrap_mean(vec_a, size=bootstrap_size)\n",
    "    sample_b_1_mean = calc_bootstrap_mean(vec_b_1, size=1000)\n",
    "    sample_b_3_mean = calc_bootstrap_mean(vec_b_3, size=1000)\n",
    "    sample_b_5_mean = calc_bootstrap_mean(vec_b_5, size=1000)\n",
    "\n",
    "    diff_means_1 = sample_a_mean - sample_b_1_mean\n",
    "    values_1.append(diff_means_1)\n",
    "    diff_means_3 = sample_a_mean - sample_b_3_mean\n",
    "    values_3.append(diff_means_3)\n",
    "    diff_means_5 = sample_a_mean - sample_b_5_mean\n",
    "    values_5.append(diff_means_5)\n",
    "\n",
    "    confidence_interval = np.percentile(diff_means_1, [100 * (1 - confidence_level) / 2, 100 * (1 + confidence_level) / 2])\n",
    "    correctness_1.append(not (confidence_interval[0] <= 0 <= confidence_interval[1]))\n",
    "    \n",
    "    confidence_interval = np.percentile(diff_means_3, [100 * (1 - confidence_level) / 2, 100 * (1 + confidence_level) / 2])\n",
    "    correctness_3.append(not (confidence_interval[0] <= 0 <= confidence_interval[1]))\n",
    "    \n",
    "    confidence_interval = np.percentile(diff_means_5, [100 * (1 - confidence_level) / 2, 100 * (1 + confidence_level) / 2])\n",
    "    correctness_5.append(not (confidence_interval[0] <= 0 <= confidence_interval[1]))\n",
    "\n",
    "    \n",
    "test_correctness_1 = collections.Counter(correctness_1)    \n",
    "test_correctness_3 = collections.Counter(correctness_3)    \n",
    "test_correctness_5 = collections.Counter(correctness_5)\n",
    "\n",
    "significance_percentage = test_correctness_1[1] / (test_correctness_1[1] + test_correctness_1[0]) * 100\n",
    "print(f'significance for 1 percent: {significance_percentage:.3f}%')\n",
    "\n",
    "significance_percentage = test_correctness_1[1] / (test_correctness_3[1] + test_correctness_3[0]) * 100\n",
    "print(f'significance for 3 percen: {significance_percentage:.3f}%')\n",
    "\n",
    "significance_percentage = test_correctness_1[1] / (test_correctness_5[1] + test_correctness_5[0]) * 100\n",
    "print(f'significance for 5 percen: {significance_percentage:.3f}%')"
   ]
  },
  {
   "cell_type": "markdown",
   "id": "5e581bb4",
   "metadata": {},
   "source": [
    "Несущественная ошибка испортила \"output\", но ниже всё исправленное"
   ]
  },
  {
   "cell_type": "code",
   "execution_count": 15,
   "id": "7f8ea358",
   "metadata": {
    "ExecuteTime": {
     "end_time": "2024-03-05T08:34:11.515218Z",
     "start_time": "2024-03-05T08:34:11.505232Z"
    }
   },
   "outputs": [
    {
     "name": "stdout",
     "output_type": "stream",
     "text": [
      "significance for 1 percent: 16.500%\n",
      "significance for 3 percen: 72.300%\n",
      "significance for 5 percen: 98.600%\n"
     ]
    }
   ],
   "source": [
    "significance_percentage = test_correctness_1[1] / (test_correctness_1[1] + test_correctness_1[0]) * 100\n",
    "print(f'significance for 1 percent: {significance_percentage:.3f}%')\n",
    "\n",
    "significance_percentage = test_correctness_3[1] / (test_correctness_3[1] + test_correctness_3[0]) * 100\n",
    "print(f'significance for 3 percen: {significance_percentage:.3f}%')\n",
    "\n",
    "significance_percentage = test_correctness_5[1] / (test_correctness_5[1] + test_correctness_5[0]) * 100\n",
    "print(f'significance for 5 percen: {significance_percentage:.3f}%')"
   ]
  },
  {
   "cell_type": "markdown",
   "id": "e30323a4",
   "metadata": {},
   "source": [
    "## ДТ4\n",
    "Посчитайте MDE, который можно зафиксировать на 2х неделях. В качестве alpha и beta подставьте ваши вычисленные ошибки 1 и 2 рода. Учитывайте что у нас формула для MDE работает для t-test или z-test"
   ]
  },
  {
   "cell_type": "code",
   "execution_count": 18,
   "id": "0637a272",
   "metadata": {
    "ExecuteTime": {
     "end_time": "2024-03-06T01:20:51.628427Z",
     "start_time": "2024-03-06T01:20:51.611044Z"
    }
   },
   "outputs": [],
   "source": [
    "from scipy.stats import norm\n",
    "\n",
    "def get_mde(metric_vec, alpha=0.063, beta=0.165):\n",
    "    \n",
    "    metric_mean, metric_std, metric_n = metric_vec.mean(), metric_vec.std(), metric_vec.count()\n",
    "    \n",
    "    z_alpha = norm.ppf(1 - (alpha / 2), loc=0, scale=1)\n",
    "    z_beta = norm.ppf(1 - beta, loc=0, scale=1)\n",
    "    \n",
    "    mde = (z_alpha + z_beta)*metric_std / np.sqrt(metric_n)\n",
    "    \n",
    "    return mde*100/metric_mean"
   ]
  },
  {
   "cell_type": "code",
   "execution_count": 19,
   "id": "87593a78",
   "metadata": {
    "ExecuteTime": {
     "end_time": "2024-03-06T01:20:52.723071Z",
     "start_time": "2024-03-06T01:20:52.677090Z"
    }
   },
   "outputs": [
    {
     "data": {
      "text/plain": [
       "1.6633224272958722"
      ]
     },
     "execution_count": 19,
     "metadata": {},
     "output_type": "execute_result"
    }
   ],
   "source": [
    "get_mde(two_week_data['total_dur'])"
   ]
  },
  {
   "cell_type": "markdown",
   "id": "d63a72d2",
   "metadata": {},
   "source": [
    "# A/B тест"
   ]
  },
  {
   "cell_type": "markdown",
   "id": "3aa343c4",
   "metadata": {},
   "source": [
    "## AB2\n",
    "Занулите для всех пользователей total_dur, у которых total_dur < 500. Их НЕ УБИРАЕМ, а просто обрабатываем эти значения, принимая за нулевые, но пользователей также учитываем в эксперименте"
   ]
  },
  {
   "cell_type": "code",
   "execution_count": 22,
   "id": "b453199e",
   "metadata": {
    "ExecuteTime": {
     "end_time": "2024-03-06T01:41:00.309863Z",
     "start_time": "2024-03-06T01:41:00.252284Z"
    }
   },
   "outputs": [],
   "source": [
    "two_week_interactions_copied = deepcopy(two_week_data)\n",
    "two_week_interactions_copied.loc[two_week_interactions_copied['total_dur'] < 500, 'total_dur'] = 0"
   ]
  },
  {
   "cell_type": "markdown",
   "id": "e2ce2435",
   "metadata": {},
   "source": [
    "## AB3\n",
    "Разбейте их самостоятельно на две равные группы, используйте функцию groups_splitter и соль = 'kiontestmodel20210805' "
   ]
  },
  {
   "cell_type": "code",
   "execution_count": 51,
   "id": "49219f4b",
   "metadata": {
    "ExecuteTime": {
     "end_time": "2024-03-06T03:13:01.505876Z",
     "start_time": "2024-03-06T03:12:58.967987Z"
    }
   },
   "outputs": [],
   "source": [
    "ab_groups = deepcopy(groups_splitter(two_week_interactions_copied.copy(), columns=['user_id', 'total_dur', 'group'], \n",
    "                         user_salt='kiontestmodel20210805').drop_duplicates())"
   ]
  },
  {
   "cell_type": "markdown",
   "id": "f4542724",
   "metadata": {},
   "source": [
    "## AB4\n",
    "Оказалось, что модель в группе В показала себя лучше, чем в группе А на 2.5%, причем эффект распространился неравномерно и преимущественно на 10% самых смотрящих пользователей, докиньте такой эффект самостоятельно. Нужно метрику total_dur увеличить на 2.5% для 10% пользователей с самым продолжительным смотрением."
   ]
  },
  {
   "cell_type": "code",
   "execution_count": 52,
   "id": "88cd3d4d",
   "metadata": {
    "ExecuteTime": {
     "end_time": "2024-03-06T03:13:05.335745Z",
     "start_time": "2024-03-06T03:13:05.322683Z"
    }
   },
   "outputs": [
    {
     "data": {
      "text/html": [
       "<div>\n",
       "<style scoped>\n",
       "    .dataframe tbody tr th:only-of-type {\n",
       "        vertical-align: middle;\n",
       "    }\n",
       "\n",
       "    .dataframe tbody tr th {\n",
       "        vertical-align: top;\n",
       "    }\n",
       "\n",
       "    .dataframe thead th {\n",
       "        text-align: right;\n",
       "    }\n",
       "</style>\n",
       "<table border=\"1\" class=\"dataframe\">\n",
       "  <thead>\n",
       "    <tr style=\"text-align: right;\">\n",
       "      <th></th>\n",
       "      <th>user_id</th>\n",
       "      <th>total_dur</th>\n",
       "      <th>group</th>\n",
       "    </tr>\n",
       "  </thead>\n",
       "  <tbody>\n",
       "    <tr>\n",
       "      <th>6</th>\n",
       "      <td>1016458</td>\n",
       "      <td>1672</td>\n",
       "      <td>A</td>\n",
       "    </tr>\n",
       "    <tr>\n",
       "      <th>9</th>\n",
       "      <td>203219</td>\n",
       "      <td>6975</td>\n",
       "      <td>B</td>\n",
       "    </tr>\n",
       "    <tr>\n",
       "      <th>22</th>\n",
       "      <td>505244</td>\n",
       "      <td>15991</td>\n",
       "      <td>A</td>\n",
       "    </tr>\n",
       "    <tr>\n",
       "      <th>24</th>\n",
       "      <td>916352</td>\n",
       "      <td>1812</td>\n",
       "      <td>A</td>\n",
       "    </tr>\n",
       "    <tr>\n",
       "      <th>30</th>\n",
       "      <td>1057871</td>\n",
       "      <td>5033</td>\n",
       "      <td>A</td>\n",
       "    </tr>\n",
       "    <tr>\n",
       "      <th>...</th>\n",
       "      <td>...</td>\n",
       "      <td>...</td>\n",
       "      <td>...</td>\n",
       "    </tr>\n",
       "    <tr>\n",
       "      <th>5476215</th>\n",
       "      <td>204332</td>\n",
       "      <td>822</td>\n",
       "      <td>B</td>\n",
       "    </tr>\n",
       "    <tr>\n",
       "      <th>5476222</th>\n",
       "      <td>1007900</td>\n",
       "      <td>0</td>\n",
       "      <td>A</td>\n",
       "    </tr>\n",
       "    <tr>\n",
       "      <th>5476246</th>\n",
       "      <td>648596</td>\n",
       "      <td>0</td>\n",
       "      <td>B</td>\n",
       "    </tr>\n",
       "    <tr>\n",
       "      <th>5476248</th>\n",
       "      <td>697262</td>\n",
       "      <td>18307</td>\n",
       "      <td>A</td>\n",
       "    </tr>\n",
       "    <tr>\n",
       "      <th>5476250</th>\n",
       "      <td>319709</td>\n",
       "      <td>3921</td>\n",
       "      <td>A</td>\n",
       "    </tr>\n",
       "  </tbody>\n",
       "</table>\n",
       "<p>716079 rows × 3 columns</p>\n",
       "</div>"
      ],
      "text/plain": [
       "         user_id  total_dur group\n",
       "6        1016458       1672     A\n",
       "9         203219       6975     B\n",
       "22        505244      15991     A\n",
       "24        916352       1812     A\n",
       "30       1057871       5033     A\n",
       "...          ...        ...   ...\n",
       "5476215   204332        822     B\n",
       "5476222  1007900          0     A\n",
       "5476246   648596          0     B\n",
       "5476248   697262      18307     A\n",
       "5476250   319709       3921     A\n",
       "\n",
       "[716079 rows x 3 columns]"
      ]
     },
     "execution_count": 52,
     "metadata": {},
     "output_type": "execute_result"
    }
   ],
   "source": [
    "ab_groups"
   ]
  },
  {
   "cell_type": "code",
   "execution_count": 53,
   "id": "72fb4496",
   "metadata": {
    "ExecuteTime": {
     "end_time": "2024-03-06T03:13:06.388118Z",
     "start_time": "2024-03-06T03:13:06.026244Z"
    }
   },
   "outputs": [
    {
     "data": {
      "text/plain": [
       "46798.40000000001"
      ]
     },
     "execution_count": 53,
     "metadata": {},
     "output_type": "execute_result"
    }
   ],
   "source": [
    "ab_groups[ab_groups['group'] == 'B'][['user_id','total_dur']].groupby(['user_id']).sum()\\\n",
    "                                                                .reset_index()['total_dur'].quantile(0.9)"
   ]
  },
  {
   "cell_type": "code",
   "execution_count": 44,
   "id": "ab42a5f5",
   "metadata": {
    "ExecuteTime": {
     "end_time": "2024-03-06T02:35:00.999154Z",
     "start_time": "2024-03-06T02:35:00.243468Z"
    }
   },
   "outputs": [],
   "source": [
    "df_temp = ab_groups[ab_groups['group'] == 'B'][['user_id','total_dur']].groupby(['user_id']).sum().reset_index()\n",
    "best_10_b_users = set(df_temp[df_temp['total_dur']>46798.4]['user_id'])\n",
    "\n",
    "temp_list = []\n",
    "for i,j in zip(ab_groups['user_id'],ab_groups['total_dur']):\n",
    "    if i in best_10_b_users:\n",
    "        temp_list += [j * 1.025]\n",
    "    else:\n",
    "        temp_list += [j]\n",
    "        \n",
    "ab_groups['total_dur'] = temp_list"
   ]
  },
  {
   "cell_type": "markdown",
   "id": "3f9366cc",
   "metadata": {},
   "source": [
    "## AB5"
   ]
  },
  {
   "cell_type": "code",
   "execution_count": 47,
   "id": "34f44e40",
   "metadata": {
    "ExecuteTime": {
     "end_time": "2024-03-06T02:37:48.111815Z",
     "start_time": "2024-03-06T02:37:34.436849Z"
    }
   },
   "outputs": [
    {
     "name": "stdout",
     "output_type": "stream",
     "text": [
      "[-286.23272422  106.09910902]\n"
     ]
    }
   ],
   "source": [
    "sample_a_mean = calc_bootstrap_mean(ab_groups.loc[ab_groups['group'] == 'A']['total_dur'], size=1000)\n",
    "sample_b_mean = calc_bootstrap_mean(ab_groups.loc[ab_groups['group'] == 'B']['total_dur'], size=1000)\n",
    "diff_means = sample_a_mean - sample_b_mean\n",
    "\n",
    "confidence_interval = np.percentile(diff_means, [100 * (1 - confidence_level) / 2, 100 * (1 + confidence_level) / 2])\n",
    "print(confidence_interval)"
   ]
  },
  {
   "cell_type": "code",
   "execution_count": 48,
   "id": "3bc8803b",
   "metadata": {
    "ExecuteTime": {
     "end_time": "2024-03-06T02:40:31.549457Z",
     "start_time": "2024-03-06T02:40:31.539460Z"
    }
   },
   "outputs": [
    {
     "data": {
      "text/plain": [
       "0.37"
      ]
     },
     "execution_count": 48,
     "metadata": {},
     "output_type": "execute_result"
    }
   ],
   "source": [
    "get_p_value(diff_means)"
   ]
  },
  {
   "cell_type": "markdown",
   "id": "7eb31013",
   "metadata": {},
   "source": [
    "P-value > 0.05 => между выборками есть статистически значимая разница, что видно даже на графике"
   ]
  },
  {
   "cell_type": "code",
   "execution_count": 68,
   "id": "9be3be0b",
   "metadata": {
    "ExecuteTime": {
     "end_time": "2024-03-06T03:42:37.198458Z",
     "start_time": "2024-03-06T03:42:37.134543Z"
    }
   },
   "outputs": [
    {
     "data": {
      "application/vnd.plotly.v1+json": {
       "config": {
        "plotlyServerURL": "https://plot.ly"
       },
       "data": [
        {
         "alignmentgroup": "True",
         "bingroup": "x",
         "hovertemplate": "A",
         "legendgroup": "wide_variable_0",
         "marker": {
          "color": "red",
          "opacity": 0.7,
          "pattern": {
           "shape": ""
          }
         },
         "name": "A",
         "nbinsx": 40,
         "offsetgroup": "wide_variable_0",
         "orientation": "v",
         "showlegend": true,
         "type": "histogram",
         "x": [
          7912.636126267214,
          7956.371068779295,
          7898.9824805354765,
          7901.679098696421,
          7974.007886127661,
          7974.447352434668,
          7878.597442442415,
          7916.863508685887,
          8043.35339047757,
          8025.83586822643,
          7975.705217662697,
          7903.277265659397,
          7847.442896633209,
          8030.755354485618,
          7938.868290521599,
          7827.2732167041,
          7870.499838376182,
          7863.2438875544085,
          7916.778207536128,
          7938.144876246315,
          7924.157315707049,
          7942.544282139454,
          8021.284237776502,
          7914.757681311271,
          7906.886785302265,
          7959.502839563282,
          7999.14326836799,
          7945.125467455094,
          7911.007086368424,
          7948.321990871041,
          7817.348310473781,
          8001.427336160821,
          7929.243444482218,
          7944.3946992961,
          7835.829341968132,
          7936.736625629079,
          7933.593546751083,
          7947.050549242319,
          7887.650028702161,
          7916.096940851256,
          8001.217743508574,
          8000.444947583724,
          7954.291561007418,
          7923.29461514025,
          7868.576339387724,
          7900.012261117211,
          7951.190819209827,
          7891.900096974291,
          7900.65143873064,
          8006.242733894744,
          7997.434350077189,
          8035.819845175529,
          7972.655627016815,
          7924.309200296496,
          7918.568862892844,
          7739.06836687492,
          8034.3345417964765,
          7979.336294578914,
          8064.309336840756,
          7985.700764647855,
          7899.781122338083,
          7960.652274715904,
          8151.183378940974,
          7978.816481728149,
          7981.663972936371,
          7929.100627546271,
          7959.538067982322,
          8135.376310406902,
          8008.9641808180395,
          7884.5831749605695,
          8039.046954505682,
          7944.4699992754795,
          7914.66409833416,
          7923.369421888324,
          8011.6550139609535,
          7992.6657145723375,
          7813.61743642332,
          7931.624154958228,
          7925.779230224769,
          7920.8220772561845,
          8036.671354686255,
          7946.797446343679,
          7946.180363820787,
          7936.368544103796,
          7941.749580614059,
          7953.058610926884,
          7955.773121959103,
          7932.2424190069605,
          8017.0542275774815,
          7875.035431842121,
          7896.756196044118,
          7935.87344855068,
          7833.665522295727,
          7959.3553745492645,
          7907.428230665054,
          7913.542760646273,
          7945.992152884985,
          7964.243505787805,
          8009.158672789794,
          7827.77062514978,
          7897.42205273395,
          7837.111099655017,
          7912.901342592335,
          7924.694046112947,
          7895.686279809841,
          7812.147504026662,
          7958.0390488716985,
          7879.6302325711,
          7952.090105278411,
          7862.116026394841,
          7905.835614644233,
          7962.727491096757,
          7886.877213270987,
          7944.64427991016,
          7895.509142892174,
          7844.727003438686,
          7891.590785213092,
          7928.356564434957,
          7864.2610865579145,
          7928.140593215144,
          7838.770332554938,
          7782.312906497835,
          7875.0050382045265,
          7927.702631681612,
          7918.46915771698,
          7916.31945783569,
          8096.078376405152,
          7999.804543858573,
          7865.71399829459,
          7936.000440285573,
          7993.817785865162,
          8010.36166394507,
          7933.213853390477,
          7929.110285962693,
          7858.788682431491,
          7924.899355734023,
          7931.820101544344,
          7913.88593817053,
          7987.126874696955,
          7937.636864720865,
          7859.025313633805,
          7900.610040740348,
          7905.0873771798315,
          7850.745119239365,
          8047.54089918575,
          7827.951080928947,
          7888.296610358415,
          7927.273010494402,
          7978.145990893334,
          7890.345030624927,
          7903.04932034398,
          7809.404862090298,
          7926.853134108756,
          7796.015111826962,
          7970.113412547582,
          7957.263382730774,
          7842.204133668471,
          7982.616645023937,
          7809.194112991769,
          7877.726446115176,
          8082.586454809423,
          7876.167709790502,
          7858.0821466986945,
          7986.109093290383,
          7979.3901376031745,
          7892.373487563326,
          8000.180266289173,
          7951.127529552079,
          7913.9202024198985,
          7945.146160877004,
          7895.846167564886,
          7941.532664730897,
          7948.035359390065,
          7912.862667127388,
          7932.242850932681,
          7956.740989472159,
          8009.599707962481,
          7869.385060386002,
          7937.994984088414,
          7980.501123006872,
          7889.760551527345,
          7909.549041682225,
          7877.26852404015,
          7899.1279781975045,
          7899.100596893479,
          7967.272143856344,
          8004.201380490334,
          7877.405051580291,
          7958.642137001265,
          8017.9269014484835,
          7964.298717041281,
          7973.951981006415,
          7898.961291095642,
          7839.7419424953605,
          7983.7663170390515,
          7689.227998261151,
          7949.48573809139,
          7955.265366802468,
          7936.80232013777,
          7821.163613462707,
          7896.552137614321,
          7920.519993980906,
          7960.128975806587,
          7936.6888044853395,
          7873.07944646629,
          7976.292522390472,
          7844.441528403992,
          7859.958599223091,
          8013.955082511746,
          7876.898101756126,
          8048.2650881407135,
          7924.9941899024125,
          7864.531385673442,
          8017.141069726745,
          7899.050147969392,
          7749.349673129762,
          7905.385729174213,
          7864.336888128452,
          8011.840226496274,
          7915.579463185995,
          7978.021256318655,
          7829.577141933578,
          7972.5217969224595,
          7939.098473490907,
          7873.894144759209,
          7979.95257734257,
          8006.032851434272,
          7976.229948893434,
          7923.826739267342,
          8072.124720641591,
          7972.321642543848,
          7920.076687714918,
          7972.275638274749,
          7922.972418059511,
          7788.847597099689,
          7949.759980270748,
          7924.258843330788,
          7973.818956244531,
          7872.074115666921,
          7792.671154049791,
          8030.370583907841,
          7982.0159227326685,
          7944.987613484999,
          8004.791162521109,
          8011.737620451543,
          7883.561495076046,
          7916.242639149747,
          7824.002808910488,
          7930.628947940411,
          7970.339086769697,
          8084.742653082835,
          7891.457278366373,
          7805.8035601825795,
          7861.018770655803,
          7980.603570214403,
          7754.633111147027,
          7995.104826978916,
          7909.947527991573,
          7949.564657886964,
          7850.28020554091,
          7978.591437281599,
          8041.31977551009,
          8043.76434132721,
          7954.73596520072,
          7949.868298881452,
          7985.605740989472,
          7916.513066449682,
          7862.794952320974,
          7889.331064097777,
          7954.762630344036,
          8031.582040807228,
          7993.314051797647,
          7938.8477029911555,
          7882.271965512821,
          7910.415434517275,
          7853.042373306434,
          7845.025589508942,
          7949.018497567283,
          7895.289153369857,
          7970.4485060943325,
          7927.230088224312,
          7939.285279971465,
          7911.682503943064,
          7893.52272765272,
          7924.906035256286,
          7937.8228686555685,
          7874.914353309666,
          7923.330269911776,
          8007.009895278912,
          7934.844467728182,
          7932.0906458822155,
          7834.825359891656,
          7871.400944106025,
          7812.951666118632,
          8047.32834435905,
          7907.882421459184,
          7905.798031533364,
          7843.583846535398,
          8048.589938081358,
          8024.774183660389,
          7882.058190147635,
          8068.85844818842,
          7939.263811869876,
          7973.113030780977,
          7894.453095653434,
          7995.285026389268,
          7906.542944563031,
          7946.622797875483,
          7996.056175423148,
          7897.829406060336,
          8022.208218849796,
          7897.296108767257,
          7896.421840951017,
          7898.293737355722,
          7897.491027091496,
          7881.389978765974,
          7881.546099014095,
          7902.525009892493,
          7913.16598487424,
          7977.909329038227,
          8008.290596837746,
          8006.186870572761,
          7918.293021195013,
          7993.111442408976,
          8067.515908799581,
          7935.546360956144,
          7918.343525851451,
          7952.713967641797,
          8040.148317718987,
          7870.646665254781,
          7893.205797279146,
          7994.46322500822,
          8029.7035624118735,
          7946.813814935155,
          7858.035702144023,
          7902.352780208327,
          7960.331323253209,
          7937.117046296864,
          7895.014298134638,
          7919.478389780916,
          8017.295322941108,
          7970.760445635879,
          7843.177705387647,
          7954.479515574406,
          7851.032188219296,
          7995.6880883246295,
          7938.195754309504,
          7922.401384391598,
          7918.720003455406,
          7896.881741524503,
          7860.610428080187,
          7809.1856305279525,
          7891.201062815932,
          7913.689866186625,
          7946.247593755747,
          7856.493409649499,
          8007.450584911024,
          7943.278360800094,
          7873.326390940149,
          7840.649089612047,
          7970.97179385718,
          7905.193575174581,
          7906.60475452686,
          7909.729232732724,
          7887.305494095157,
          7894.315659675972,
          7961.599866799681,
          7896.243854114998,
          7942.773693215701,
          7890.389516187462,
          7983.804644176806,
          8013.205329127399,
          7968.195539739952,
          7882.953363168718,
          7926.646414459201,
          7979.233577069482,
          7983.5782370742745,
          7786.531929063864,
          7916.245308729358,
          7891.2243032062825,
          7919.7844328397305,
          7906.980471384224,
          7942.689083147095,
          7919.78936515279,
          8057.860239983504,
          7911.605083347731,
          7914.883722809579,
          7994.53329729308,
          7783.325050577108,
          7926.336291792297,
          7907.933157404879,
          7913.677850291759,
          7896.926550334672,
          7917.285639445129,
          7965.465730177396,
          7958.977202681841,
          7883.34286820971,
          7919.7459440781595,
          7951.690771837329,
          7868.001546572739,
          7897.5582124405755,
          7946.078005785018,
          7877.768774835729,
          7922.7156758383535,
          7902.176395677398,
          7951.606785971053,
          7962.886331083604,
          7920.2086479888985,
          7906.490656471362,
          7960.320360699776,
          7838.172238044018,
          7979.135385026947,
          7894.77825212201,
          7903.880376081905,
          8012.321734502227,
          7867.240356909975,
          7876.718755050744,
          7901.968015203785,
          7981.039218855369,
          7960.625213872897,
          7960.061539661928,
          7974.322328051764,
          7880.21643101171,
          7944.685126150176,
          8047.534085905846,
          7967.584022092304,
          8005.861123341266,
          7927.560349776235,
          7846.2298457885845,
          8008.320589202414,
          7895.323144530706,
          7908.5356714912305,
          7967.212125687598,
          7947.932995781061,
          7954.99506768694,
          7797.688378132855,
          7923.3803175629355,
          7867.856165948649,
          7941.580396702874,
          7980.569247446065,
          7988.292720240318,
          7915.9131550641205,
          7821.134323325661,
          7957.121803053018,
          7934.650533079937,
          7907.925235051191,
          7993.119281164138,
          7983.66413177357,
          7893.976500454219,
          7918.938750146297,
          7885.617692792135,
          7863.384299639411,
          7864.2098768872365,
          7859.147127833294,
          7900.3017795339665,
          7871.3694692608215,
          8013.453658550178,
          7970.036248321063,
          8006.839042183817,
          7900.229204866549,
          7929.392171833984,
          7720.400395142368,
          7907.276220677817,
          7906.192332343156,
          7862.619297883843,
          7864.419539204922,
          8020.052260225493,
          7930.761652241276,
          7868.698312424413,
          7865.48578267727,
          8010.657588795568,
          7814.324217378462,
          7946.1888797240135,
          7923.453485779891,
          7850.1972312168045,
          7889.141992097153,
          7886.828976921233,
          7873.944454352418,
          7897.508039391626,
          7890.163867044904,
          8015.278385879652,
          7964.425577805148,
          7868.815534278183,
          7803.671427138311,
          7902.449286347246,
          7815.639821322083,
          7915.380612944396,
          7956.892573106911,
          7903.925034414727,
          7970.111486994856,
          7958.400459234572,
          7910.529674690268,
          7920.913113264857,
          7964.494398898729,
          7925.434759709969,
          7902.117227427005,
          7778.630207491543,
          7949.08596993797,
          7976.374329121825,
          7887.056507030636,
          7885.742059533297,
          8046.489516744785,
          7935.062829865852,
          7911.717551231964,
          7978.298485752024,
          8006.432714332689,
          7910.68471373078,
          7929.649465805416,
          7910.787573357707,
          7941.602405408267,
          7972.399542437399,
          7926.950364768237,
          8017.939625144208,
          7857.603854449392,
          7960.733284474639,
          7921.165179541768,
          7976.725877645196,
          7939.523457746518,
          7972.1436166951835,
          7876.435971888603,
          7973.353738804764,
          7913.65362065218,
          8011.831362265854,
          7983.6265653824075,
          7877.261657814512,
          8036.004893300414,
          7921.847792162916,
          7922.930772060257,
          7922.497076838193,
          7880.426411003796,
          7925.473942339309,
          8024.516683479259,
          7952.247479504428,
          7973.314185555289,
          7913.2290571758185,
          7864.018146453472,
          7933.605933266083,
          7817.322445089701,
          7971.033757084975,
          7896.063476361123,
          7937.716528543324,
          7904.548573530477,
          7907.588929325806,
          8051.329447859599,
          7970.512171945449,
          7912.520214123692,
          7872.3143527523425,
          7915.4058318332045,
          7938.792959889427,
          7867.868973242898,
          7866.770797920069,
          7952.222422239437,
          7911.113540731989,
          7815.0313773135895,
          7940.0899826672385,
          8022.156184340324,
          7861.303387412291,
          7926.364603826583,
          8075.31394590618,
          8118.376048464853,
          7959.634359551689,
          7934.442829754387,
          7972.307015588339,
          7827.437367983994,
          7936.139996878988,
          7866.139746083409,
          7964.937270452379,
          7854.446014858245,
          7924.87869853814,
          7909.615683640883,
          7931.22913520111,
          7884.424922950025,
          7837.812521944613,
          7887.887682593115,
          7810.418611261279,
          7974.226875254279,
          7919.91081430538,
          7872.282900200079,
          7980.717584671374,
          7932.647682370185,
          7987.507459775175,
          7917.84634590841,
          7938.422763321425,
          7886.765857247156,
          7983.412525288554,
          7880.828001605092,
          7923.111241772512,
          7970.684986819299,
          7966.698423889115,
          7887.151792631069,
          7927.320254808308,
          7973.133242118052,
          7931.910209609372,
          7841.692725256229,
          7937.945783568988,
          7899.698560433375,
          7869.753008153643,
          7950.82849204978,
          7935.680427912991,
          7907.971392584253,
          7974.93465660512,
          7873.03837729687,
          7958.018904413445,
          7907.887810777522,
          7914.272322199868,
          7949.942144246471,
          7930.5426659012755,
          7957.604225069526,
          7892.97756772874,
          7928.036181442242,
          7990.973741702846,
          7912.467399361307,
          7935.464810593605,
          7993.182386905127,
          7911.154242067893,
          7889.296225805193,
          7926.442840900858,
          8005.407955235775,
          7916.394027721271,
          7863.795367526988,
          7954.284078939302,
          7858.649125838076,
          7907.5508892096595,
          7887.641320522323,
          8012.052550033718,
          7957.767916557525,
          7986.296716249882,
          7995.437231439734,
          7883.14341605872,
          7988.1027035763445,
          7924.5472721800825,
          7843.54509304516,
          7916.835090760133,
          7933.0608736603335,
          7994.573664234878,
          7913.844612632294,
          7962.460820157276,
          7823.4700550078305,
          7917.237782075361,
          7899.2460917688895,
          7929.4906481115095,
          7962.623859576768,
          7980.166054539679,
          7806.027389663878,
          8004.013760317452,
          7942.434210746312,
          7917.393838231278,
          7965.711791293492,
          8032.217924638715,
          7946.905101739407,
          7887.004503173957,
          7950.627100412977,
          7845.53169498799,
          7806.51379654348,
          7852.937866788535,
          7951.183267476272,
          7970.867814009998,
          7979.196233607722,
          7969.528273021641,
          7917.302927620396,
          7897.45087193263,
          7897.897973571719,
          8008.705847438263,
          7922.62028991969,
          7933.466463057811,
          7901.249683718908,
          8064.698816802189,
          7927.207006671162,
          7911.497035038929,
          7924.47078231501,
          7866.476096394675,
          7893.226465621499,
          7926.226699697373,
          7885.103525628521,
          7978.59281108405,
          8041.914442481428,
          7932.124146598376,
          7954.165647693517,
          7893.829542604596,
          7967.43334968149,
          7912.465412502996,
          7905.404332632964,
          7907.199276594085,
          8009.549189372955,
          7876.216124483779,
          8029.2434472688365,
          8040.374479599173,
          7909.992230910277,
          7937.806709060408,
          8068.155214597417,
          7869.656164834001,
          7957.385116118353,
          7892.080979105942,
          7857.891773347676,
          7870.011405625623,
          7954.214786907356,
          7897.309908097353,
          7860.987184345897,
          7890.803532316404,
          7923.267855251938,
          7960.137190755117,
          7816.522574388756,
          7980.3408924978685,
          7827.201595059884,
          7894.313307770762,
          7907.812789459897,
          8014.797532728823,
          7921.196724052411,
          7955.470801821333,
          7884.169153258392,
          7862.624550657921,
          7965.207926254953,
          7933.756000980889,
          8081.472746880381,
          7983.411828634167,
          7995.16598487424,
          7827.415077830228,
          7907.6349531012265,
          7835.203857793334,
          7960.376965262026,
          7870.4199655574075,
          7947.292578122823,
          7962.570791232187,
          7949.778235402304,
          8014.206385255449,
          8026.749745024495,
          7912.722071125626,
          7908.367298485752,
          7924.562188943816,
          7920.002655646523,
          8054.711063986312,
          7929.543908732702,
          7986.502154055364,
          7811.710693366178,
          7894.908724342219,
          7940.365498330816,
          7894.719273361608,
          7848.050125676451,
          7946.158862279787,
          7905.522189835534,
          7950.587522083944,
          8013.252066276912,
          7799.602636697524,
          7932.853407197275,
          8087.99811345992,
          7913.586895094996,
          7987.350461742528,
          7908.200761861238,
          8033.528601842511,
          7908.867262259724,
          7976.400902306762,
          7971.949977428398,
          7822.194015460154,
          7973.844796549053,
          8051.180051719622,
          7877.929153035462,
          7904.082325042217,
          7857.952747326241,
          8036.427336160821,
          7916.775746952833,
          7907.184805689159,
          7879.773927291575,
          7922.432131929621,
          7893.4352362215695,
          7899.99197732808,
          7927.143900930173,
          7921.603957554242,
          7985.853897641964,
          7851.701907161049,
          7902.073023312842,
          7898.436325789031,
          7941.983731726756,
          7911.530976040663,
          7942.142596793161,
          7904.414918993028,
          8058.0589843336365,
          7956.872456514833,
          7883.66093830986,
          8005.11503993223,
          8048.931722296842,
          7881.739532071181,
          7919.153910460405,
          7858.587329807333,
          8067.6406656672,
          7940.976656504801,
          7943.363533765445,
          7858.174737639958,
          7984.84641278723,
          7883.890034498325,
          7930.193421910616,
          7836.20890714433,
          7951.158293809808,
          7996.339621800266,
          7986.902944897424,
          7835.004717743509,
          7828.844554113326,
          7949.900698883681,
          7975.985573680955,
          7934.01614844869,
          7901.73840906431,
          7836.6673475302205,
          7992.2669050153545,
          7871.8011358253125,
          7938.245122025983,
          7944.758015705376,
          8039.350812856339,
          7941.929403831042,
          7809.699471657313,
          7913.824682743592,
          8033.5331941882305,
          7863.298154144536,
          7881.795857971677,
          7832.082692875733,
          7909.017692234812,
          7987.61332337582,
          7871.08074224345,
          7897.3611930067045,
          7964.377514225683,
          7995.231687742784,
          7923.840808899342,
          7946.281125124701,
          7933.436342508736,
          7858.231793634251,
          7784.223235931761,
          8012.263198814016,
          8018.630154545809,
          8102.307862720073,
          7797.405360894839,
          7915.282811028317,
          7846.28194439026,
          7918.99853423917,
          7888.619445574573,
          7919.404878810003,
          7923.546829107892,
          7835.6524251932515,
          7911.808289072558,
          7999.154150109514,
          7967.620236973957,
          7856.561874056033,
          7976.5641033500715,
          7829.229795629469,
          7888.171906436529,
          7965.713906336211,
          7882.338462567366,
          7935.951493348344,
          7878.4235993066895,
          8019.509870199355,
          7948.258294367131,
          7924.016577587792,
          7987.581249407844,
          7985.772787564998,
          7829.018230051998,
          7997.235483115885,
          7886.310041854996,
          8096.874415506969,
          7969.080873214475,
          7913.704858189033,
          8004.335631363938,
          7986.485896928591,
          7873.514027832736,
          7907.37659742851,
          7833.352337136137,
          8031.9034269822605,
          7939.2013609840105,
          7871.500270301902,
          8111.4361892447705,
          7936.649365487185,
          7823.5165831610275,
          7953.890405118459,
          7983.468572527295,
          7960.1040606590905,
          7974.100856048911,
          7976.744213588662,
          7928.866398408284,
          7968.736893144363,
          7967.343826806146,
          8004.316010789783,
          7907.637452697167,
          7961.2823958223025,
          8033.887977974575,
          7797.296521186653,
          8034.265246977913,
          7875.595611634685,
          7907.894969598003,
          7898.716506250383,
          7873.855109820597,
          7953.571844573619,
          7947.042791299065,
          7940.146595589342,
          7945.358679477677,
          7998.339828009965,
          7982.849048927431,
          8055.840332387741,
          7985.496369037335,
          8073.2329863065615,
          7919.080583406249,
          7924.310097587347,
          7979.086585780448,
          7867.452928456381,
          7934.209609371952,
          7870.64650641758,
          7888.92074581032,
          7891.413840572037,
          7959.717177825212,
          7997.724509415981,
          7938.51630728589,
          8044.643803398559,
          8008.458994922783,
          7798.687182673927,
          7855.097762903432,
          7916.113646623456,
          7885.086700031768,
          7952.927286001705,
          7943.105258904637,
          7898.700591877568,
          7929.747019712532,
          7935.09035607399,
          7947.278034765841,
          7956.273096879546,
          8032.104598476278,
          7958.181698610592,
          7778.372122120727,
          7817.451298285116,
          7949.341630951519,
          7845.635986936337,
          7990.152556164277,
          7906.125796275965,
          7959.939307469807,
          7957.613894632417,
          7970.9772500543395,
          7934.8318777901,
          7996.976062955264,
          7966.678273857626,
          8013.483322093976,
          7885.279695589899,
          7870.431251358476,
          7892.184089528449,
          7849.610088112847,
          7940.887621287528,
          7845.745233490685,
          7922.04858189033,
          7813.5864241566305,
          8043.352534985984,
          7995.2537159545,
          7849.783457523588,
          7859.331699446578,
          7851.934102068228,
          7861.434628738944,
          7879.815107925698,
          7925.701857001934,
          7916.800193948581,
          7894.967226591019,
          7922.292302247686,
          7962.7266244587,
          8156.127521192227,
          7968.47903348957,
          7976.142457462283,
          7934.072850542554,
          7908.0597534400795,
          7929.341001175952,
          7863.4418070657475,
          7928.241028484805,
          7896.370099036388,
          7822.469386219619,
          7966.71937367984,
          7945.706354602657,
          7946.596049133641,
          7860.1007585172965,
          7862.258051931404,
          7900.662604707154,
          7966.940051496692,
          7962.972011213349,
          7963.726747069872,
          7934.06440151815,
          7785.590099705176,
          7873.916526871353,
          7947.4916763733845,
          7924.812460639027,
          7987.8250700834315,
          7932.90500699441,
          7949.084908236684,
          7901.558962040695,
          7894.296451521214,
          7947.541370124116,
          7945.196977634608,
          7905.946979027916,
          7882.944813826081,
          7885.6781038739555,
          8022.5784934430885,
          7885.088101700394,
          7890.872476021156,
          7834.085903059149,
          7899.342216141204,
          7864.988053770572,
          7970.955411332617,
          7774.6530131695545,
          7963.297947934838,
          8064.991004798555,
          7947.616252110863,
          7910.544087076225
         ],
         "xaxis": "x",
         "yaxis": "y"
        },
        {
         "alignmentgroup": "True",
         "bingroup": "x",
         "hovertemplate": "B",
         "legendgroup": "wide_variable_1",
         "marker": {
          "color": "blue",
          "opacity": 0.7,
          "pattern": {
           "shape": ""
          }
         },
         "name": "B",
         "nbinsx": 40,
         "offsetgroup": "wide_variable_1",
         "orientation": "v",
         "showlegend": true,
         "type": "histogram",
         "x": [
          8007.101977907234,
          8099.467691219162,
          8089.872583848655,
          8022.908301163704,
          8007.404302168687,
          8130.432030381753,
          7932.903462282452,
          7851.748396300891,
          8092.237130585828,
          8008.739560804098,
          8052.951792517794,
          8007.106137377144,
          8013.841782747937,
          7941.353423510937,
          7905.389323765963,
          7977.121652492436,
          8030.950066695409,
          7908.920996455976,
          7961.093368530965,
          7932.261916572655,
          8139.74219537765,
          8010.842852743818,
          7989.904129026568,
          8013.197508825071,
          8022.977928299287,
          7894.629336391196,
          7894.444841568664,
          7924.888223256751,
          8127.619106729449,
          8001.5408935924825,
          7976.116823409037,
          8004.636662808179,
          7964.968162566033,
          8087.0596697142655,
          7920.495119617827,
          7995.082434333365,
          8061.527755647065,
          7932.807966356964,
          7898.426060337997,
          8002.1302394736,
          8022.263555754,
          8037.079835661957,
          7957.454078847545,
          8016.223832235506,
          7881.391171221738,
          7999.423455228001,
          8033.2580041486935,
          8008.842510868622,
          8094.84376632393,
          8046.545085675255,
          8005.926201917018,
          8166.152693220724,
          7986.189988060613,
          8020.586098591627,
          8159.288212409124,
          8054.382960478248,
          8059.699450550222,
          8028.317118464482,
          7941.111988726863,
          8047.5144584164955,
          8115.517003759578,
          7962.837144792718,
          8005.698800672414,
          7901.253355625789,
          8047.994852276319,
          7990.769003432047,
          8165.555366215872,
          7972.539730237026,
          7961.127553321333,
          7989.867291536611,
          7932.952429518422,
          8043.134142939524,
          7974.139730307009,
          7850.592244086993,
          7958.500787887609,
          8109.017881717481,
          8098.313806019241,
          8014.74461173895,
          8095.690858320199,
          7949.289479761829,
          8027.09141420857,
          8048.227699589328,
          7984.451945994216,
          8054.160478387329,
          7924.45595058801,
          8027.7411332900365,
          8050.426721763278,
          7906.88720903866,
          7892.695362604665,
          8038.14880123229,
          8004.680974872698,
          8044.817970108142,
          8007.940512385889,
          8119.765193465669,
          7965.11247610023,
          8004.805792982496,
          7997.318081873685,
          8076.437328082615,
          7895.076333628199,
          7959.90830242343,
          7941.3875987134015,
          8005.152658928224,
          8053.456256001186,
          7870.75653272064,
          7912.426052009821,
          8058.066426105967,
          8011.238952147271,
          8196.590441701355,
          7957.444789360086,
          8035.9126678582725,
          7993.131168520328,
          7932.561041134198,
          7943.68391891854,
          8043.986415272336,
          8042.228448075564,
          8177.273483851733,
          8057.547683156927,
          8095.129394758427,
          8001.1761494285065,
          8094.075785928041,
          8062.1895032067,
          8167.5307556806565,
          8015.002750748137,
          7928.819484926697,
          7876.4395527558545,
          8160.85562557912,
          8023.581885933357,
          8095.004038466383,
          7934.6910261434805,
          8162.632021983589,
          8029.2131126809445,
          8046.487455804668,
          8157.339149364119,
          7945.371886521227,
          7969.17793802716,
          8068.547259539612,
          7850.657557016525,
          7947.249474484983,
          7864.461399455799,
          8150.961381399747,
          8094.228124466365,
          7979.825492202305,
          8096.500380156821,
          7941.64601787129,
          8061.574081520963,
          8096.73690068613,
          8149.762379661329,
          7979.115347921876,
          7964.59918733781,
          8009.457655205044,
          7979.404619479257,
          8115.096294030867,
          8165.656143465811,
          8092.027087013362,
          8106.8338553724425,
          7973.673864358479,
          7957.314260219866,
          7922.046877983095,
          7993.359689869854,
          7923.332502638421,
          7991.23436577077,
          8040.730101673753,
          8049.480523051557,
          7931.4578652290875,
          8004.0190367447585,
          8033.89036709768,
          7941.838058232857,
          7977.3440282066285,
          8084.447694074537,
          8068.226875519635,
          8088.951494942905,
          8012.20848788285,
          8028.978160858405,
          8084.086590933901,
          7977.603736482456,
          7940.612255788434,
          8071.400687389599,
          7959.859141469848,
          7942.410148409528,
          7957.133432524965,
          7941.195345738351,
          8156.144265944612,
          7919.5203388098635,
          8095.470658569902,
          7996.835367951492,
          7913.521016541577,
          8062.147114111431,
          8025.976051379957,
          8088.006064523081,
          7970.022162960747,
          8036.466084510709,
          7985.445398296854,
          7970.857046548215,
          8028.0975035762185,
          7957.017351583473,
          8109.066251074267,
          7973.6988908826725,
          8079.500289386683,
          7989.825890065254,
          7932.407420546382,
          8110.301277080574,
          8079.627038793912,
          8135.723844552813,
          8034.735746078754,
          8050.836783251825,
          7933.009688260206,
          8057.708987783472,
          7990.340701134592,
          8079.9210824671545,
          7931.0215622821715,
          7955.518627754244,
          8065.76964337203,
          8123.437166627941,
          7928.246003874352,
          8102.784011928187,
          7999.372706811746,
          8143.376756335715,
          8082.077245808617,
          8000.091080521581,
          7939.68830471893,
          7843.101052499711,
          8108.375905951778,
          7997.100905811811,
          8097.304539276808,
          7988.124868848694,
          8049.394552321952,
          8005.609782949494,
          8008.356245783422,
          8011.6528575447655,
          8148.448853230908,
          7936.190706943323,
          7944.626693279511,
          8039.115519034436,
          7977.641135319592,
          8018.476679702484,
          7929.845383600069,
          8018.014851940396,
          8026.383064545478,
          7975.541011446693,
          8043.584204246108,
          8038.105910486786,
          8041.194943046463,
          7935.452656968655,
          8010.448122030901,
          8038.124733008415,
          8146.718628874,
          7885.207277357715,
          8012.525025124504,
          8068.833079872124,
          8117.574068783751,
          8025.271558572982,
          8118.787323953519,
          7926.0013321585275,
          7957.446793301625,
          8007.434020326353,
          8204.490945591104,
          8062.099222050214,
          8077.596229994873,
          7970.964487600113,
          7947.025916589447,
          8114.189253431348,
          8012.287437748619,
          7968.056975863681,
          7985.443073125602,
          7962.4122006405,
          7949.717774570924,
          8128.742755395119,
          7955.546742212801,
          7967.766842654825,
          8096.401606848422,
          8290.106075860602,
          7861.298033710224,
          8016.023393641471,
          8089.859251135849,
          8061.5007752903675,
          7984.6914088897365,
          8054.376544981958,
          8023.238208280026,
          7854.679152891348,
          8083.454287891808,
          7977.67101717144,
          7914.803105920421,
          8063.48836434588,
          7959.035715915357,
          8007.60281065503,
          7949.916872398318,
          7904.793102239229,
          8080.762508643109,
          8011.91165909899,
          7975.562918053528,
          7999.157599007338,
          8065.364607973774,
          8011.024278737811,
          7929.162122537588,
          8179.7755623269595,
          7885.05435535705,
          7960.871886871153,
          8103.973675539792,
          8023.31488798251,
          8085.645137743861,
          8013.213382471915,
          7989.682400880686,
          7820.843707676761,
          8123.587403806049,
          7891.938438879575,
          8052.877495304025,
          7987.066278858184,
          7938.409100528804,
          8054.828406014763,
          8053.600209324199,
          8031.2746611341445,
          8076.327381998818,
          8045.216143717756,
          8115.975851783628,
          7939.884680281953,
          7827.931707192465,
          7996.66442426397,
          7994.902421680137,
          7919.595491936363,
          8018.497569571779,
          8043.901399973687,
          8203.135828450733,
          7942.94887394638,
          7983.176043051782,
          8069.83782686348,
          8027.87110164296,
          8041.475375117924,
          7858.976691949804,
          7898.7962480509295,
          8029.326044381488,
          8187.2599340464285,
          7968.556140736406,
          8013.405463354618,
          7857.380305399182,
          7834.4443773602325,
          8003.541972056516,
          8086.002002401877,
          8120.1618622645365,
          8067.6272556064705,
          8177.834348554535,
          8027.163458475289,
          7994.741011796617,
          8042.692254794651,
          7920.199425355732,
          8058.115356250053,
          8002.393027355612,
          8036.657304861696,
          8017.745070768515,
          8078.540976734291,
          8061.982717981303,
          7992.228861195169,
          8021.695494105888,
          7950.287564000998,
          7955.619481007553,
          8091.090129569649,
          8091.245051172807,
          8088.492646988841,
          8034.240678459553,
          7960.882296953428,
          8089.261869193021,
          7951.653152040335,
          8114.145670257348,
          7910.509538632946,
          8001.881686057089,
          8025.499949121133,
          8034.862917213712,
          8002.650311571825,
          8058.440136918044,
          8088.345893578487,
          7959.18137994407,
          7878.118683811982,
          8132.252693010768,
          8041.818536704168,
          7970.142706895733,
          7902.456233116195,
          8121.204857007285,
          8065.911836090261,
          8082.103881000838,
          8143.290278007173,
          8007.785513099732,
          8001.772649284336,
          8088.275837436767,
          8012.493648399731,
          8131.967023495257,
          8028.693966130209,
          8054.841982624201,
          8003.297098224907,
          8033.002760895916,
          8016.95918779971,
          7947.71433244406,
          7934.216111734751,
          7997.776275470927,
          7943.118134432186,
          8101.1706540908835,
          8055.739405508074,
          7835.343862832815,
          7947.915284095838,
          8073.5010189070645,
          8071.704002564239,
          8038.607355250673,
          8046.274246894781,
          7952.362484638361,
          7989.237526349235,
          8078.887456364547,
          8086.248214270718,
          8063.450139829404,
          7976.381296592306,
          8113.377690281365,
          8010.696534288296,
          8084.623665811922,
          8073.143568127294,
          8025.60394279732,
          7890.553867283835,
          7965.0387951716175,
          7984.238909946505,
          8074.144250547981,
          7895.97608322299,
          7887.183692798014,
          7959.073445360156,
          8111.468344596203,
          8163.8662201410325,
          8078.296710439755,
          8081.910066107533,
          8001.371869444965,
          7962.365786375939,
          7996.708461078714,
          7935.927152169103,
          8010.032200304573,
          7910.239110732572,
          7899.26375325079,
          8036.432752623726,
          8202.018182651636,
          8066.17878890099,
          8054.106471763977,
          8215.309295366173,
          7929.346927812194,
          8117.778941677561,
          7942.9639965875485,
          8037.337923652307,
          7947.570480948767,
          8020.079787582477,
          7891.284297395729,
          7962.707818689271,
          8053.757114503344,
          8077.838277424898,
          8025.047848390772,
          7948.301217873528,
          7930.763340271148,
          7942.4286867933315,
          8046.0229551874045,
          7986.55560297407,
          8075.214529380971,
          8262.267014257282,
          8052.838573180192,
          8014.741020404735,
          7895.755859887854,
          7907.175772211039,
          8070.349023993551,
          7933.339079379431,
          7951.197503996125,
          8014.190909059102,
          8099.310451583193,
          8074.712439498237,
          8050.547236444667,
          7940.764042847427,
          7995.438089376045,
          8080.589624350192,
          8032.69467101598,
          7898.8806937442105,
          8107.785850285956,
          7934.806408077911,
          7992.912310796396,
          8085.863195962722,
          7962.409873579661,
          8025.016065754812,
          8015.753797859028,
          7966.81368984466,
          8029.75134944474,
          8017.789169799651,
          8078.932378415603,
          7961.013631547418,
          8099.7308584181765,
          7967.780392040221,
          8175.859471027737,
          7948.177602030678,
          8033.506439710993,
          7992.199251933676,
          8100.509009898635,
          7987.134002480256,
          8093.891054837203,
          8055.278299568055,
          8025.30890933064,
          8102.6619757797,
          7999.823070312215,
          8094.782645057263,
          8058.703878621356,
          7923.129015721359,
          8015.052966720879,
          7911.411690732066,
          7990.798835874709,
          8047.447403778057,
          8055.219511380909,
          8117.986854706189,
          7806.630043236539,
          7924.834749916719,
          7915.246300539442,
          7910.17330819017,
          8201.869818403733,
          8139.851031854229,
          8067.351965309989,
          8079.735389086867,
          8015.330447818016,
          8102.1971499435895,
          7981.812333751376,
          8083.811202098983,
          8002.108126621893,
          8013.694453153647,
          7955.009514558215,
          7954.009093670307,
          8094.659835088085,
          8007.817036022518,
          8131.45805936661,
          8089.17255067591,
          8010.283320339511,
          8072.634467388535,
          8048.36468628664,
          8068.1565347501955,
          7938.3704589035915,
          8004.85259300265,
          8049.493476447354,
          8094.324060595541,
          7937.866100257264,
          7990.965954829083,
          8091.6359303484405,
          8016.249059475788,
          8025.688314866708,
          7969.7701119894955,
          8042.070510832231,
          8183.69708555768,
          8004.6176668644885,
          8011.108593209805,
          8111.430531099794,
          7974.333305782694,
          8010.52343094331,
          8100.1511479588235,
          8041.141633960489,
          8129.195453234831,
          7948.0278767905575,
          7952.259309853006,
          7942.585563278754,
          8013.817992293288,
          7980.089055584637,
          7970.413138435313,
          8105.480245282334,
          8104.5634721223005,
          8053.405188034856,
          8110.928700580314,
          8097.004302938517,
          7950.318528236023,
          8042.715960077932,
          7961.305283354003,
          8158.907395561855,
          7915.954273055054,
          8020.732592428777,
          8041.567660635855,
          7970.822577550031,
          7930.611350956409,
          8031.234850344745,
          7985.884517917481,
          7981.957362599063,
          8015.656723078991,
          8017.100538182245,
          7998.512541046019,
          8116.737642663785,
          7991.914657103024,
          7909.907878666146,
          8093.70128162958,
          8065.172147704081,
          8056.728550883065,
          7913.48710462151,
          8059.194119816583,
          7956.0078606800835,
          8042.40741522755,
          8076.711135963448,
          8114.90945164198,
          7985.274920917303,
          7952.337886140512,
          8085.388385621229,
          8053.121483619386,
          7941.8741746006,
          8021.9164538199075,
          7995.659786588694,
          8034.925419628184,
          7949.7835955192995,
          7996.440153084507,
          8047.229617799628,
          7993.122885832578,
          8018.424950800767,
          8013.016388104281,
          8194.169526287647,
          7954.149463917294,
          8010.863443778501,
          8003.466853502454,
          7987.309669084403,
          7958.101177632337,
          8063.66083313971,
          7952.363108341892,
          7971.672717379435,
          8047.48386782972,
          7945.508889454987,
          8086.890930544398,
          8085.243452722543,
          8080.567068635382,
          8073.62581000277,
          8037.867946943206,
          7946.363344750167,
          7954.718801806163,
          8019.15418186501,
          8007.635026496199,
          8059.415146575927,
          8011.270544914771,
          8004.220591734527,
          7965.087093493944,
          8070.841880376576,
          8066.840217470417,
          8082.470821354286,
          8050.921249590591,
          8032.539226487245,
          8053.079510093191,
          7931.314048936091,
          8024.396265127189,
          7937.950606977191,
          8093.965784066446,
          7998.250929046724,
          8133.823190825847,
          7955.5182323407635,
          8216.278501963769,
          8061.629729915092,
          7965.35374949961,
          7955.396352818006,
          8011.918694519639,
          7936.904607861798,
          7920.765737176709,
          7995.776896445058,
          8076.652951744158,
          7989.411772684137,
          7924.015807371346,
          7923.963489688456,
          8034.845393887818,
          7971.490681608864,
          7915.453860075417,
          8049.6442585962195,
          7885.543851915202,
          7975.450138919607,
          7952.657602296618,
          8011.153963162858,
          7942.685271652562,
          8048.209795476752,
          7944.209457240758,
          8118.085501062369,
          7935.557849762472,
          7952.780140165331,
          7966.021145033465,
          8008.917798295731,
          8066.733664944113,
          7968.010343316881,
          7967.956534750195,
          8216.608409080094,
          7913.9351754936015,
          8138.559430716556,
          7933.530176977274,
          8130.534426097567,
          7917.852482426846,
          7855.789517413592,
          8159.454166188438,
          8106.68818532505,
          8002.772589097504,
          8148.338165029491,
          7979.640302781752,
          8097.758061186212,
          7975.789292622773,
          7986.235414771249,
          7876.192292166477,
          7907.909575934783,
          7907.115175199667,
          7929.967690519315,
          8065.8468610468035,
          8037.227242729289,
          7912.991487202599,
          7967.207423905653,
          8025.015953639343,
          8122.470592084452,
          8079.474017554962,
          8008.8203368502955,
          7949.776252725903,
          8026.912092094247,
          8073.592809283328,
          8212.540993320663,
          7975.070004563,
          7970.244895666827,
          8107.299350962006,
          8131.976381987622,
          7910.885525207085,
          7989.8203032576475,
          7919.117158495721,
          8015.275380996636,
          7902.2892356552375,
          7899.989068321854,
          7923.510097880584,
          8025.47220005263,
          7923.490050486952,
          7968.261628585665,
          8042.069450984126,
          8005.924208333216,
          7986.497771337633,
          8022.249016505187,
          7991.5235194039515,
          8000.651214654233,
          7956.786801167905,
          8027.226936686254,
          7882.863588926746,
          7959.999746725415,
          8096.297893740847,
          8082.493098390072,
          7848.361651890566,
          7971.501179032026,
          7948.764530570713,
          7978.90616614085,
          8065.838064461495,
          7935.35877048102,
          8010.364523292301,
          8089.385183121932,
          8096.199648746852,
          8040.297827185409,
          7981.478760697159,
          7955.434773081648,
          8061.915673420654,
          7977.671223206363,
          7979.348793813913,
          7937.0392802354845,
          8070.763401507752,
          7976.802220334188,
          7946.11326412781,
          7904.308995691741,
          7982.810541233578,
          7931.062338440348,
          8006.137717197477,
          8002.441397832151,
          7888.875362100772,
          7906.474957729251,
          8030.344750168664,
          8016.07805763099,
          8039.587208268832,
          7941.581493389244,
          7972.033809462489,
          7973.169318013217,
          8063.378912563931,
          8086.306034989544,
          7955.145909325042,
          8041.9232673890965,
          8055.248097186337,
          8196.457889163848,
          7986.479181934994,
          7920.877485716126,
          7903.963903507911,
          7869.407925065994,
          7991.558090019904,
          8015.217277889599,
          7970.51818468119,
          8092.121017591353,
          7951.6673535430455,
          7904.157041159395,
          8091.047261569168,
          8044.137039955655,
          8001.666886955134,
          7985.37064191355,
          7910.379162339279,
          7940.400489682858,
          8040.268346835716,
          7990.038571010661,
          7973.398123150657,
          7956.32327746689,
          8054.084631432643,
          7915.186104400357,
          8013.432112333819,
          8012.196816886465,
          7927.9773121541,
          8096.413267417091,
          7978.775522995566,
          8124.41548145266,
          7972.381012174536,
          7962.450343414862,
          7960.097717659375,
          8001.877171834803,
          8024.930764078819,
          8006.176022336312,
          8016.951237399256,
          8058.375864310889,
          7966.473622001506,
          7892.25059885897,
          8063.990854541025,
          7905.994558200665,
          8159.382890143635,
          8009.532782157264,
          7992.052673415054,
          8019.093866192077,
          7995.488539167633,
          7954.2111083194995,
          7991.669430618581,
          7968.236485676932,
          8093.213503825362,
          7995.44765635279,
          8051.015997869665,
          8038.067073604295,
          7958.939155312816,
          8004.702499363137,
          8017.018893766045,
          7988.337323393639,
          8033.881357548968,
          7974.670385699608,
          8029.466003678394,
          7974.3049013075915,
          8036.370303397617,
          8121.906139616652,
          8089.1711566509275,
          7960.990404469504,
          7965.446601753535,
          8123.869222134199,
          7992.996291021524,
          8034.462939538828,
          7969.916697506584,
          7975.152527426999,
          8030.056448389093,
          8045.0940443730915,
          8046.552599581213,
          8040.42489103384,
          8009.493480086555,
          7872.588580738535,
          8032.279991587843,
          7957.653631575412,
          7942.896085126571,
          7944.306333544221,
          8302.725404721446,
          7959.846123478185,
          8017.426068036313,
          8111.064767678835,
          7964.3638407316475,
          8093.633028083454,
          8001.62782661154,
          8037.120958874196,
          7963.101653178286,
          8022.504024959339,
          7985.973556775777,
          8097.585385517648,
          7923.980471122918,
          7984.930594505921,
          7889.661902085826,
          7950.072673149112,
          7991.3069642462215,
          7996.91529963244,
          8160.506109523233,
          8058.440413077617,
          8069.209831098959,
          7914.0011696540805,
          7906.379134275421,
          8093.310424009228,
          7949.899503108717,
          7833.104555303298,
          7941.970052502513,
          7995.229667488753,
          8068.128537935896,
          7991.939820237331,
          8094.221333922141,
          8083.778676575565,
          8010.615654524791,
          8010.152554091163,
          7873.695421531766,
          7946.080595415724,
          7981.54524433054,
          8008.656203092765,
          8110.5470187223045,
          7968.511045543233,
          8070.141103546544,
          8046.256273707314,
          7894.10276453512,
          8140.133179180393,
          8032.552896246303,
          7989.415081770109,
          8023.626812533419,
          8007.812657570525,
          8026.778651241107,
          8074.571321184927,
          7977.434978276754,
          8068.515241895075,
          8051.603314334821,
          7911.237410524576,
          7932.775661985158,
          8060.000459519455,
          7963.405769537621,
          7877.999589119899,
          7938.955731046047,
          8112.621724156755,
          8081.720570249229,
          8030.351290307683,
          7943.012172506655,
          7991.695785662096,
          8001.518103918861,
          8020.153433938653,
          8058.381860039021,
          8073.456213800419,
          7924.773978293547,
          8007.079889060275,
          8035.37955964235,
          8042.671068120295,
          7951.92911691922,
          8003.045067059329,
          8037.663593615718,
          8069.639007925065,
          7998.774121132295,
          8037.44943683322,
          8091.954859106829,
          7993.671327973438,
          7936.119340828226,
          7885.788365185697,
          8046.015321117741,
          7883.042184949933,
          7939.94998824257,
          8077.891677211029,
          8108.078692951981,
          7939.625967888226,
          8032.297783934873,
          7984.475961239677,
          8170.921782663953,
          7999.423962127087,
          7858.742170952996,
          7980.698395181136,
          8061.999396032148,
          8014.197952248048,
          7958.086944986437,
          7877.349793335215,
          7930.8865360659065,
          8094.315237136118,
          7928.353580346618,
          8079.070181064385,
          8096.10585743839,
          8040.607025902734,
          8074.720315924878,
          8119.903599172503,
          8069.405193843589,
          7940.84489433712,
          7991.334604978431,
          8009.785940846145,
          8098.911597792405,
          8082.225131501227,
          7990.35021499296,
          8004.0559344915355,
          7999.734685670779,
          7950.60801548621,
          7947.319724414296,
          8019.126186660359,
          8209.405908807152,
          8073.192074724049,
          7997.962086705427,
          8087.392276419918,
          8042.560711716278,
          8026.261623546771,
          8059.416282567376,
          7977.02661223724,
          8049.548634668733,
          7974.666148896623,
          8025.172339392141,
          7917.047166669933,
          8117.784648368937,
          7953.304247510644,
          7947.968581354401,
          8051.097026560587,
          8038.116111734752,
          8037.298467965208,
          7911.250310102148,
          8129.780312537617,
          8029.578683154126,
          7960.835519118416,
          8110.196413354759,
          7989.001546101714,
          7986.616388314236,
          7864.721413074818,
          7979.543684441843,
          8014.2403011721035,
          8054.166904731244,
          7998.4058516296645,
          8098.097404547884,
          7984.696858037462,
          8037.219347406786,
          8130.297357728128,
          8000.474957169372,
          8060.810340097588,
          7940.842189778874,
          7913.448733557098,
          8021.48900799505,
          8068.12340287945
         ],
         "xaxis": "x",
         "yaxis": "y"
        }
       ],
       "layout": {
        "barmode": "overlay",
        "legend": {
         "title": {
          "text": "variable"
         },
         "tracegroupgap": 0
        },
        "template": {
         "data": {
          "bar": [
           {
            "error_x": {
             "color": "#2a3f5f"
            },
            "error_y": {
             "color": "#2a3f5f"
            },
            "marker": {
             "line": {
              "color": "#E5ECF6",
              "width": 0.5
             },
             "pattern": {
              "fillmode": "overlay",
              "size": 10,
              "solidity": 0.2
             }
            },
            "type": "bar"
           }
          ],
          "barpolar": [
           {
            "marker": {
             "line": {
              "color": "#E5ECF6",
              "width": 0.5
             },
             "pattern": {
              "fillmode": "overlay",
              "size": 10,
              "solidity": 0.2
             }
            },
            "type": "barpolar"
           }
          ],
          "carpet": [
           {
            "aaxis": {
             "endlinecolor": "#2a3f5f",
             "gridcolor": "white",
             "linecolor": "white",
             "minorgridcolor": "white",
             "startlinecolor": "#2a3f5f"
            },
            "baxis": {
             "endlinecolor": "#2a3f5f",
             "gridcolor": "white",
             "linecolor": "white",
             "minorgridcolor": "white",
             "startlinecolor": "#2a3f5f"
            },
            "type": "carpet"
           }
          ],
          "choropleth": [
           {
            "colorbar": {
             "outlinewidth": 0,
             "ticks": ""
            },
            "type": "choropleth"
           }
          ],
          "contour": [
           {
            "colorbar": {
             "outlinewidth": 0,
             "ticks": ""
            },
            "colorscale": [
             [
              0,
              "#0d0887"
             ],
             [
              0.1111111111111111,
              "#46039f"
             ],
             [
              0.2222222222222222,
              "#7201a8"
             ],
             [
              0.3333333333333333,
              "#9c179e"
             ],
             [
              0.4444444444444444,
              "#bd3786"
             ],
             [
              0.5555555555555556,
              "#d8576b"
             ],
             [
              0.6666666666666666,
              "#ed7953"
             ],
             [
              0.7777777777777778,
              "#fb9f3a"
             ],
             [
              0.8888888888888888,
              "#fdca26"
             ],
             [
              1,
              "#f0f921"
             ]
            ],
            "type": "contour"
           }
          ],
          "contourcarpet": [
           {
            "colorbar": {
             "outlinewidth": 0,
             "ticks": ""
            },
            "type": "contourcarpet"
           }
          ],
          "heatmap": [
           {
            "colorbar": {
             "outlinewidth": 0,
             "ticks": ""
            },
            "colorscale": [
             [
              0,
              "#0d0887"
             ],
             [
              0.1111111111111111,
              "#46039f"
             ],
             [
              0.2222222222222222,
              "#7201a8"
             ],
             [
              0.3333333333333333,
              "#9c179e"
             ],
             [
              0.4444444444444444,
              "#bd3786"
             ],
             [
              0.5555555555555556,
              "#d8576b"
             ],
             [
              0.6666666666666666,
              "#ed7953"
             ],
             [
              0.7777777777777778,
              "#fb9f3a"
             ],
             [
              0.8888888888888888,
              "#fdca26"
             ],
             [
              1,
              "#f0f921"
             ]
            ],
            "type": "heatmap"
           }
          ],
          "heatmapgl": [
           {
            "colorbar": {
             "outlinewidth": 0,
             "ticks": ""
            },
            "colorscale": [
             [
              0,
              "#0d0887"
             ],
             [
              0.1111111111111111,
              "#46039f"
             ],
             [
              0.2222222222222222,
              "#7201a8"
             ],
             [
              0.3333333333333333,
              "#9c179e"
             ],
             [
              0.4444444444444444,
              "#bd3786"
             ],
             [
              0.5555555555555556,
              "#d8576b"
             ],
             [
              0.6666666666666666,
              "#ed7953"
             ],
             [
              0.7777777777777778,
              "#fb9f3a"
             ],
             [
              0.8888888888888888,
              "#fdca26"
             ],
             [
              1,
              "#f0f921"
             ]
            ],
            "type": "heatmapgl"
           }
          ],
          "histogram": [
           {
            "marker": {
             "pattern": {
              "fillmode": "overlay",
              "size": 10,
              "solidity": 0.2
             }
            },
            "type": "histogram"
           }
          ],
          "histogram2d": [
           {
            "colorbar": {
             "outlinewidth": 0,
             "ticks": ""
            },
            "colorscale": [
             [
              0,
              "#0d0887"
             ],
             [
              0.1111111111111111,
              "#46039f"
             ],
             [
              0.2222222222222222,
              "#7201a8"
             ],
             [
              0.3333333333333333,
              "#9c179e"
             ],
             [
              0.4444444444444444,
              "#bd3786"
             ],
             [
              0.5555555555555556,
              "#d8576b"
             ],
             [
              0.6666666666666666,
              "#ed7953"
             ],
             [
              0.7777777777777778,
              "#fb9f3a"
             ],
             [
              0.8888888888888888,
              "#fdca26"
             ],
             [
              1,
              "#f0f921"
             ]
            ],
            "type": "histogram2d"
           }
          ],
          "histogram2dcontour": [
           {
            "colorbar": {
             "outlinewidth": 0,
             "ticks": ""
            },
            "colorscale": [
             [
              0,
              "#0d0887"
             ],
             [
              0.1111111111111111,
              "#46039f"
             ],
             [
              0.2222222222222222,
              "#7201a8"
             ],
             [
              0.3333333333333333,
              "#9c179e"
             ],
             [
              0.4444444444444444,
              "#bd3786"
             ],
             [
              0.5555555555555556,
              "#d8576b"
             ],
             [
              0.6666666666666666,
              "#ed7953"
             ],
             [
              0.7777777777777778,
              "#fb9f3a"
             ],
             [
              0.8888888888888888,
              "#fdca26"
             ],
             [
              1,
              "#f0f921"
             ]
            ],
            "type": "histogram2dcontour"
           }
          ],
          "mesh3d": [
           {
            "colorbar": {
             "outlinewidth": 0,
             "ticks": ""
            },
            "type": "mesh3d"
           }
          ],
          "parcoords": [
           {
            "line": {
             "colorbar": {
              "outlinewidth": 0,
              "ticks": ""
             }
            },
            "type": "parcoords"
           }
          ],
          "pie": [
           {
            "automargin": true,
            "type": "pie"
           }
          ],
          "scatter": [
           {
            "fillpattern": {
             "fillmode": "overlay",
             "size": 10,
             "solidity": 0.2
            },
            "type": "scatter"
           }
          ],
          "scatter3d": [
           {
            "line": {
             "colorbar": {
              "outlinewidth": 0,
              "ticks": ""
             }
            },
            "marker": {
             "colorbar": {
              "outlinewidth": 0,
              "ticks": ""
             }
            },
            "type": "scatter3d"
           }
          ],
          "scattercarpet": [
           {
            "marker": {
             "colorbar": {
              "outlinewidth": 0,
              "ticks": ""
             }
            },
            "type": "scattercarpet"
           }
          ],
          "scattergeo": [
           {
            "marker": {
             "colorbar": {
              "outlinewidth": 0,
              "ticks": ""
             }
            },
            "type": "scattergeo"
           }
          ],
          "scattergl": [
           {
            "marker": {
             "colorbar": {
              "outlinewidth": 0,
              "ticks": ""
             }
            },
            "type": "scattergl"
           }
          ],
          "scattermapbox": [
           {
            "marker": {
             "colorbar": {
              "outlinewidth": 0,
              "ticks": ""
             }
            },
            "type": "scattermapbox"
           }
          ],
          "scatterpolar": [
           {
            "marker": {
             "colorbar": {
              "outlinewidth": 0,
              "ticks": ""
             }
            },
            "type": "scatterpolar"
           }
          ],
          "scatterpolargl": [
           {
            "marker": {
             "colorbar": {
              "outlinewidth": 0,
              "ticks": ""
             }
            },
            "type": "scatterpolargl"
           }
          ],
          "scatterternary": [
           {
            "marker": {
             "colorbar": {
              "outlinewidth": 0,
              "ticks": ""
             }
            },
            "type": "scatterternary"
           }
          ],
          "surface": [
           {
            "colorbar": {
             "outlinewidth": 0,
             "ticks": ""
            },
            "colorscale": [
             [
              0,
              "#0d0887"
             ],
             [
              0.1111111111111111,
              "#46039f"
             ],
             [
              0.2222222222222222,
              "#7201a8"
             ],
             [
              0.3333333333333333,
              "#9c179e"
             ],
             [
              0.4444444444444444,
              "#bd3786"
             ],
             [
              0.5555555555555556,
              "#d8576b"
             ],
             [
              0.6666666666666666,
              "#ed7953"
             ],
             [
              0.7777777777777778,
              "#fb9f3a"
             ],
             [
              0.8888888888888888,
              "#fdca26"
             ],
             [
              1,
              "#f0f921"
             ]
            ],
            "type": "surface"
           }
          ],
          "table": [
           {
            "cells": {
             "fill": {
              "color": "#EBF0F8"
             },
             "line": {
              "color": "white"
             }
            },
            "header": {
             "fill": {
              "color": "#C8D4E3"
             },
             "line": {
              "color": "white"
             }
            },
            "type": "table"
           }
          ]
         },
         "layout": {
          "annotationdefaults": {
           "arrowcolor": "#2a3f5f",
           "arrowhead": 0,
           "arrowwidth": 1
          },
          "autotypenumbers": "strict",
          "coloraxis": {
           "colorbar": {
            "outlinewidth": 0,
            "ticks": ""
           }
          },
          "colorscale": {
           "diverging": [
            [
             0,
             "#8e0152"
            ],
            [
             0.1,
             "#c51b7d"
            ],
            [
             0.2,
             "#de77ae"
            ],
            [
             0.3,
             "#f1b6da"
            ],
            [
             0.4,
             "#fde0ef"
            ],
            [
             0.5,
             "#f7f7f7"
            ],
            [
             0.6,
             "#e6f5d0"
            ],
            [
             0.7,
             "#b8e186"
            ],
            [
             0.8,
             "#7fbc41"
            ],
            [
             0.9,
             "#4d9221"
            ],
            [
             1,
             "#276419"
            ]
           ],
           "sequential": [
            [
             0,
             "#0d0887"
            ],
            [
             0.1111111111111111,
             "#46039f"
            ],
            [
             0.2222222222222222,
             "#7201a8"
            ],
            [
             0.3333333333333333,
             "#9c179e"
            ],
            [
             0.4444444444444444,
             "#bd3786"
            ],
            [
             0.5555555555555556,
             "#d8576b"
            ],
            [
             0.6666666666666666,
             "#ed7953"
            ],
            [
             0.7777777777777778,
             "#fb9f3a"
            ],
            [
             0.8888888888888888,
             "#fdca26"
            ],
            [
             1,
             "#f0f921"
            ]
           ],
           "sequentialminus": [
            [
             0,
             "#0d0887"
            ],
            [
             0.1111111111111111,
             "#46039f"
            ],
            [
             0.2222222222222222,
             "#7201a8"
            ],
            [
             0.3333333333333333,
             "#9c179e"
            ],
            [
             0.4444444444444444,
             "#bd3786"
            ],
            [
             0.5555555555555556,
             "#d8576b"
            ],
            [
             0.6666666666666666,
             "#ed7953"
            ],
            [
             0.7777777777777778,
             "#fb9f3a"
            ],
            [
             0.8888888888888888,
             "#fdca26"
            ],
            [
             1,
             "#f0f921"
            ]
           ]
          },
          "colorway": [
           "#636efa",
           "#EF553B",
           "#00cc96",
           "#ab63fa",
           "#FFA15A",
           "#19d3f3",
           "#FF6692",
           "#B6E880",
           "#FF97FF",
           "#FECB52"
          ],
          "font": {
           "color": "#2a3f5f"
          },
          "geo": {
           "bgcolor": "white",
           "lakecolor": "white",
           "landcolor": "#E5ECF6",
           "showlakes": true,
           "showland": true,
           "subunitcolor": "white"
          },
          "hoverlabel": {
           "align": "left"
          },
          "hovermode": "closest",
          "mapbox": {
           "style": "light"
          },
          "paper_bgcolor": "white",
          "plot_bgcolor": "#E5ECF6",
          "polar": {
           "angularaxis": {
            "gridcolor": "white",
            "linecolor": "white",
            "ticks": ""
           },
           "bgcolor": "#E5ECF6",
           "radialaxis": {
            "gridcolor": "white",
            "linecolor": "white",
            "ticks": ""
           }
          },
          "scene": {
           "xaxis": {
            "backgroundcolor": "#E5ECF6",
            "gridcolor": "white",
            "gridwidth": 2,
            "linecolor": "white",
            "showbackground": true,
            "ticks": "",
            "zerolinecolor": "white"
           },
           "yaxis": {
            "backgroundcolor": "#E5ECF6",
            "gridcolor": "white",
            "gridwidth": 2,
            "linecolor": "white",
            "showbackground": true,
            "ticks": "",
            "zerolinecolor": "white"
           },
           "zaxis": {
            "backgroundcolor": "#E5ECF6",
            "gridcolor": "white",
            "gridwidth": 2,
            "linecolor": "white",
            "showbackground": true,
            "ticks": "",
            "zerolinecolor": "white"
           }
          },
          "shapedefaults": {
           "line": {
            "color": "#2a3f5f"
           }
          },
          "ternary": {
           "aaxis": {
            "gridcolor": "white",
            "linecolor": "white",
            "ticks": ""
           },
           "baxis": {
            "gridcolor": "white",
            "linecolor": "white",
            "ticks": ""
           },
           "bgcolor": "#E5ECF6",
           "caxis": {
            "gridcolor": "white",
            "linecolor": "white",
            "ticks": ""
           }
          },
          "title": {
           "x": 0.05
          },
          "xaxis": {
           "automargin": true,
           "gridcolor": "white",
           "linecolor": "white",
           "ticks": "",
           "title": {
            "standoff": 15
           },
           "zerolinecolor": "white",
           "zerolinewidth": 2
          },
          "yaxis": {
           "automargin": true,
           "gridcolor": "white",
           "linecolor": "white",
           "ticks": "",
           "title": {
            "standoff": 15
           },
           "zerolinecolor": "white",
           "zerolinewidth": 2
          }
         }
        },
        "title": {
         "text": "AB Groups"
        },
        "xaxis": {
         "anchor": "y",
         "domain": [
          0,
          1
         ],
         "title": {
          "text": "value"
         }
        },
        "yaxis": {
         "anchor": "x",
         "domain": [
          0,
          1
         ],
         "title": {
          "text": "count"
         }
        }
       }
      },
      "text/html": [
       "<div>                            <div id=\"d4211f5a-dc62-417f-810a-a3a20df6d535\" class=\"plotly-graph-div\" style=\"height:525px; width:100%;\"></div>            <script type=\"text/javascript\">                require([\"plotly\"], function(Plotly) {                    window.PLOTLYENV=window.PLOTLYENV || {};                                    if (document.getElementById(\"d4211f5a-dc62-417f-810a-a3a20df6d535\")) {                    Plotly.newPlot(                        \"d4211f5a-dc62-417f-810a-a3a20df6d535\",                        [{\"alignmentgroup\":\"True\",\"bingroup\":\"x\",\"hovertemplate\":\"A\",\"legendgroup\":\"wide_variable_0\",\"marker\":{\"color\":\"red\",\"opacity\":0.7,\"pattern\":{\"shape\":\"\"}},\"name\":\"A\",\"nbinsx\":40,\"offsetgroup\":\"wide_variable_0\",\"orientation\":\"v\",\"showlegend\":true,\"x\":[7912.636126267214,7956.371068779295,7898.9824805354765,7901.679098696421,7974.007886127661,7974.447352434668,7878.597442442415,7916.863508685887,8043.35339047757,8025.83586822643,7975.705217662697,7903.277265659397,7847.442896633209,8030.755354485618,7938.868290521599,7827.2732167041,7870.499838376182,7863.2438875544085,7916.778207536128,7938.144876246315,7924.157315707049,7942.544282139454,8021.284237776502,7914.757681311271,7906.886785302265,7959.502839563282,7999.14326836799,7945.125467455094,7911.007086368424,7948.321990871041,7817.348310473781,8001.427336160821,7929.243444482218,7944.3946992961,7835.829341968132,7936.736625629079,7933.593546751083,7947.050549242319,7887.650028702161,7916.096940851256,8001.217743508574,8000.444947583724,7954.291561007418,7923.29461514025,7868.576339387724,7900.012261117211,7951.190819209827,7891.900096974291,7900.65143873064,8006.242733894744,7997.434350077189,8035.819845175529,7972.655627016815,7924.309200296496,7918.568862892844,7739.06836687492,8034.3345417964765,7979.336294578914,8064.309336840756,7985.700764647855,7899.781122338083,7960.652274715904,8151.183378940974,7978.816481728149,7981.663972936371,7929.100627546271,7959.538067982322,8135.376310406902,8008.9641808180395,7884.5831749605695,8039.046954505682,7944.4699992754795,7914.66409833416,7923.369421888324,8011.6550139609535,7992.6657145723375,7813.61743642332,7931.624154958228,7925.779230224769,7920.8220772561845,8036.671354686255,7946.797446343679,7946.180363820787,7936.368544103796,7941.749580614059,7953.058610926884,7955.773121959103,7932.2424190069605,8017.0542275774815,7875.035431842121,7896.756196044118,7935.87344855068,7833.665522295727,7959.3553745492645,7907.428230665054,7913.542760646273,7945.992152884985,7964.243505787805,8009.158672789794,7827.77062514978,7897.42205273395,7837.111099655017,7912.901342592335,7924.694046112947,7895.686279809841,7812.147504026662,7958.0390488716985,7879.6302325711,7952.090105278411,7862.116026394841,7905.835614644233,7962.727491096757,7886.877213270987,7944.64427991016,7895.509142892174,7844.727003438686,7891.590785213092,7928.356564434957,7864.2610865579145,7928.140593215144,7838.770332554938,7782.312906497835,7875.0050382045265,7927.702631681612,7918.46915771698,7916.31945783569,8096.078376405152,7999.804543858573,7865.71399829459,7936.000440285573,7993.817785865162,8010.36166394507,7933.213853390477,7929.110285962693,7858.788682431491,7924.899355734023,7931.820101544344,7913.88593817053,7987.126874696955,7937.636864720865,7859.025313633805,7900.610040740348,7905.0873771798315,7850.745119239365,8047.54089918575,7827.951080928947,7888.296610358415,7927.273010494402,7978.145990893334,7890.345030624927,7903.04932034398,7809.404862090298,7926.853134108756,7796.015111826962,7970.113412547582,7957.263382730774,7842.204133668471,7982.616645023937,7809.194112991769,7877.726446115176,8082.586454809423,7876.167709790502,7858.0821466986945,7986.109093290383,7979.3901376031745,7892.373487563326,8000.180266289173,7951.127529552079,7913.9202024198985,7945.146160877004,7895.846167564886,7941.532664730897,7948.035359390065,7912.862667127388,7932.242850932681,7956.740989472159,8009.599707962481,7869.385060386002,7937.994984088414,7980.501123006872,7889.760551527345,7909.549041682225,7877.26852404015,7899.1279781975045,7899.100596893479,7967.272143856344,8004.201380490334,7877.405051580291,7958.642137001265,8017.9269014484835,7964.298717041281,7973.951981006415,7898.961291095642,7839.7419424953605,7983.7663170390515,7689.227998261151,7949.48573809139,7955.265366802468,7936.80232013777,7821.163613462707,7896.552137614321,7920.519993980906,7960.128975806587,7936.6888044853395,7873.07944646629,7976.292522390472,7844.441528403992,7859.958599223091,8013.955082511746,7876.898101756126,8048.2650881407135,7924.9941899024125,7864.531385673442,8017.141069726745,7899.050147969392,7749.349673129762,7905.385729174213,7864.336888128452,8011.840226496274,7915.579463185995,7978.021256318655,7829.577141933578,7972.5217969224595,7939.098473490907,7873.894144759209,7979.95257734257,8006.032851434272,7976.229948893434,7923.826739267342,8072.124720641591,7972.321642543848,7920.076687714918,7972.275638274749,7922.972418059511,7788.847597099689,7949.759980270748,7924.258843330788,7973.818956244531,7872.074115666921,7792.671154049791,8030.370583907841,7982.0159227326685,7944.987613484999,8004.791162521109,8011.737620451543,7883.561495076046,7916.242639149747,7824.002808910488,7930.628947940411,7970.339086769697,8084.742653082835,7891.457278366373,7805.8035601825795,7861.018770655803,7980.603570214403,7754.633111147027,7995.104826978916,7909.947527991573,7949.564657886964,7850.28020554091,7978.591437281599,8041.31977551009,8043.76434132721,7954.73596520072,7949.868298881452,7985.605740989472,7916.513066449682,7862.794952320974,7889.331064097777,7954.762630344036,8031.582040807228,7993.314051797647,7938.8477029911555,7882.271965512821,7910.415434517275,7853.042373306434,7845.025589508942,7949.018497567283,7895.289153369857,7970.4485060943325,7927.230088224312,7939.285279971465,7911.682503943064,7893.52272765272,7924.906035256286,7937.8228686555685,7874.914353309666,7923.330269911776,8007.009895278912,7934.844467728182,7932.0906458822155,7834.825359891656,7871.400944106025,7812.951666118632,8047.32834435905,7907.882421459184,7905.798031533364,7843.583846535398,8048.589938081358,8024.774183660389,7882.058190147635,8068.85844818842,7939.263811869876,7973.113030780977,7894.453095653434,7995.285026389268,7906.542944563031,7946.622797875483,7996.056175423148,7897.829406060336,8022.208218849796,7897.296108767257,7896.421840951017,7898.293737355722,7897.491027091496,7881.389978765974,7881.546099014095,7902.525009892493,7913.16598487424,7977.909329038227,8008.290596837746,8006.186870572761,7918.293021195013,7993.111442408976,8067.515908799581,7935.546360956144,7918.343525851451,7952.713967641797,8040.148317718987,7870.646665254781,7893.205797279146,7994.46322500822,8029.7035624118735,7946.813814935155,7858.035702144023,7902.352780208327,7960.331323253209,7937.117046296864,7895.014298134638,7919.478389780916,8017.295322941108,7970.760445635879,7843.177705387647,7954.479515574406,7851.032188219296,7995.6880883246295,7938.195754309504,7922.401384391598,7918.720003455406,7896.881741524503,7860.610428080187,7809.1856305279525,7891.201062815932,7913.689866186625,7946.247593755747,7856.493409649499,8007.450584911024,7943.278360800094,7873.326390940149,7840.649089612047,7970.97179385718,7905.193575174581,7906.60475452686,7909.729232732724,7887.305494095157,7894.315659675972,7961.599866799681,7896.243854114998,7942.773693215701,7890.389516187462,7983.804644176806,8013.205329127399,7968.195539739952,7882.953363168718,7926.646414459201,7979.233577069482,7983.5782370742745,7786.531929063864,7916.245308729358,7891.2243032062825,7919.7844328397305,7906.980471384224,7942.689083147095,7919.78936515279,8057.860239983504,7911.605083347731,7914.883722809579,7994.53329729308,7783.325050577108,7926.336291792297,7907.933157404879,7913.677850291759,7896.926550334672,7917.285639445129,7965.465730177396,7958.977202681841,7883.34286820971,7919.7459440781595,7951.690771837329,7868.001546572739,7897.5582124405755,7946.078005785018,7877.768774835729,7922.7156758383535,7902.176395677398,7951.606785971053,7962.886331083604,7920.2086479888985,7906.490656471362,7960.320360699776,7838.172238044018,7979.135385026947,7894.77825212201,7903.880376081905,8012.321734502227,7867.240356909975,7876.718755050744,7901.968015203785,7981.039218855369,7960.625213872897,7960.061539661928,7974.322328051764,7880.21643101171,7944.685126150176,8047.534085905846,7967.584022092304,8005.861123341266,7927.560349776235,7846.2298457885845,8008.320589202414,7895.323144530706,7908.5356714912305,7967.212125687598,7947.932995781061,7954.99506768694,7797.688378132855,7923.3803175629355,7867.856165948649,7941.580396702874,7980.569247446065,7988.292720240318,7915.9131550641205,7821.134323325661,7957.121803053018,7934.650533079937,7907.925235051191,7993.119281164138,7983.66413177357,7893.976500454219,7918.938750146297,7885.617692792135,7863.384299639411,7864.2098768872365,7859.147127833294,7900.3017795339665,7871.3694692608215,8013.453658550178,7970.036248321063,8006.839042183817,7900.229204866549,7929.392171833984,7720.400395142368,7907.276220677817,7906.192332343156,7862.619297883843,7864.419539204922,8020.052260225493,7930.761652241276,7868.698312424413,7865.48578267727,8010.657588795568,7814.324217378462,7946.1888797240135,7923.453485779891,7850.1972312168045,7889.141992097153,7886.828976921233,7873.944454352418,7897.508039391626,7890.163867044904,8015.278385879652,7964.425577805148,7868.815534278183,7803.671427138311,7902.449286347246,7815.639821322083,7915.380612944396,7956.892573106911,7903.925034414727,7970.111486994856,7958.400459234572,7910.529674690268,7920.913113264857,7964.494398898729,7925.434759709969,7902.117227427005,7778.630207491543,7949.08596993797,7976.374329121825,7887.056507030636,7885.742059533297,8046.489516744785,7935.062829865852,7911.717551231964,7978.298485752024,8006.432714332689,7910.68471373078,7929.649465805416,7910.787573357707,7941.602405408267,7972.399542437399,7926.950364768237,8017.939625144208,7857.603854449392,7960.733284474639,7921.165179541768,7976.725877645196,7939.523457746518,7972.1436166951835,7876.435971888603,7973.353738804764,7913.65362065218,8011.831362265854,7983.6265653824075,7877.261657814512,8036.004893300414,7921.847792162916,7922.930772060257,7922.497076838193,7880.426411003796,7925.473942339309,8024.516683479259,7952.247479504428,7973.314185555289,7913.2290571758185,7864.018146453472,7933.605933266083,7817.322445089701,7971.033757084975,7896.063476361123,7937.716528543324,7904.548573530477,7907.588929325806,8051.329447859599,7970.512171945449,7912.520214123692,7872.3143527523425,7915.4058318332045,7938.792959889427,7867.868973242898,7866.770797920069,7952.222422239437,7911.113540731989,7815.0313773135895,7940.0899826672385,8022.156184340324,7861.303387412291,7926.364603826583,8075.31394590618,8118.376048464853,7959.634359551689,7934.442829754387,7972.307015588339,7827.437367983994,7936.139996878988,7866.139746083409,7964.937270452379,7854.446014858245,7924.87869853814,7909.615683640883,7931.22913520111,7884.424922950025,7837.812521944613,7887.887682593115,7810.418611261279,7974.226875254279,7919.91081430538,7872.282900200079,7980.717584671374,7932.647682370185,7987.507459775175,7917.84634590841,7938.422763321425,7886.765857247156,7983.412525288554,7880.828001605092,7923.111241772512,7970.684986819299,7966.698423889115,7887.151792631069,7927.320254808308,7973.133242118052,7931.910209609372,7841.692725256229,7937.945783568988,7899.698560433375,7869.753008153643,7950.82849204978,7935.680427912991,7907.971392584253,7974.93465660512,7873.03837729687,7958.018904413445,7907.887810777522,7914.272322199868,7949.942144246471,7930.5426659012755,7957.604225069526,7892.97756772874,7928.036181442242,7990.973741702846,7912.467399361307,7935.464810593605,7993.182386905127,7911.154242067893,7889.296225805193,7926.442840900858,8005.407955235775,7916.394027721271,7863.795367526988,7954.284078939302,7858.649125838076,7907.5508892096595,7887.641320522323,8012.052550033718,7957.767916557525,7986.296716249882,7995.437231439734,7883.14341605872,7988.1027035763445,7924.5472721800825,7843.54509304516,7916.835090760133,7933.0608736603335,7994.573664234878,7913.844612632294,7962.460820157276,7823.4700550078305,7917.237782075361,7899.2460917688895,7929.4906481115095,7962.623859576768,7980.166054539679,7806.027389663878,8004.013760317452,7942.434210746312,7917.393838231278,7965.711791293492,8032.217924638715,7946.905101739407,7887.004503173957,7950.627100412977,7845.53169498799,7806.51379654348,7852.937866788535,7951.183267476272,7970.867814009998,7979.196233607722,7969.528273021641,7917.302927620396,7897.45087193263,7897.897973571719,8008.705847438263,7922.62028991969,7933.466463057811,7901.249683718908,8064.698816802189,7927.207006671162,7911.497035038929,7924.47078231501,7866.476096394675,7893.226465621499,7926.226699697373,7885.103525628521,7978.59281108405,8041.914442481428,7932.124146598376,7954.165647693517,7893.829542604596,7967.43334968149,7912.465412502996,7905.404332632964,7907.199276594085,8009.549189372955,7876.216124483779,8029.2434472688365,8040.374479599173,7909.992230910277,7937.806709060408,8068.155214597417,7869.656164834001,7957.385116118353,7892.080979105942,7857.891773347676,7870.011405625623,7954.214786907356,7897.309908097353,7860.987184345897,7890.803532316404,7923.267855251938,7960.137190755117,7816.522574388756,7980.3408924978685,7827.201595059884,7894.313307770762,7907.812789459897,8014.797532728823,7921.196724052411,7955.470801821333,7884.169153258392,7862.624550657921,7965.207926254953,7933.756000980889,8081.472746880381,7983.411828634167,7995.16598487424,7827.415077830228,7907.6349531012265,7835.203857793334,7960.376965262026,7870.4199655574075,7947.292578122823,7962.570791232187,7949.778235402304,8014.206385255449,8026.749745024495,7912.722071125626,7908.367298485752,7924.562188943816,7920.002655646523,8054.711063986312,7929.543908732702,7986.502154055364,7811.710693366178,7894.908724342219,7940.365498330816,7894.719273361608,7848.050125676451,7946.158862279787,7905.522189835534,7950.587522083944,8013.252066276912,7799.602636697524,7932.853407197275,8087.99811345992,7913.586895094996,7987.350461742528,7908.200761861238,8033.528601842511,7908.867262259724,7976.400902306762,7971.949977428398,7822.194015460154,7973.844796549053,8051.180051719622,7877.929153035462,7904.082325042217,7857.952747326241,8036.427336160821,7916.775746952833,7907.184805689159,7879.773927291575,7922.432131929621,7893.4352362215695,7899.99197732808,7927.143900930173,7921.603957554242,7985.853897641964,7851.701907161049,7902.073023312842,7898.436325789031,7941.983731726756,7911.530976040663,7942.142596793161,7904.414918993028,8058.0589843336365,7956.872456514833,7883.66093830986,8005.11503993223,8048.931722296842,7881.739532071181,7919.153910460405,7858.587329807333,8067.6406656672,7940.976656504801,7943.363533765445,7858.174737639958,7984.84641278723,7883.890034498325,7930.193421910616,7836.20890714433,7951.158293809808,7996.339621800266,7986.902944897424,7835.004717743509,7828.844554113326,7949.900698883681,7975.985573680955,7934.01614844869,7901.73840906431,7836.6673475302205,7992.2669050153545,7871.8011358253125,7938.245122025983,7944.758015705376,8039.350812856339,7941.929403831042,7809.699471657313,7913.824682743592,8033.5331941882305,7863.298154144536,7881.795857971677,7832.082692875733,7909.017692234812,7987.61332337582,7871.08074224345,7897.3611930067045,7964.377514225683,7995.231687742784,7923.840808899342,7946.281125124701,7933.436342508736,7858.231793634251,7784.223235931761,8012.263198814016,8018.630154545809,8102.307862720073,7797.405360894839,7915.282811028317,7846.28194439026,7918.99853423917,7888.619445574573,7919.404878810003,7923.546829107892,7835.6524251932515,7911.808289072558,7999.154150109514,7967.620236973957,7856.561874056033,7976.5641033500715,7829.229795629469,7888.171906436529,7965.713906336211,7882.338462567366,7935.951493348344,7878.4235993066895,8019.509870199355,7948.258294367131,7924.016577587792,7987.581249407844,7985.772787564998,7829.018230051998,7997.235483115885,7886.310041854996,8096.874415506969,7969.080873214475,7913.704858189033,8004.335631363938,7986.485896928591,7873.514027832736,7907.37659742851,7833.352337136137,8031.9034269822605,7939.2013609840105,7871.500270301902,8111.4361892447705,7936.649365487185,7823.5165831610275,7953.890405118459,7983.468572527295,7960.1040606590905,7974.100856048911,7976.744213588662,7928.866398408284,7968.736893144363,7967.343826806146,8004.316010789783,7907.637452697167,7961.2823958223025,8033.887977974575,7797.296521186653,8034.265246977913,7875.595611634685,7907.894969598003,7898.716506250383,7873.855109820597,7953.571844573619,7947.042791299065,7940.146595589342,7945.358679477677,7998.339828009965,7982.849048927431,8055.840332387741,7985.496369037335,8073.2329863065615,7919.080583406249,7924.310097587347,7979.086585780448,7867.452928456381,7934.209609371952,7870.64650641758,7888.92074581032,7891.413840572037,7959.717177825212,7997.724509415981,7938.51630728589,8044.643803398559,8008.458994922783,7798.687182673927,7855.097762903432,7916.113646623456,7885.086700031768,7952.927286001705,7943.105258904637,7898.700591877568,7929.747019712532,7935.09035607399,7947.278034765841,7956.273096879546,8032.104598476278,7958.181698610592,7778.372122120727,7817.451298285116,7949.341630951519,7845.635986936337,7990.152556164277,7906.125796275965,7959.939307469807,7957.613894632417,7970.9772500543395,7934.8318777901,7996.976062955264,7966.678273857626,8013.483322093976,7885.279695589899,7870.431251358476,7892.184089528449,7849.610088112847,7940.887621287528,7845.745233490685,7922.04858189033,7813.5864241566305,8043.352534985984,7995.2537159545,7849.783457523588,7859.331699446578,7851.934102068228,7861.434628738944,7879.815107925698,7925.701857001934,7916.800193948581,7894.967226591019,7922.292302247686,7962.7266244587,8156.127521192227,7968.47903348957,7976.142457462283,7934.072850542554,7908.0597534400795,7929.341001175952,7863.4418070657475,7928.241028484805,7896.370099036388,7822.469386219619,7966.71937367984,7945.706354602657,7946.596049133641,7860.1007585172965,7862.258051931404,7900.662604707154,7966.940051496692,7962.972011213349,7963.726747069872,7934.06440151815,7785.590099705176,7873.916526871353,7947.4916763733845,7924.812460639027,7987.8250700834315,7932.90500699441,7949.084908236684,7901.558962040695,7894.296451521214,7947.541370124116,7945.196977634608,7905.946979027916,7882.944813826081,7885.6781038739555,8022.5784934430885,7885.088101700394,7890.872476021156,7834.085903059149,7899.342216141204,7864.988053770572,7970.955411332617,7774.6530131695545,7963.297947934838,8064.991004798555,7947.616252110863,7910.544087076225],\"xaxis\":\"x\",\"yaxis\":\"y\",\"type\":\"histogram\"},{\"alignmentgroup\":\"True\",\"bingroup\":\"x\",\"hovertemplate\":\"B\",\"legendgroup\":\"wide_variable_1\",\"marker\":{\"color\":\"blue\",\"opacity\":0.7,\"pattern\":{\"shape\":\"\"}},\"name\":\"B\",\"nbinsx\":40,\"offsetgroup\":\"wide_variable_1\",\"orientation\":\"v\",\"showlegend\":true,\"x\":[8007.101977907234,8099.467691219162,8089.872583848655,8022.908301163704,8007.404302168687,8130.432030381753,7932.903462282452,7851.748396300891,8092.237130585828,8008.739560804098,8052.951792517794,8007.106137377144,8013.841782747937,7941.353423510937,7905.389323765963,7977.121652492436,8030.950066695409,7908.920996455976,7961.093368530965,7932.261916572655,8139.74219537765,8010.842852743818,7989.904129026568,8013.197508825071,8022.977928299287,7894.629336391196,7894.444841568664,7924.888223256751,8127.619106729449,8001.5408935924825,7976.116823409037,8004.636662808179,7964.968162566033,8087.0596697142655,7920.495119617827,7995.082434333365,8061.527755647065,7932.807966356964,7898.426060337997,8002.1302394736,8022.263555754,8037.079835661957,7957.454078847545,8016.223832235506,7881.391171221738,7999.423455228001,8033.2580041486935,8008.842510868622,8094.84376632393,8046.545085675255,8005.926201917018,8166.152693220724,7986.189988060613,8020.586098591627,8159.288212409124,8054.382960478248,8059.699450550222,8028.317118464482,7941.111988726863,8047.5144584164955,8115.517003759578,7962.837144792718,8005.698800672414,7901.253355625789,8047.994852276319,7990.769003432047,8165.555366215872,7972.539730237026,7961.127553321333,7989.867291536611,7932.952429518422,8043.134142939524,7974.139730307009,7850.592244086993,7958.500787887609,8109.017881717481,8098.313806019241,8014.74461173895,8095.690858320199,7949.289479761829,8027.09141420857,8048.227699589328,7984.451945994216,8054.160478387329,7924.45595058801,8027.7411332900365,8050.426721763278,7906.88720903866,7892.695362604665,8038.14880123229,8004.680974872698,8044.817970108142,8007.940512385889,8119.765193465669,7965.11247610023,8004.805792982496,7997.318081873685,8076.437328082615,7895.076333628199,7959.90830242343,7941.3875987134015,8005.152658928224,8053.456256001186,7870.75653272064,7912.426052009821,8058.066426105967,8011.238952147271,8196.590441701355,7957.444789360086,8035.9126678582725,7993.131168520328,7932.561041134198,7943.68391891854,8043.986415272336,8042.228448075564,8177.273483851733,8057.547683156927,8095.129394758427,8001.1761494285065,8094.075785928041,8062.1895032067,8167.5307556806565,8015.002750748137,7928.819484926697,7876.4395527558545,8160.85562557912,8023.581885933357,8095.004038466383,7934.6910261434805,8162.632021983589,8029.2131126809445,8046.487455804668,8157.339149364119,7945.371886521227,7969.17793802716,8068.547259539612,7850.657557016525,7947.249474484983,7864.461399455799,8150.961381399747,8094.228124466365,7979.825492202305,8096.500380156821,7941.64601787129,8061.574081520963,8096.73690068613,8149.762379661329,7979.115347921876,7964.59918733781,8009.457655205044,7979.404619479257,8115.096294030867,8165.656143465811,8092.027087013362,8106.8338553724425,7973.673864358479,7957.314260219866,7922.046877983095,7993.359689869854,7923.332502638421,7991.23436577077,8040.730101673753,8049.480523051557,7931.4578652290875,8004.0190367447585,8033.89036709768,7941.838058232857,7977.3440282066285,8084.447694074537,8068.226875519635,8088.951494942905,8012.20848788285,8028.978160858405,8084.086590933901,7977.603736482456,7940.612255788434,8071.400687389599,7959.859141469848,7942.410148409528,7957.133432524965,7941.195345738351,8156.144265944612,7919.5203388098635,8095.470658569902,7996.835367951492,7913.521016541577,8062.147114111431,8025.976051379957,8088.006064523081,7970.022162960747,8036.466084510709,7985.445398296854,7970.857046548215,8028.0975035762185,7957.017351583473,8109.066251074267,7973.6988908826725,8079.500289386683,7989.825890065254,7932.407420546382,8110.301277080574,8079.627038793912,8135.723844552813,8034.735746078754,8050.836783251825,7933.009688260206,8057.708987783472,7990.340701134592,8079.9210824671545,7931.0215622821715,7955.518627754244,8065.76964337203,8123.437166627941,7928.246003874352,8102.784011928187,7999.372706811746,8143.376756335715,8082.077245808617,8000.091080521581,7939.68830471893,7843.101052499711,8108.375905951778,7997.100905811811,8097.304539276808,7988.124868848694,8049.394552321952,8005.609782949494,8008.356245783422,8011.6528575447655,8148.448853230908,7936.190706943323,7944.626693279511,8039.115519034436,7977.641135319592,8018.476679702484,7929.845383600069,8018.014851940396,8026.383064545478,7975.541011446693,8043.584204246108,8038.105910486786,8041.194943046463,7935.452656968655,8010.448122030901,8038.124733008415,8146.718628874,7885.207277357715,8012.525025124504,8068.833079872124,8117.574068783751,8025.271558572982,8118.787323953519,7926.0013321585275,7957.446793301625,8007.434020326353,8204.490945591104,8062.099222050214,8077.596229994873,7970.964487600113,7947.025916589447,8114.189253431348,8012.287437748619,7968.056975863681,7985.443073125602,7962.4122006405,7949.717774570924,8128.742755395119,7955.546742212801,7967.766842654825,8096.401606848422,8290.106075860602,7861.298033710224,8016.023393641471,8089.859251135849,8061.5007752903675,7984.6914088897365,8054.376544981958,8023.238208280026,7854.679152891348,8083.454287891808,7977.67101717144,7914.803105920421,8063.48836434588,7959.035715915357,8007.60281065503,7949.916872398318,7904.793102239229,8080.762508643109,8011.91165909899,7975.562918053528,7999.157599007338,8065.364607973774,8011.024278737811,7929.162122537588,8179.7755623269595,7885.05435535705,7960.871886871153,8103.973675539792,8023.31488798251,8085.645137743861,8013.213382471915,7989.682400880686,7820.843707676761,8123.587403806049,7891.938438879575,8052.877495304025,7987.066278858184,7938.409100528804,8054.828406014763,8053.600209324199,8031.2746611341445,8076.327381998818,8045.216143717756,8115.975851783628,7939.884680281953,7827.931707192465,7996.66442426397,7994.902421680137,7919.595491936363,8018.497569571779,8043.901399973687,8203.135828450733,7942.94887394638,7983.176043051782,8069.83782686348,8027.87110164296,8041.475375117924,7858.976691949804,7898.7962480509295,8029.326044381488,8187.2599340464285,7968.556140736406,8013.405463354618,7857.380305399182,7834.4443773602325,8003.541972056516,8086.002002401877,8120.1618622645365,8067.6272556064705,8177.834348554535,8027.163458475289,7994.741011796617,8042.692254794651,7920.199425355732,8058.115356250053,8002.393027355612,8036.657304861696,8017.745070768515,8078.540976734291,8061.982717981303,7992.228861195169,8021.695494105888,7950.287564000998,7955.619481007553,8091.090129569649,8091.245051172807,8088.492646988841,8034.240678459553,7960.882296953428,8089.261869193021,7951.653152040335,8114.145670257348,7910.509538632946,8001.881686057089,8025.499949121133,8034.862917213712,8002.650311571825,8058.440136918044,8088.345893578487,7959.18137994407,7878.118683811982,8132.252693010768,8041.818536704168,7970.142706895733,7902.456233116195,8121.204857007285,8065.911836090261,8082.103881000838,8143.290278007173,8007.785513099732,8001.772649284336,8088.275837436767,8012.493648399731,8131.967023495257,8028.693966130209,8054.841982624201,8003.297098224907,8033.002760895916,8016.95918779971,7947.71433244406,7934.216111734751,7997.776275470927,7943.118134432186,8101.1706540908835,8055.739405508074,7835.343862832815,7947.915284095838,8073.5010189070645,8071.704002564239,8038.607355250673,8046.274246894781,7952.362484638361,7989.237526349235,8078.887456364547,8086.248214270718,8063.450139829404,7976.381296592306,8113.377690281365,8010.696534288296,8084.623665811922,8073.143568127294,8025.60394279732,7890.553867283835,7965.0387951716175,7984.238909946505,8074.144250547981,7895.97608322299,7887.183692798014,7959.073445360156,8111.468344596203,8163.8662201410325,8078.296710439755,8081.910066107533,8001.371869444965,7962.365786375939,7996.708461078714,7935.927152169103,8010.032200304573,7910.239110732572,7899.26375325079,8036.432752623726,8202.018182651636,8066.17878890099,8054.106471763977,8215.309295366173,7929.346927812194,8117.778941677561,7942.9639965875485,8037.337923652307,7947.570480948767,8020.079787582477,7891.284297395729,7962.707818689271,8053.757114503344,8077.838277424898,8025.047848390772,7948.301217873528,7930.763340271148,7942.4286867933315,8046.0229551874045,7986.55560297407,8075.214529380971,8262.267014257282,8052.838573180192,8014.741020404735,7895.755859887854,7907.175772211039,8070.349023993551,7933.339079379431,7951.197503996125,8014.190909059102,8099.310451583193,8074.712439498237,8050.547236444667,7940.764042847427,7995.438089376045,8080.589624350192,8032.69467101598,7898.8806937442105,8107.785850285956,7934.806408077911,7992.912310796396,8085.863195962722,7962.409873579661,8025.016065754812,8015.753797859028,7966.81368984466,8029.75134944474,8017.789169799651,8078.932378415603,7961.013631547418,8099.7308584181765,7967.780392040221,8175.859471027737,7948.177602030678,8033.506439710993,7992.199251933676,8100.509009898635,7987.134002480256,8093.891054837203,8055.278299568055,8025.30890933064,8102.6619757797,7999.823070312215,8094.782645057263,8058.703878621356,7923.129015721359,8015.052966720879,7911.411690732066,7990.798835874709,8047.447403778057,8055.219511380909,8117.986854706189,7806.630043236539,7924.834749916719,7915.246300539442,7910.17330819017,8201.869818403733,8139.851031854229,8067.351965309989,8079.735389086867,8015.330447818016,8102.1971499435895,7981.812333751376,8083.811202098983,8002.108126621893,8013.694453153647,7955.009514558215,7954.009093670307,8094.659835088085,8007.817036022518,8131.45805936661,8089.17255067591,8010.283320339511,8072.634467388535,8048.36468628664,8068.1565347501955,7938.3704589035915,8004.85259300265,8049.493476447354,8094.324060595541,7937.866100257264,7990.965954829083,8091.6359303484405,8016.249059475788,8025.688314866708,7969.7701119894955,8042.070510832231,8183.69708555768,8004.6176668644885,8011.108593209805,8111.430531099794,7974.333305782694,8010.52343094331,8100.1511479588235,8041.141633960489,8129.195453234831,7948.0278767905575,7952.259309853006,7942.585563278754,8013.817992293288,7980.089055584637,7970.413138435313,8105.480245282334,8104.5634721223005,8053.405188034856,8110.928700580314,8097.004302938517,7950.318528236023,8042.715960077932,7961.305283354003,8158.907395561855,7915.954273055054,8020.732592428777,8041.567660635855,7970.822577550031,7930.611350956409,8031.234850344745,7985.884517917481,7981.957362599063,8015.656723078991,8017.100538182245,7998.512541046019,8116.737642663785,7991.914657103024,7909.907878666146,8093.70128162958,8065.172147704081,8056.728550883065,7913.48710462151,8059.194119816583,7956.0078606800835,8042.40741522755,8076.711135963448,8114.90945164198,7985.274920917303,7952.337886140512,8085.388385621229,8053.121483619386,7941.8741746006,8021.9164538199075,7995.659786588694,8034.925419628184,7949.7835955192995,7996.440153084507,8047.229617799628,7993.122885832578,8018.424950800767,8013.016388104281,8194.169526287647,7954.149463917294,8010.863443778501,8003.466853502454,7987.309669084403,7958.101177632337,8063.66083313971,7952.363108341892,7971.672717379435,8047.48386782972,7945.508889454987,8086.890930544398,8085.243452722543,8080.567068635382,8073.62581000277,8037.867946943206,7946.363344750167,7954.718801806163,8019.15418186501,8007.635026496199,8059.415146575927,8011.270544914771,8004.220591734527,7965.087093493944,8070.841880376576,8066.840217470417,8082.470821354286,8050.921249590591,8032.539226487245,8053.079510093191,7931.314048936091,8024.396265127189,7937.950606977191,8093.965784066446,7998.250929046724,8133.823190825847,7955.5182323407635,8216.278501963769,8061.629729915092,7965.35374949961,7955.396352818006,8011.918694519639,7936.904607861798,7920.765737176709,7995.776896445058,8076.652951744158,7989.411772684137,7924.015807371346,7923.963489688456,8034.845393887818,7971.490681608864,7915.453860075417,8049.6442585962195,7885.543851915202,7975.450138919607,7952.657602296618,8011.153963162858,7942.685271652562,8048.209795476752,7944.209457240758,8118.085501062369,7935.557849762472,7952.780140165331,7966.021145033465,8008.917798295731,8066.733664944113,7968.010343316881,7967.956534750195,8216.608409080094,7913.9351754936015,8138.559430716556,7933.530176977274,8130.534426097567,7917.852482426846,7855.789517413592,8159.454166188438,8106.68818532505,8002.772589097504,8148.338165029491,7979.640302781752,8097.758061186212,7975.789292622773,7986.235414771249,7876.192292166477,7907.909575934783,7907.115175199667,7929.967690519315,8065.8468610468035,8037.227242729289,7912.991487202599,7967.207423905653,8025.015953639343,8122.470592084452,8079.474017554962,8008.8203368502955,7949.776252725903,8026.912092094247,8073.592809283328,8212.540993320663,7975.070004563,7970.244895666827,8107.299350962006,8131.976381987622,7910.885525207085,7989.8203032576475,7919.117158495721,8015.275380996636,7902.2892356552375,7899.989068321854,7923.510097880584,8025.47220005263,7923.490050486952,7968.261628585665,8042.069450984126,8005.924208333216,7986.497771337633,8022.249016505187,7991.5235194039515,8000.651214654233,7956.786801167905,8027.226936686254,7882.863588926746,7959.999746725415,8096.297893740847,8082.493098390072,7848.361651890566,7971.501179032026,7948.764530570713,7978.90616614085,8065.838064461495,7935.35877048102,8010.364523292301,8089.385183121932,8096.199648746852,8040.297827185409,7981.478760697159,7955.434773081648,8061.915673420654,7977.671223206363,7979.348793813913,7937.0392802354845,8070.763401507752,7976.802220334188,7946.11326412781,7904.308995691741,7982.810541233578,7931.062338440348,8006.137717197477,8002.441397832151,7888.875362100772,7906.474957729251,8030.344750168664,8016.07805763099,8039.587208268832,7941.581493389244,7972.033809462489,7973.169318013217,8063.378912563931,8086.306034989544,7955.145909325042,8041.9232673890965,8055.248097186337,8196.457889163848,7986.479181934994,7920.877485716126,7903.963903507911,7869.407925065994,7991.558090019904,8015.217277889599,7970.51818468119,8092.121017591353,7951.6673535430455,7904.157041159395,8091.047261569168,8044.137039955655,8001.666886955134,7985.37064191355,7910.379162339279,7940.400489682858,8040.268346835716,7990.038571010661,7973.398123150657,7956.32327746689,8054.084631432643,7915.186104400357,8013.432112333819,8012.196816886465,7927.9773121541,8096.413267417091,7978.775522995566,8124.41548145266,7972.381012174536,7962.450343414862,7960.097717659375,8001.877171834803,8024.930764078819,8006.176022336312,8016.951237399256,8058.375864310889,7966.473622001506,7892.25059885897,8063.990854541025,7905.994558200665,8159.382890143635,8009.532782157264,7992.052673415054,8019.093866192077,7995.488539167633,7954.2111083194995,7991.669430618581,7968.236485676932,8093.213503825362,7995.44765635279,8051.015997869665,8038.067073604295,7958.939155312816,8004.702499363137,8017.018893766045,7988.337323393639,8033.881357548968,7974.670385699608,8029.466003678394,7974.3049013075915,8036.370303397617,8121.906139616652,8089.1711566509275,7960.990404469504,7965.446601753535,8123.869222134199,7992.996291021524,8034.462939538828,7969.916697506584,7975.152527426999,8030.056448389093,8045.0940443730915,8046.552599581213,8040.42489103384,8009.493480086555,7872.588580738535,8032.279991587843,7957.653631575412,7942.896085126571,7944.306333544221,8302.725404721446,7959.846123478185,8017.426068036313,8111.064767678835,7964.3638407316475,8093.633028083454,8001.62782661154,8037.120958874196,7963.101653178286,8022.504024959339,7985.973556775777,8097.585385517648,7923.980471122918,7984.930594505921,7889.661902085826,7950.072673149112,7991.3069642462215,7996.91529963244,8160.506109523233,8058.440413077617,8069.209831098959,7914.0011696540805,7906.379134275421,8093.310424009228,7949.899503108717,7833.104555303298,7941.970052502513,7995.229667488753,8068.128537935896,7991.939820237331,8094.221333922141,8083.778676575565,8010.615654524791,8010.152554091163,7873.695421531766,7946.080595415724,7981.54524433054,8008.656203092765,8110.5470187223045,7968.511045543233,8070.141103546544,8046.256273707314,7894.10276453512,8140.133179180393,8032.552896246303,7989.415081770109,8023.626812533419,8007.812657570525,8026.778651241107,8074.571321184927,7977.434978276754,8068.515241895075,8051.603314334821,7911.237410524576,7932.775661985158,8060.000459519455,7963.405769537621,7877.999589119899,7938.955731046047,8112.621724156755,8081.720570249229,8030.351290307683,7943.012172506655,7991.695785662096,8001.518103918861,8020.153433938653,8058.381860039021,8073.456213800419,7924.773978293547,8007.079889060275,8035.37955964235,8042.671068120295,7951.92911691922,8003.045067059329,8037.663593615718,8069.639007925065,7998.774121132295,8037.44943683322,8091.954859106829,7993.671327973438,7936.119340828226,7885.788365185697,8046.015321117741,7883.042184949933,7939.94998824257,8077.891677211029,8108.078692951981,7939.625967888226,8032.297783934873,7984.475961239677,8170.921782663953,7999.423962127087,7858.742170952996,7980.698395181136,8061.999396032148,8014.197952248048,7958.086944986437,7877.349793335215,7930.8865360659065,8094.315237136118,7928.353580346618,8079.070181064385,8096.10585743839,8040.607025902734,8074.720315924878,8119.903599172503,8069.405193843589,7940.84489433712,7991.334604978431,8009.785940846145,8098.911597792405,8082.225131501227,7990.35021499296,8004.0559344915355,7999.734685670779,7950.60801548621,7947.319724414296,8019.126186660359,8209.405908807152,8073.192074724049,7997.962086705427,8087.392276419918,8042.560711716278,8026.261623546771,8059.416282567376,7977.02661223724,8049.548634668733,7974.666148896623,8025.172339392141,7917.047166669933,8117.784648368937,7953.304247510644,7947.968581354401,8051.097026560587,8038.116111734752,8037.298467965208,7911.250310102148,8129.780312537617,8029.578683154126,7960.835519118416,8110.196413354759,7989.001546101714,7986.616388314236,7864.721413074818,7979.543684441843,8014.2403011721035,8054.166904731244,7998.4058516296645,8098.097404547884,7984.696858037462,8037.219347406786,8130.297357728128,8000.474957169372,8060.810340097588,7940.842189778874,7913.448733557098,8021.48900799505,8068.12340287945],\"xaxis\":\"x\",\"yaxis\":\"y\",\"type\":\"histogram\"}],                        {\"template\":{\"data\":{\"histogram2dcontour\":[{\"type\":\"histogram2dcontour\",\"colorbar\":{\"outlinewidth\":0,\"ticks\":\"\"},\"colorscale\":[[0.0,\"#0d0887\"],[0.1111111111111111,\"#46039f\"],[0.2222222222222222,\"#7201a8\"],[0.3333333333333333,\"#9c179e\"],[0.4444444444444444,\"#bd3786\"],[0.5555555555555556,\"#d8576b\"],[0.6666666666666666,\"#ed7953\"],[0.7777777777777778,\"#fb9f3a\"],[0.8888888888888888,\"#fdca26\"],[1.0,\"#f0f921\"]]}],\"choropleth\":[{\"type\":\"choropleth\",\"colorbar\":{\"outlinewidth\":0,\"ticks\":\"\"}}],\"histogram2d\":[{\"type\":\"histogram2d\",\"colorbar\":{\"outlinewidth\":0,\"ticks\":\"\"},\"colorscale\":[[0.0,\"#0d0887\"],[0.1111111111111111,\"#46039f\"],[0.2222222222222222,\"#7201a8\"],[0.3333333333333333,\"#9c179e\"],[0.4444444444444444,\"#bd3786\"],[0.5555555555555556,\"#d8576b\"],[0.6666666666666666,\"#ed7953\"],[0.7777777777777778,\"#fb9f3a\"],[0.8888888888888888,\"#fdca26\"],[1.0,\"#f0f921\"]]}],\"heatmap\":[{\"type\":\"heatmap\",\"colorbar\":{\"outlinewidth\":0,\"ticks\":\"\"},\"colorscale\":[[0.0,\"#0d0887\"],[0.1111111111111111,\"#46039f\"],[0.2222222222222222,\"#7201a8\"],[0.3333333333333333,\"#9c179e\"],[0.4444444444444444,\"#bd3786\"],[0.5555555555555556,\"#d8576b\"],[0.6666666666666666,\"#ed7953\"],[0.7777777777777778,\"#fb9f3a\"],[0.8888888888888888,\"#fdca26\"],[1.0,\"#f0f921\"]]}],\"heatmapgl\":[{\"type\":\"heatmapgl\",\"colorbar\":{\"outlinewidth\":0,\"ticks\":\"\"},\"colorscale\":[[0.0,\"#0d0887\"],[0.1111111111111111,\"#46039f\"],[0.2222222222222222,\"#7201a8\"],[0.3333333333333333,\"#9c179e\"],[0.4444444444444444,\"#bd3786\"],[0.5555555555555556,\"#d8576b\"],[0.6666666666666666,\"#ed7953\"],[0.7777777777777778,\"#fb9f3a\"],[0.8888888888888888,\"#fdca26\"],[1.0,\"#f0f921\"]]}],\"contourcarpet\":[{\"type\":\"contourcarpet\",\"colorbar\":{\"outlinewidth\":0,\"ticks\":\"\"}}],\"contour\":[{\"type\":\"contour\",\"colorbar\":{\"outlinewidth\":0,\"ticks\":\"\"},\"colorscale\":[[0.0,\"#0d0887\"],[0.1111111111111111,\"#46039f\"],[0.2222222222222222,\"#7201a8\"],[0.3333333333333333,\"#9c179e\"],[0.4444444444444444,\"#bd3786\"],[0.5555555555555556,\"#d8576b\"],[0.6666666666666666,\"#ed7953\"],[0.7777777777777778,\"#fb9f3a\"],[0.8888888888888888,\"#fdca26\"],[1.0,\"#f0f921\"]]}],\"surface\":[{\"type\":\"surface\",\"colorbar\":{\"outlinewidth\":0,\"ticks\":\"\"},\"colorscale\":[[0.0,\"#0d0887\"],[0.1111111111111111,\"#46039f\"],[0.2222222222222222,\"#7201a8\"],[0.3333333333333333,\"#9c179e\"],[0.4444444444444444,\"#bd3786\"],[0.5555555555555556,\"#d8576b\"],[0.6666666666666666,\"#ed7953\"],[0.7777777777777778,\"#fb9f3a\"],[0.8888888888888888,\"#fdca26\"],[1.0,\"#f0f921\"]]}],\"mesh3d\":[{\"type\":\"mesh3d\",\"colorbar\":{\"outlinewidth\":0,\"ticks\":\"\"}}],\"scatter\":[{\"fillpattern\":{\"fillmode\":\"overlay\",\"size\":10,\"solidity\":0.2},\"type\":\"scatter\"}],\"parcoords\":[{\"type\":\"parcoords\",\"line\":{\"colorbar\":{\"outlinewidth\":0,\"ticks\":\"\"}}}],\"scatterpolargl\":[{\"type\":\"scatterpolargl\",\"marker\":{\"colorbar\":{\"outlinewidth\":0,\"ticks\":\"\"}}}],\"bar\":[{\"error_x\":{\"color\":\"#2a3f5f\"},\"error_y\":{\"color\":\"#2a3f5f\"},\"marker\":{\"line\":{\"color\":\"#E5ECF6\",\"width\":0.5},\"pattern\":{\"fillmode\":\"overlay\",\"size\":10,\"solidity\":0.2}},\"type\":\"bar\"}],\"scattergeo\":[{\"type\":\"scattergeo\",\"marker\":{\"colorbar\":{\"outlinewidth\":0,\"ticks\":\"\"}}}],\"scatterpolar\":[{\"type\":\"scatterpolar\",\"marker\":{\"colorbar\":{\"outlinewidth\":0,\"ticks\":\"\"}}}],\"histogram\":[{\"marker\":{\"pattern\":{\"fillmode\":\"overlay\",\"size\":10,\"solidity\":0.2}},\"type\":\"histogram\"}],\"scattergl\":[{\"type\":\"scattergl\",\"marker\":{\"colorbar\":{\"outlinewidth\":0,\"ticks\":\"\"}}}],\"scatter3d\":[{\"type\":\"scatter3d\",\"line\":{\"colorbar\":{\"outlinewidth\":0,\"ticks\":\"\"}},\"marker\":{\"colorbar\":{\"outlinewidth\":0,\"ticks\":\"\"}}}],\"scattermapbox\":[{\"type\":\"scattermapbox\",\"marker\":{\"colorbar\":{\"outlinewidth\":0,\"ticks\":\"\"}}}],\"scatterternary\":[{\"type\":\"scatterternary\",\"marker\":{\"colorbar\":{\"outlinewidth\":0,\"ticks\":\"\"}}}],\"scattercarpet\":[{\"type\":\"scattercarpet\",\"marker\":{\"colorbar\":{\"outlinewidth\":0,\"ticks\":\"\"}}}],\"carpet\":[{\"aaxis\":{\"endlinecolor\":\"#2a3f5f\",\"gridcolor\":\"white\",\"linecolor\":\"white\",\"minorgridcolor\":\"white\",\"startlinecolor\":\"#2a3f5f\"},\"baxis\":{\"endlinecolor\":\"#2a3f5f\",\"gridcolor\":\"white\",\"linecolor\":\"white\",\"minorgridcolor\":\"white\",\"startlinecolor\":\"#2a3f5f\"},\"type\":\"carpet\"}],\"table\":[{\"cells\":{\"fill\":{\"color\":\"#EBF0F8\"},\"line\":{\"color\":\"white\"}},\"header\":{\"fill\":{\"color\":\"#C8D4E3\"},\"line\":{\"color\":\"white\"}},\"type\":\"table\"}],\"barpolar\":[{\"marker\":{\"line\":{\"color\":\"#E5ECF6\",\"width\":0.5},\"pattern\":{\"fillmode\":\"overlay\",\"size\":10,\"solidity\":0.2}},\"type\":\"barpolar\"}],\"pie\":[{\"automargin\":true,\"type\":\"pie\"}]},\"layout\":{\"autotypenumbers\":\"strict\",\"colorway\":[\"#636efa\",\"#EF553B\",\"#00cc96\",\"#ab63fa\",\"#FFA15A\",\"#19d3f3\",\"#FF6692\",\"#B6E880\",\"#FF97FF\",\"#FECB52\"],\"font\":{\"color\":\"#2a3f5f\"},\"hovermode\":\"closest\",\"hoverlabel\":{\"align\":\"left\"},\"paper_bgcolor\":\"white\",\"plot_bgcolor\":\"#E5ECF6\",\"polar\":{\"bgcolor\":\"#E5ECF6\",\"angularaxis\":{\"gridcolor\":\"white\",\"linecolor\":\"white\",\"ticks\":\"\"},\"radialaxis\":{\"gridcolor\":\"white\",\"linecolor\":\"white\",\"ticks\":\"\"}},\"ternary\":{\"bgcolor\":\"#E5ECF6\",\"aaxis\":{\"gridcolor\":\"white\",\"linecolor\":\"white\",\"ticks\":\"\"},\"baxis\":{\"gridcolor\":\"white\",\"linecolor\":\"white\",\"ticks\":\"\"},\"caxis\":{\"gridcolor\":\"white\",\"linecolor\":\"white\",\"ticks\":\"\"}},\"coloraxis\":{\"colorbar\":{\"outlinewidth\":0,\"ticks\":\"\"}},\"colorscale\":{\"sequential\":[[0.0,\"#0d0887\"],[0.1111111111111111,\"#46039f\"],[0.2222222222222222,\"#7201a8\"],[0.3333333333333333,\"#9c179e\"],[0.4444444444444444,\"#bd3786\"],[0.5555555555555556,\"#d8576b\"],[0.6666666666666666,\"#ed7953\"],[0.7777777777777778,\"#fb9f3a\"],[0.8888888888888888,\"#fdca26\"],[1.0,\"#f0f921\"]],\"sequentialminus\":[[0.0,\"#0d0887\"],[0.1111111111111111,\"#46039f\"],[0.2222222222222222,\"#7201a8\"],[0.3333333333333333,\"#9c179e\"],[0.4444444444444444,\"#bd3786\"],[0.5555555555555556,\"#d8576b\"],[0.6666666666666666,\"#ed7953\"],[0.7777777777777778,\"#fb9f3a\"],[0.8888888888888888,\"#fdca26\"],[1.0,\"#f0f921\"]],\"diverging\":[[0,\"#8e0152\"],[0.1,\"#c51b7d\"],[0.2,\"#de77ae\"],[0.3,\"#f1b6da\"],[0.4,\"#fde0ef\"],[0.5,\"#f7f7f7\"],[0.6,\"#e6f5d0\"],[0.7,\"#b8e186\"],[0.8,\"#7fbc41\"],[0.9,\"#4d9221\"],[1,\"#276419\"]]},\"xaxis\":{\"gridcolor\":\"white\",\"linecolor\":\"white\",\"ticks\":\"\",\"title\":{\"standoff\":15},\"zerolinecolor\":\"white\",\"automargin\":true,\"zerolinewidth\":2},\"yaxis\":{\"gridcolor\":\"white\",\"linecolor\":\"white\",\"ticks\":\"\",\"title\":{\"standoff\":15},\"zerolinecolor\":\"white\",\"automargin\":true,\"zerolinewidth\":2},\"scene\":{\"xaxis\":{\"backgroundcolor\":\"#E5ECF6\",\"gridcolor\":\"white\",\"linecolor\":\"white\",\"showbackground\":true,\"ticks\":\"\",\"zerolinecolor\":\"white\",\"gridwidth\":2},\"yaxis\":{\"backgroundcolor\":\"#E5ECF6\",\"gridcolor\":\"white\",\"linecolor\":\"white\",\"showbackground\":true,\"ticks\":\"\",\"zerolinecolor\":\"white\",\"gridwidth\":2},\"zaxis\":{\"backgroundcolor\":\"#E5ECF6\",\"gridcolor\":\"white\",\"linecolor\":\"white\",\"showbackground\":true,\"ticks\":\"\",\"zerolinecolor\":\"white\",\"gridwidth\":2}},\"shapedefaults\":{\"line\":{\"color\":\"#2a3f5f\"}},\"annotationdefaults\":{\"arrowcolor\":\"#2a3f5f\",\"arrowhead\":0,\"arrowwidth\":1},\"geo\":{\"bgcolor\":\"white\",\"landcolor\":\"#E5ECF6\",\"subunitcolor\":\"white\",\"showland\":true,\"showlakes\":true,\"lakecolor\":\"white\"},\"title\":{\"x\":0.05},\"mapbox\":{\"style\":\"light\"}}},\"xaxis\":{\"anchor\":\"y\",\"domain\":[0.0,1.0],\"title\":{\"text\":\"value\"}},\"yaxis\":{\"anchor\":\"x\",\"domain\":[0.0,1.0],\"title\":{\"text\":\"count\"}},\"legend\":{\"title\":{\"text\":\"variable\"},\"tracegroupgap\":0},\"title\":{\"text\":\"AB Groups\"},\"barmode\":\"overlay\"},                        {\"responsive\": true}                    ).then(function(){\n",
       "                            \n",
       "var gd = document.getElementById('d4211f5a-dc62-417f-810a-a3a20df6d535');\n",
       "var x = new MutationObserver(function (mutations, observer) {{\n",
       "        var display = window.getComputedStyle(gd).display;\n",
       "        if (!display || display === 'none') {{\n",
       "            console.log([gd, 'removed!']);\n",
       "            Plotly.purge(gd);\n",
       "            observer.disconnect();\n",
       "        }}\n",
       "}});\n",
       "\n",
       "// Listen for the removal of the full notebook cells\n",
       "var notebookContainer = gd.closest('#notebook-container');\n",
       "if (notebookContainer) {{\n",
       "    x.observe(notebookContainer, {childList: true});\n",
       "}}\n",
       "\n",
       "// Listen for the clearing of the current output cell\n",
       "var outputEl = gd.closest('.output');\n",
       "if (outputEl) {{\n",
       "    x.observe(outputEl, {childList: true});\n",
       "}}\n",
       "\n",
       "                        })                };                });            </script>        </div>"
      ]
     },
     "metadata": {},
     "output_type": "display_data"
    }
   ],
   "source": [
    "import plotly.express as px\n",
    "\n",
    "\n",
    "fig = px.histogram(x=[sample_a_mean, sample_b_mean], \n",
    "                   color_discrete_sequence=['red', 'blue'], \n",
    "                   nbins=40, opacity=0.7,\n",
    "                   labels={'x': 'Sample Mean', 'color': 'Group'},\n",
    "                   title='AB Groups',\n",
    "                   barmode='overlay')\n",
    "\n",
    "for idx, name in enumerate(['A','B']):\n",
    "    fig.data[idx].name = name\n",
    "    fig.data[idx].hovertemplate = name\n",
    "\n",
    "fig.show()"
   ]
  },
  {
   "attachments": {
    "newplot.png": {
     "image/png": "[encoded data removed]"
    }
   },
   "cell_type": "markdown",
   "id": "b7088942",
   "metadata": {
    "ExecuteTime": {
     "end_time": "2024-03-06T03:48:31.453480Z",
     "start_time": "2024-03-06T03:48:31.142970Z"
    }
   },
   "source": [
    "![newplot.png](attachment:newplot.png)"
   ]
  }
 ],
 "metadata": {
  "kernelspec": {
   "display_name": "Python 3 (ipykernel)",
   "language": "python",
   "name": "python3"
  },
  "language_info": {
   "codemirror_mode": {
    "name": "ipython",
    "version": 3
   },
   "file_extension": ".py",
   "mimetype": "text/x-python",
   "name": "python",
   "nbconvert_exporter": "python",
   "pygments_lexer": "ipython3",
   "version": "3.9.10"
  },
  "varInspector": {
   "cols": {
    "lenName": 16,
    "lenType": 16,
    "lenVar": 40
   },
   "kernels_config": {
    "python": {
     "delete_cmd_postfix": "",
     "delete_cmd_prefix": "del ",
     "library": "var_list.py",
     "varRefreshCmd": "print(var_dic_list())"
    },
    "r": {
     "delete_cmd_postfix": ") ",
     "delete_cmd_prefix": "rm(",
     "library": "var_list.r",
     "varRefreshCmd": "cat(var_dic_list()) "
    }
   },
   "types_to_exclude": [
    "module",
    "function",
    "builtin_function_or_method",
    "instance",
    "_Feature"
   ],
   "window_display": false
  }
 },
 "nbformat": 4,
 "nbformat_minor": 5
}
