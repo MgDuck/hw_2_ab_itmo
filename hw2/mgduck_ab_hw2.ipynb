{
 "cells": [
  {
   "cell_type": "markdown",
   "id": "48cce21a",
   "metadata": {},
   "source": [
    "# ДЗ 2:\n",
    "\n",
    "1. Применить ранговую трансформацию (потом t-test) и сравнить с результатами по Манну-Уитни на:\n",
    "- метрике cart_added_cnt \n",
    "\n",
    "(1 балл)\n",
    "\n",
    "2. Реализовать cuped-трансформацию и сравнить мощность t-критерия на:\n",
    "- обычной метрике cart_added_cnt\n",
    "- логарфимированной метрике cart_added_cnt\n",
    "- метрике cart_added_cnt (а после подвергнуть ранговому преобразованию)\n",
    "\n",
    "(3 балла)\n",
    "\n",
    "В каждом случае фиксировать, на сколько сокращается дисперсия, проверять равны ли средние в группах в ковариате и совпадают ли средние в метрике до и после применения cuped\n",
    "\n",
    "3. Реализовать разбивку на бакеты, оценить t-критерием и сравнить с результатом без бакетирования:\n",
    "- на логнормальном распределении (сгенерированные данные)\n",
    "- на метрике cart_added_cnt\n",
    "\n",
    "(2 балла)\n",
    "\n",
    "4. Реализовать постстратификацию на данных shop_metrics_old для метрики cart_added_cnt:\n",
    "- на сочетании пола и возраста (возраст разбить на подгруппы: 18-24, 25-45, 46-60, 61-75, 76+)\n",
    "подсчитать результаты для случая без постстратификации и с постстратификацией\n",
    "- проверить мощность и корректность t-критерия для постстратифицированного случая\n",
    "\n",
    "(2 балла)"
   ]
  },
  {
   "cell_type": "markdown",
   "id": "20887fbb",
   "metadata": {},
   "source": [
    "# Импорт библиотек, и данных, и функций"
   ]
  },
  {
   "cell_type": "code",
   "execution_count": 1,
   "id": "97a322ca",
   "metadata": {
    "ExecuteTime": {
     "end_time": "2024-03-12T11:51:53.153329Z",
     "start_time": "2024-03-12T11:51:50.841636Z"
    }
   },
   "outputs": [],
   "source": [
    "import numpy as np\n",
    "import scipy\n",
    "import matplotlib.pyplot as plt\n",
    "import scipy.stats as stats\n",
    "import statsmodels\n",
    "import statsmodels.sandbox.stats.multicomp\n",
    "import pandas as pd\n",
    "from statsmodels.stats.weightstats import ztest\n",
    "\n",
    "import matplotlib.pyplot as plt\n",
    "import seaborn as sns\n",
    "\n",
    "from tqdm import tqdm\n",
    "from sklearn.utils import shuffle\n",
    "import hashlib\n",
    "from base64 import b64encode\n",
    "import collections\n",
    "import datetime"
   ]
  },
  {
   "cell_type": "code",
   "execution_count": 2,
   "id": "631101d4",
   "metadata": {
    "ExecuteTime": {
     "end_time": "2024-03-12T11:51:53.597072Z",
     "start_time": "2024-03-12T11:51:53.162799Z"
    }
   },
   "outputs": [
    {
     "data": {
      "text/html": [
       "<div>\n",
       "<style scoped>\n",
       "    .dataframe tbody tr th:only-of-type {\n",
       "        vertical-align: middle;\n",
       "    }\n",
       "\n",
       "    .dataframe tbody tr th {\n",
       "        vertical-align: top;\n",
       "    }\n",
       "\n",
       "    .dataframe thead th {\n",
       "        text-align: right;\n",
       "    }\n",
       "</style>\n",
       "<table border=\"1\" class=\"dataframe\">\n",
       "  <thead>\n",
       "    <tr style=\"text-align: right;\">\n",
       "      <th></th>\n",
       "      <th>user_id</th>\n",
       "      <th>group</th>\n",
       "      <th>is_viewed</th>\n",
       "      <th>products_viewed_cnt</th>\n",
       "      <th>price_sum</th>\n",
       "      <th>is_cart_added</th>\n",
       "      <th>is_purchased</th>\n",
       "      <th>cart_added_cnt</th>\n",
       "      <th>purchased_cnt</th>\n",
       "    </tr>\n",
       "  </thead>\n",
       "  <tbody>\n",
       "    <tr>\n",
       "      <th>159622</th>\n",
       "      <td>1515915625599809309</td>\n",
       "      <td>B</td>\n",
       "      <td>1</td>\n",
       "      <td>1</td>\n",
       "      <td>28.25</td>\n",
       "      <td>0.0</td>\n",
       "      <td>0.0</td>\n",
       "      <td>0</td>\n",
       "      <td>0</td>\n",
       "    </tr>\n",
       "    <tr>\n",
       "      <th>47742</th>\n",
       "      <td>1515915625564451163</td>\n",
       "      <td>B</td>\n",
       "      <td>1</td>\n",
       "      <td>4</td>\n",
       "      <td>115.55</td>\n",
       "      <td>0.0</td>\n",
       "      <td>0.0</td>\n",
       "      <td>0</td>\n",
       "      <td>0</td>\n",
       "    </tr>\n",
       "    <tr>\n",
       "      <th>195583</th>\n",
       "      <td>1515915625606292558</td>\n",
       "      <td>B</td>\n",
       "      <td>1</td>\n",
       "      <td>1</td>\n",
       "      <td>11.00</td>\n",
       "      <td>0.0</td>\n",
       "      <td>0.0</td>\n",
       "      <td>0</td>\n",
       "      <td>0</td>\n",
       "    </tr>\n",
       "    <tr>\n",
       "      <th>108860</th>\n",
       "      <td>1515915625592684920</td>\n",
       "      <td>B</td>\n",
       "      <td>1</td>\n",
       "      <td>3</td>\n",
       "      <td>1597.68</td>\n",
       "      <td>0.0</td>\n",
       "      <td>0.0</td>\n",
       "      <td>0</td>\n",
       "      <td>0</td>\n",
       "    </tr>\n",
       "    <tr>\n",
       "      <th>11202</th>\n",
       "      <td>1515915625546836307</td>\n",
       "      <td>B</td>\n",
       "      <td>1</td>\n",
       "      <td>2</td>\n",
       "      <td>40.96</td>\n",
       "      <td>0.0</td>\n",
       "      <td>0.0</td>\n",
       "      <td>0</td>\n",
       "      <td>0</td>\n",
       "    </tr>\n",
       "  </tbody>\n",
       "</table>\n",
       "</div>"
      ],
      "text/plain": [
       "                    user_id group  is_viewed  products_viewed_cnt  price_sum  \\\n",
       "159622  1515915625599809309     B          1                    1      28.25   \n",
       "47742   1515915625564451163     B          1                    4     115.55   \n",
       "195583  1515915625606292558     B          1                    1      11.00   \n",
       "108860  1515915625592684920     B          1                    3    1597.68   \n",
       "11202   1515915625546836307     B          1                    2      40.96   \n",
       "\n",
       "        is_cart_added  is_purchased  cart_added_cnt  purchased_cnt  \n",
       "159622            0.0           0.0               0              0  \n",
       "47742             0.0           0.0               0              0  \n",
       "195583            0.0           0.0               0              0  \n",
       "108860            0.0           0.0               0              0  \n",
       "11202             0.0           0.0               0              0  "
      ]
     },
     "execution_count": 2,
     "metadata": {},
     "output_type": "execute_result"
    }
   ],
   "source": [
    "shop_metrics_new = pd.read_csv('shop_df_metrics_dec.csv').drop(columns='Unnamed: 0')\n",
    "shop_metrics_old = pd.read_csv('shop_df_metrics_sept.csv').drop(columns='Unnamed: 0')\n",
    "shop_users_info = pd.read_csv('shop_df_users.csv').drop(columns='Unnamed: 0')\n",
    "\n",
    "shop_metrics_new.sample(5)"
   ]
  },
  {
   "cell_type": "code",
   "execution_count": 3,
   "id": "3cb67bb8",
   "metadata": {
    "ExecuteTime": {
     "end_time": "2024-03-12T11:51:53.621616Z",
     "start_time": "2024-03-12T11:51:53.608335Z"
    }
   },
   "outputs": [],
   "source": [
    "def salt_generator(salt=None):\n",
    "    import os\n",
    "    from base64 import b64encode # кодирует байтоподобный объект с помощью Base64 и возвращает закодированную байтовую строку.\n",
    "    salt = os.urandom(8)\n",
    "    \n",
    "    return b64encode(salt).decode('ascii')\n",
    "\n",
    "def groups_splitter(df, user_salt=None):\n",
    "    \n",
    "    if user_salt == None:\n",
    "        salt = salt_generator()\n",
    "    else:\n",
    "        salt = user_salt\n",
    "    \n",
    "    df['hash'] = ((df['user_id'].astype(str)) + '#' + salt).apply(lambda x: hashlib.sha256(x.encode('utf-8')).hexdigest())\n",
    "\n",
    "    df['group'] = ((df['hash'].str.slice(start=-6).apply(int, base=16) % 2).map(lambda x: 'A' if x == 0 else 'B'))\n",
    "\n",
    "    return df[['user_id', 'group']].drop_duplicates()\n"
   ]
  },
  {
   "cell_type": "code",
   "execution_count": 4,
   "id": "ba166792",
   "metadata": {
    "ExecuteTime": {
     "end_time": "2024-03-12T11:51:53.636088Z",
     "start_time": "2024-03-12T11:51:53.630952Z"
    }
   },
   "outputs": [],
   "source": [
    "def rank_transformation(df_a, df_b, metric):\n",
    "    df = pd.concat([df_a, df_b], axis = 0)\n",
    "    df['rank'] = df[metric].rank()\n",
    "\n",
    "    return df"
   ]
  },
  {
   "cell_type": "code",
   "execution_count": 5,
   "id": "ea7d752f",
   "metadata": {
    "ExecuteTime": {
     "end_time": "2024-03-12T11:51:53.650311Z",
     "start_time": "2024-03-12T11:51:53.645582Z"
    }
   },
   "outputs": [],
   "source": [
    "def cuped_transform(df, metrics):\n",
    "\n",
    "    new_columns = [str(m+'_cuped') for m in metrics]\n",
    "    df[new_columns] = pd.DataFrame([[0] * len(new_columns)], index=df.index)\n",
    "\n",
    "    df_mini = df.fillna(0)\n",
    "    for m in metrics:\n",
    "        covariate_column = str(m+'_covariate')\n",
    "        cuped_column = str(m+'_cuped')\n",
    "        mean_covariate = df_mini[covariate_column].mean()\n",
    "\n",
    "        theta = (df_mini[m].cov(df_mini[covariate_column]))/(df_mini.loc[:,covariate_column].var())\n",
    "        df_mini[cuped_column] = df_mini[m] - (df_mini[covariate_column] - mean_covariate) * theta\n",
    "\n",
    "    df.update(df_mini)\n",
    "\n",
    "    return df.drop_duplicates()"
   ]
  },
  {
   "cell_type": "markdown",
   "id": "b0e99e8e",
   "metadata": {},
   "source": [
    "# 1. Применить ранговую трансформацию (потом t-test) и сравнить с результатами по Манну-Уитни на:\n",
    "- метрике cart_added_cnt "
   ]
  },
  {
   "cell_type": "code",
   "execution_count": 6,
   "id": "7428b2a2",
   "metadata": {
    "ExecuteTime": {
     "end_time": "2024-03-12T11:51:53.711827Z",
     "start_time": "2024-03-12T11:51:53.660646Z"
    }
   },
   "outputs": [],
   "source": [
    "ranked = rank_transformation(shop_metrics_new[shop_metrics_new.group == 'A'],\n",
    "                             shop_metrics_new[shop_metrics_new.group == 'B'], 'cart_added_cnt')"
   ]
  },
  {
   "cell_type": "code",
   "execution_count": 7,
   "id": "bc29a4f3",
   "metadata": {
    "ExecuteTime": {
     "end_time": "2024-03-12T11:51:55.517113Z",
     "start_time": "2024-03-12T11:51:55.311903Z"
    }
   },
   "outputs": [
    {
     "name": "stdout",
     "output_type": "stream",
     "text": [
      "111170.45633348604 111351.6421897482 0.16298022175842064\n",
      "Ttest_indResult(statistic=-1.2743727811526857, pvalue=0.20253266477504916)\n"
     ]
    },
    {
     "data": {
      "text/plain": [
       "MannwhitneyuResult(statistic=6179368188.5, pvalue=0.2025319893087626)"
      ]
     },
     "execution_count": 7,
     "metadata": {},
     "output_type": "execute_result"
    }
   ],
   "source": [
    "print(ranked[ranked.group == 'A']['rank'].mean(),\n",
    "      ranked[ranked.group == 'B']['rank'].mean(),\n",
    "      ((ranked[ranked.group == 'B']['rank'].mean() - ranked[ranked.group == 'A']['rank'].mean()) /\n",
    "       ranked[ranked.group == 'A']['rank'].mean()*100))\n",
    "\n",
    "print(stats.ttest_ind(ranked[ranked.group == 'A']['rank'], ranked[ranked.group == 'B']['rank']))\n",
    "\n",
    "stats.mannwhitneyu(shop_metrics_new[shop_metrics_new.group == 'A']['cart_added_cnt'],\n",
    "                   shop_metrics_new[shop_metrics_new.group == 'B']['cart_added_cnt'])"
   ]
  },
  {
   "cell_type": "markdown",
   "id": "74232153",
   "metadata": {
    "ExecuteTime": {
     "end_time": "2024-03-11T19:18:38.919336Z",
     "start_time": "2024-03-11T19:18:38.900942Z"
    }
   },
   "source": [
    " __Оба тесты показывают практически одинаковый p_value__"
   ]
  },
  {
   "cell_type": "code",
   "execution_count": 8,
   "id": "63e4a52c",
   "metadata": {
    "ExecuteTime": {
     "end_time": "2024-03-12T12:01:57.240079Z",
     "start_time": "2024-03-12T11:51:58.352606Z"
    }
   },
   "outputs": [
    {
     "name": "stderr",
     "output_type": "stream",
     "text": [
      "100%|██████████████████████████████████████████████████████████████████████████████| 1000/1000 [09:58<00:00,  1.67it/s]\n"
     ]
    },
    {
     "name": "stdout",
     "output_type": "stream",
     "text": [
      "-0.9999987137420602\n",
      " power: 100.0% , correctness: 95.39999999999999%\n"
     ]
    },
    {
     "data": {
      "image/png": "[encoded data removed]",
      "text/plain": [
       "<Figure size 470x427 with 1 Axes>"
      ]
     },
     "metadata": {},
     "output_type": "display_data"
    }
   ],
   "source": [
    "# мощность и корректность для ранговой трансформации\n",
    "\n",
    "shop = shop_metrics_new.drop(columns=['group'])\n",
    "\n",
    "correctness = []\n",
    "power = []\n",
    "\n",
    "for i in tqdm(range(1000)):\n",
    "\n",
    "    new_group = groups_splitter(shop.copy(), user_salt=salt_generator())\n",
    "    new_df = pd.merge(shop, new_group, how=\"left\", on=['user_id']).drop_duplicates()\n",
    "\n",
    "    ranked_df = rank_transformation(new_df[new_df.group == 'A'], new_df[new_df.group == 'B'], 'cart_added_cnt')\n",
    "\n",
    "    vec_a = ranked_df[(ranked_df['group'] == 'A')]['rank']\n",
    "    vec_b = ranked_df[(ranked_df['group'] == 'B')]['rank']\n",
    "\n",
    "    vec_b_effect = new_df[new_df['group'] == 'B']['cart_added_cnt'] * 1.05\n",
    "    new_df_b = new_df[new_df.group == 'B'].drop(columns=['cart_added_cnt'])\n",
    "    new_df_b['cart_added_cnt'] = list(vec_b_effect)\n",
    "\n",
    "    ranked_df_effect = rank_transformation(new_df[new_df.group == 'A'], new_df_b, 'cart_added_cnt')\n",
    "    vec_a_power = ranked_df_effect[(ranked_df_effect['group'] == 'A')]['rank']\n",
    "    vec_b_power = ranked_df_effect[(ranked_df_effect['group'] == 'B')]['rank']\n",
    "\n",
    "\n",
    "    p_cor, p_power = stats.ttest_ind(vec_a, vec_b)[1], stats.ttest_ind(vec_a_power, vec_b_power)[1]\n",
    "    correctness.append(p_cor)\n",
    "    power.append(p_power)\n",
    "\n",
    "correctness = np.array(correctness)\n",
    "sns.set(rc={'figure.figsize':(4.7,4.27)})\n",
    "sns.histplot(data=correctness, bins=10, color='blue', kde=True)\n",
    "\n",
    "power = np.array(power)\n",
    "\n",
    "print((vec_b_effect.mean() - vec_a.mean())/vec_a.mean())\n",
    "print(f' power: {(power[power < 0.05].shape[0] / power.shape[0]) * 100}% , correctness: {(1 - (correctness[correctness < 0.05].shape[0] / correctness.shape[0])) * 100}%')"
   ]
  },
  {
   "cell_type": "code",
   "execution_count": 9,
   "id": "8971a554",
   "metadata": {
    "ExecuteTime": {
     "end_time": "2024-03-12T06:03:55.546518Z",
     "start_time": "2024-03-12T05:53:39.390327Z"
    }
   },
   "outputs": [
    {
     "name": "stderr",
     "output_type": "stream",
     "text": [
      "100%|██████████████████████████████████████████████████████████████████████████████| 1000/1000 [10:16<00:00,  1.62it/s]"
     ]
    },
    {
     "name": "stdout",
     "output_type": "stream",
     "text": [
      " power: 100.0% , correctness: 94.6%\n"
     ]
    },
    {
     "name": "stderr",
     "output_type": "stream",
     "text": [
      "\n"
     ]
    },
    {
     "data": {
      "image/png": "[encoded data removed]",
      "text/plain": [
       "<Figure size 470x427 with 1 Axes>"
      ]
     },
     "metadata": {},
     "output_type": "display_data"
    }
   ],
   "source": [
    "correctness = []\n",
    "power = []\n",
    "\n",
    "for i in tqdm(range(1000)):\n",
    "    new_group = groups_splitter(shop.copy(), user_salt=salt_generator())\n",
    "    new_df = pd.merge(shop, new_group, how=\"left\", on=['user_id']).drop_duplicates()\n",
    "\n",
    "    vec_a = new_df[(new_df['group'] == 'A')]['cart_added_cnt']\n",
    "    vec_b = new_df[(new_df['group'] == 'B')]['cart_added_cnt']\n",
    "    \n",
    "    vec_b_effect = new_df[new_df['group'] == 'B']['cart_added_cnt'] * 1.05\n",
    "\n",
    "    p_correctness, p_power = stats.mannwhitneyu(vec_a, vec_b)[1], stats.mannwhitneyu(vec_a, vec_b_effect)[1]\n",
    "    correctness.append(p_correctness)\n",
    "    power.append(p_power)\n",
    "\n",
    "correctness = np.array(correctness)\n",
    "sns.set(rc={'figure.figsize':(4.7,4.27)})\n",
    "sns.histplot(data=correctness, bins=10, color='red')\n",
    "\n",
    "power = np.array(power)\n",
    "print(f' power: {(power[power < 0.05].shape[0] / power.shape[0]) * 100}% , correctness: {(1 - (correctness[correctness < 0.05].shape[0] / correctness.shape[0])) * 100}%')"
   ]
  },
  {
   "cell_type": "markdown",
   "id": "8a783fba",
   "metadata": {},
   "source": [
    "# 2. Реализовать cuped-трансформацию и сравнить мощность t-критерия на:\n",
    "- обычной метрике cart_added_cnt\n",
    "- логарфимированной метрике cart_added_cnt\n",
    "- метрике cart_added_cnt (а после подвергнуть ранговому преобразованию)"
   ]
  },
  {
   "cell_type": "markdown",
   "id": "2d213233",
   "metadata": {},
   "source": [
    "## Обычная метрика"
   ]
  },
  {
   "cell_type": "code",
   "execution_count": 10,
   "id": "fc7da264",
   "metadata": {
    "ExecuteTime": {
     "end_time": "2024-03-12T06:03:55.946998Z",
     "start_time": "2024-03-12T06:03:55.716684Z"
    }
   },
   "outputs": [
    {
     "name": "stdout",
     "output_type": "stream",
     "text": [
      "\u001b[1mt-test\u001b[0m\n",
      "Ttest_indResult(statistic=-1.3855896128552472, pvalue=0.16587364048446882)\n"
     ]
    }
   ],
   "source": [
    "shop_metrics_all = pd.merge(shop_metrics_new, shop_metrics_old[['user_id', 'cart_added_cnt']], on=['user_id'], how='left')\n",
    "shop_metrics_all = shop_metrics_all.rename(columns={'cart_added_cnt_x': 'cart_added_cnt', 'cart_added_cnt_y': 'cart_added_cnt_covariate'})\n",
    "shop_metrics_all_cuped = cuped_transform(shop_metrics_all.copy(), ['cart_added_cnt'])\n",
    "\n",
    "print('\\033[1m'+'t-test'+'\\033[0m')\n",
    "print(stats.ttest_ind(shop_metrics_all_cuped[shop_metrics_all_cuped.group == 'A']['cart_added_cnt_cuped'],\n",
    "                shop_metrics_all_cuped[shop_metrics_all_cuped.group == 'B']['cart_added_cnt_cuped']))"
   ]
  },
  {
   "cell_type": "code",
   "execution_count": 11,
   "id": "5a9a2f2d",
   "metadata": {
    "ExecuteTime": {
     "end_time": "2024-03-12T06:03:56.302862Z",
     "start_time": "2024-03-12T06:03:56.181052Z"
    }
   },
   "outputs": [
    {
     "name": "stdout",
     "output_type": "stream",
     "text": [
      "\u001b[1mСредние\u001b[0m\n",
      "метрика_cuped A: 0.13638231572690157,         метрика_cuped B: 0.13721028984747924\n",
      "метрика без cuped A: 0.1350419058398685,         метрика без cuped B: 0.1385521582733813\n",
      "\u001b[1mДисперсии\u001b[0m\n",
      "метрика_cuped A: 0.018235183599737075,         метрика_cuped B: 0.02149536345518971\n",
      "метрика без cuped A: 0.3805867322092098,         метрика без cuped B: 0.4247189893563619\n"
     ]
    }
   ],
   "source": [
    "print('\\033[1m'+'Средние'+'\\033[0m')\n",
    "\n",
    "print(f'метрика_cuped A: {shop_metrics_all_cuped[shop_metrics_all_cuped.group == \"A\"][\"cart_added_cnt_cuped\"].mean()}, \\\n",
    "        метрика_cuped B: {shop_metrics_all_cuped[shop_metrics_all_cuped.group == \"B\"][\"cart_added_cnt_cuped\"].mean()}')\n",
    "print(f'метрика без cuped A: {shop_metrics_all_cuped[shop_metrics_all_cuped.group == \"A\"][\"cart_added_cnt\"].mean()}, \\\n",
    "        метрика без cuped B: {shop_metrics_all_cuped[shop_metrics_all_cuped.group == \"B\"][\"cart_added_cnt\"].mean()}')\n",
    "\n",
    "print('\\033[1m'+'Дисперсии'+'\\033[0m')\n",
    "\n",
    "\n",
    "print(f'метрика_cuped A: {shop_metrics_all_cuped[shop_metrics_all_cuped.group == \"A\"][\"cart_added_cnt_cuped\"].var()}, \\\n",
    "        метрика_cuped B: {shop_metrics_all_cuped[shop_metrics_all_cuped.group == \"B\"][\"cart_added_cnt_cuped\"].var()}')\n",
    "print(f'метрика без cuped A: {shop_metrics_all_cuped[shop_metrics_all_cuped.group == \"A\"][\"cart_added_cnt\"].var()}, \\\n",
    "        метрика без cuped B: {shop_metrics_all_cuped[shop_metrics_all_cuped.group == \"B\"][\"cart_added_cnt\"].var()}')"
   ]
  },
  {
   "cell_type": "markdown",
   "id": "a4d56096",
   "metadata": {},
   "source": [
    "__Из значимых изменений -- сильно сокращаются дисперсии при тех же средних__"
   ]
  },
  {
   "cell_type": "code",
   "execution_count": 12,
   "id": "f2d09f5f",
   "metadata": {
    "ExecuteTime": {
     "end_time": "2024-03-12T06:14:41.869717Z",
     "start_time": "2024-03-12T06:03:56.548007Z"
    }
   },
   "outputs": [
    {
     "name": "stderr",
     "output_type": "stream",
     "text": [
      "100%|██████████████████████████████████████████████████████████████████████████████| 1000/1000 [10:45<00:00,  1.55it/s]\n"
     ]
    },
    {
     "name": "stdout",
     "output_type": "stream",
     "text": [
      " power: 100.0% , correctness: 95.5%\n"
     ]
    },
    {
     "data": {
      "image/png": "[encoded data removed]",
      "text/plain": [
       "<Figure size 470x427 with 1 Axes>"
      ]
     },
     "metadata": {},
     "output_type": "display_data"
    }
   ],
   "source": [
    "correctness = []\n",
    "power = []\n",
    "\n",
    "for i in tqdm(range(1000)):\n",
    "\n",
    "    new_group = groups_splitter(shop.copy(), user_salt=salt_generator())\n",
    "    new_df = pd.merge(shop, new_group, how=\"left\", on=['user_id']).drop_duplicates()\n",
    "    all_df = pd.merge(new_df, shop_metrics_old[['user_id', 'cart_added_cnt']], on=['user_id'], how='left')\n",
    "    all_df = all_df.rename(columns={'cart_added_cnt_x': 'cart_added_cnt', 'cart_added_cnt_y': 'cart_added_cnt_covariate'})\n",
    "\n",
    "    cuped_df = cuped_transform(all_df, ['cart_added_cnt'])\n",
    "\n",
    "    vec_a = cuped_df[(cuped_df['group'] == 'A')]['cart_added_cnt_cuped']\n",
    "    vec_b = cuped_df[(cuped_df['group'] == 'B')]['cart_added_cnt_cuped']\n",
    "\n",
    "    vec_b_effect = vec_b * 1.05\n",
    "\n",
    "\n",
    "    p_cor, p_power = stats.ttest_ind(vec_a, vec_b)[1], stats.ttest_ind(vec_a, vec_b_effect)[1]\n",
    "    correctness.append(p_cor)\n",
    "    power.append(p_power)\n",
    "\n",
    "correctness = np.array(correctness)\n",
    "sns.set(rc={'figure.figsize':(4.7,4.27)})\n",
    "sns.histplot(data=correctness, bins=10, color='brown', kde=True)\n",
    "\n",
    "power = np.array(power)\n",
    "\n",
    "print(f' power: {(power[power < 0.05].shape[0] / power.shape[0]) * 100}% , correctness: {(1 - (correctness[correctness < 0.05].shape[0] / correctness.shape[0])) * 100}%')"
   ]
  },
  {
   "cell_type": "markdown",
   "id": "0ecbdaa9",
   "metadata": {},
   "source": [
    "## Логарифмированная метрика"
   ]
  },
  {
   "cell_type": "code",
   "execution_count": 13,
   "id": "d2123edf",
   "metadata": {
    "ExecuteTime": {
     "end_time": "2024-03-12T06:14:42.355473Z",
     "start_time": "2024-03-12T06:14:42.165560Z"
    }
   },
   "outputs": [
    {
     "name": "stdout",
     "output_type": "stream",
     "text": [
      "\u001b[1mt-test\u001b[0m\n",
      "Ttest_indResult(statistic=-1.7814011922262785, pvalue=0.0748482971637577)\n"
     ]
    }
   ],
   "source": [
    "shop_metrics_all['ln_cart_added_cnt'] = np.log(shop_metrics_all['cart_added_cnt']+1)\n",
    "shop_metrics_all['ln_cart_added_cnt_covariate'] = np.log1p(shop_metrics_all['cart_added_cnt_covariate']+1)\n",
    "shop_metrics_all_cuped = cuped_transform(shop_metrics_all.copy(), ['ln_cart_added_cnt'])\n",
    "\n",
    "print('\\033[1m'+'t-test'+'\\033[0m')\n",
    "\n",
    "print(stats.ttest_ind(shop_metrics_all_cuped[shop_metrics_all_cuped.group == 'A']['ln_cart_added_cnt_cuped'],\n",
    "                shop_metrics_all_cuped[shop_metrics_all_cuped.group == 'B']['ln_cart_added_cnt_cuped']))"
   ]
  },
  {
   "cell_type": "code",
   "execution_count": 14,
   "id": "5757d804",
   "metadata": {
    "ExecuteTime": {
     "end_time": "2024-03-12T06:14:42.786783Z",
     "start_time": "2024-03-12T06:14:42.665119Z"
    }
   },
   "outputs": [
    {
     "name": "stdout",
     "output_type": "stream",
     "text": [
      "\u001b[1mСредние\u001b[0m\n",
      "метрика_cuped A: 0.0803370848010829,         метрика_cuped B: 0.08072536244233741\n",
      "метрика без cuped A: 0.0797428906264097,         метрика без cuped B: 0.08132020317246845\n",
      "\u001b[1mДисперсии\u001b[0m\n",
      "метрика_cuped A: 0.002786515421119718,         метрика_cuped B: 0.0024990240700704614\n",
      "метрика без cuped A: 0.0646623295575808,         метрика без cuped B: 0.06628259108485138\n"
     ]
    }
   ],
   "source": [
    "print('\\033[1m'+'Средние'+'\\033[0m')\n",
    "\n",
    "print(f'метрика_cuped A: {shop_metrics_all_cuped[shop_metrics_all_cuped.group == \"A\"][\"ln_cart_added_cnt_cuped\"].mean()}, \\\n",
    "        метрика_cuped B: {shop_metrics_all_cuped[shop_metrics_all_cuped.group == \"B\"][\"ln_cart_added_cnt_cuped\"].mean()}')\n",
    "print(f'метрика без cuped A: {shop_metrics_all_cuped[shop_metrics_all_cuped.group == \"A\"][\"ln_cart_added_cnt\"].mean()}, \\\n",
    "        метрика без cuped B: {shop_metrics_all_cuped[shop_metrics_all_cuped.group == \"B\"][\"ln_cart_added_cnt\"].mean()}')\n",
    "\n",
    "print('\\033[1m'+'Дисперсии'+'\\033[0m')\n",
    "\n",
    "\n",
    "print(f'метрика_cuped A: {shop_metrics_all_cuped[shop_metrics_all_cuped.group == \"A\"][\"ln_cart_added_cnt_cuped\"].var()}, \\\n",
    "        метрика_cuped B: {shop_metrics_all_cuped[shop_metrics_all_cuped.group == \"B\"][\"ln_cart_added_cnt_cuped\"].var()}')\n",
    "print(f'метрика без cuped A: {shop_metrics_all_cuped[shop_metrics_all_cuped.group == \"A\"][\"ln_cart_added_cnt\"].var()}, \\\n",
    "        метрика без cuped B: {shop_metrics_all_cuped[shop_metrics_all_cuped.group == \"B\"][\"ln_cart_added_cnt\"].var()}')"
   ]
  },
  {
   "cell_type": "code",
   "execution_count": 15,
   "id": "f04dab29",
   "metadata": {
    "ExecuteTime": {
     "end_time": "2024-03-12T06:26:01.967025Z",
     "start_time": "2024-03-12T06:14:43.098279Z"
    }
   },
   "outputs": [
    {
     "name": "stderr",
     "output_type": "stream",
     "text": [
      "100%|██████████████████████████████████████████████████████████████████████████████| 1000/1000 [11:18<00:00,  1.47it/s]"
     ]
    },
    {
     "name": "stdout",
     "output_type": "stream",
     "text": [
      " power: 100.0% , correctness: 95.6%\n"
     ]
    },
    {
     "name": "stderr",
     "output_type": "stream",
     "text": [
      "\n"
     ]
    },
    {
     "data": {
      "image/png": "[encoded data removed]",
      "text/plain": [
       "<Figure size 470x427 with 1 Axes>"
      ]
     },
     "metadata": {},
     "output_type": "display_data"
    }
   ],
   "source": [
    "correctness = []\n",
    "power = []\n",
    "\n",
    "for i in tqdm(range(1000)):\n",
    "\n",
    "    new_group = groups_splitter(shop.copy(), user_salt=salt_generator())\n",
    "    new_df = pd.merge(shop, new_group, how=\"left\", on=['user_id']).drop_duplicates()\n",
    "    all_df = pd.merge(new_df, shop_metrics_old[['user_id', 'cart_added_cnt']], on=['user_id'], how='left')\n",
    "    all_df = all_df.rename(columns={'cart_added_cnt_x': 'cart_added_cnt', 'cart_added_cnt_y': 'cart_added_cnt_covariate'})\n",
    "\n",
    "    all_df['ln_cart_added_cnt'] = np.log1p(all_df['cart_added_cnt'])\n",
    "    all_df['ln_cart_added_cnt_covariate'] = np.log1p(all_df['cart_added_cnt_covariate'])\n",
    "\n",
    "    cuped_df = cuped_transform(all_df, ['ln_cart_added_cnt'])\n",
    "\n",
    "    vec_a = cuped_df[(cuped_df['group'] == 'A')]['ln_cart_added_cnt_cuped']\n",
    "    vec_b = cuped_df[(cuped_df['group'] == 'B')]['ln_cart_added_cnt_cuped']\n",
    "\n",
    "    vec_b_effect = vec_b * 1.05\n",
    "\n",
    "\n",
    "    p_cor, p_power = stats.ttest_ind(vec_a, vec_b)[1], stats.ttest_ind(vec_a, vec_b_effect)[1]\n",
    "    correctness.append(p_cor)\n",
    "    power.append(p_power)\n",
    "\n",
    "correctness = np.array(correctness)\n",
    "sns.set(rc={'figure.figsize':(4.7,4.27)})\n",
    "sns.histplot(data=correctness, bins=10, color='brown', kde=True)\n",
    "\n",
    "power = np.array(power)\n",
    "\n",
    "print(f' power: {(power[power < 0.05].shape[0] / power.shape[0]) * 100}% , correctness: {(1 - (correctness[correctness < 0.05].shape[0] / correctness.shape[0])) * 100}%')"
   ]
  },
  {
   "cell_type": "markdown",
   "id": "55bae980",
   "metadata": {},
   "source": [
    "## Метрика cart_added_cnt (а после подвергнуть ранговому преобразованию)"
   ]
  },
  {
   "cell_type": "code",
   "execution_count": 9,
   "id": "f17c4a3b",
   "metadata": {
    "ExecuteTime": {
     "end_time": "2024-03-12T12:06:15.324635Z",
     "start_time": "2024-03-12T12:06:14.921809Z"
    }
   },
   "outputs": [
    {
     "name": "stdout",
     "output_type": "stream",
     "text": [
      "\u001b[1mt-test\u001b[0m\n"
     ]
    },
    {
     "data": {
      "text/plain": [
       "Ttest_indResult(statistic=-1.4459909525623789, pvalue=0.14818114788143422)"
      ]
     },
     "execution_count": 9,
     "metadata": {},
     "output_type": "execute_result"
    }
   ],
   "source": [
    "shop_metrics_all = pd.merge(shop_metrics_new, shop_metrics_old[['user_id', 'cart_added_cnt']], on=['user_id'], how='left')\n",
    "shop_metrics_all = shop_metrics_all.rename(columns={'cart_added_cnt_x': 'cart_added_cnt', 'cart_added_cnt_y': 'cart_added_cnt_covariate'})\n",
    "shop_metrics_all_cuped = cuped_transform(shop_metrics_all.copy(), ['cart_added_cnt'])\n",
    "\n",
    "ranked = rank_transformation(shop_metrics_all_cuped[shop_metrics_all_cuped.group == 'A'],\n",
    "                             shop_metrics_all_cuped[shop_metrics_all_cuped.group == 'B'], 'cart_added_cnt_cuped')\n",
    "\n",
    "print('\\033[1m'+'t-test'+'\\033[0m')\n",
    "\n",
    "stats.ttest_ind(ranked[ranked.group == 'A']['rank'],\n",
    "                ranked[ranked.group == 'B']['rank'])"
   ]
  },
  {
   "cell_type": "code",
   "execution_count": 11,
   "id": "7f88e591",
   "metadata": {
    "ExecuteTime": {
     "end_time": "2024-03-12T12:07:08.962858Z",
     "start_time": "2024-03-12T12:07:08.823889Z"
    }
   },
   "outputs": [
    {
     "name": "stdout",
     "output_type": "stream",
     "text": [
      "\u001b[1mСредние\u001b[0m\n",
      "метрика_cuped A: 111157.3299691882,         метрика_cuped B: 111364.78283723022\n",
      "метрика без cuped A: 0.1350419058398685,         метрика без cuped B: 0.1385521582733813\n",
      "\u001b[1mДисперсии\u001b[0m\n",
      "метрика_cuped A: 1138307738.1923919,         метрика_cuped B: 1151768826.5573704\n",
      "метрика без cuped A: 0.3805867322092098,         метрика без cuped B: 0.4247189893563619\n"
     ]
    }
   ],
   "source": [
    "print('\\033[1m'+'Средние'+'\\033[0m')\n",
    "\n",
    "print(f'метрика_cuped A: {ranked[ranked.group == \"A\"][\"rank\"].mean()}, \\\n",
    "        метрика_cuped B: {ranked[ranked.group == \"B\"][\"rank\"].mean()}')\n",
    "print(f'метрика без cuped A: {ranked[ranked.group == \"A\"][\"cart_added_cnt\"].mean()}, \\\n",
    "        метрика без cuped B: {ranked[ranked.group == \"B\"][\"cart_added_cnt\"].mean()}')\n",
    "\n",
    "print('\\033[1m'+'Дисперсии'+'\\033[0m')\n",
    "\n",
    "\n",
    "print(f'метрика_cuped A: {ranked[ranked.group == \"A\"][\"rank\"].var()}, \\\n",
    "        метрика_cuped B: {ranked[ranked.group == \"B\"][\"rank\"].var()}')\n",
    "print(f'метрика без cuped A: {ranked[ranked.group == \"A\"][\"cart_added_cnt\"].var()}, \\\n",
    "        метрика без cuped B: {ranked[ranked.group == \"B\"][\"cart_added_cnt\"].var()}')"
   ]
  },
  {
   "cell_type": "code",
   "execution_count": 18,
   "id": "1bc71a25",
   "metadata": {
    "ExecuteTime": {
     "end_time": "2024-03-12T06:39:11.227385Z",
     "start_time": "2024-03-12T06:26:03.260264Z"
    }
   },
   "outputs": [
    {
     "name": "stderr",
     "output_type": "stream",
     "text": [
      "100%|██████████████████████████████████████████████████████████████████████████████| 1000/1000 [13:07<00:00,  1.27it/s]"
     ]
    },
    {
     "name": "stdout",
     "output_type": "stream",
     "text": [
      " power: 100.0% , correctness: 95.19999999999999%\n"
     ]
    },
    {
     "name": "stderr",
     "output_type": "stream",
     "text": [
      "\n"
     ]
    },
    {
     "data": {
      "image/png": "[encoded data removed]",
      "text/plain": [
       "<Figure size 470x427 with 1 Axes>"
      ]
     },
     "metadata": {},
     "output_type": "display_data"
    }
   ],
   "source": [
    "correctness = []\n",
    "power = []\n",
    "\n",
    "for i in tqdm(range(1000)):\n",
    "\n",
    "    new_group = groups_splitter(shop.copy(), user_salt=salt_generator())\n",
    "    new_df = pd.merge(shop, new_group, how=\"left\", on=['user_id']).drop_duplicates()\n",
    "    all_df = pd.merge(new_df, shop_metrics_old[['user_id', 'cart_added_cnt']], on=['user_id'], how='left')\n",
    "    all_df = all_df.rename(columns={'cart_added_cnt_x': 'cart_added_cnt', 'cart_added_cnt_y': 'cart_added_cnt_covariate'})\n",
    "\n",
    "    cuped_df = cuped_transform(all_df, ['cart_added_cnt'])\n",
    "\n",
    "    ranked_df = rank_transformation(cuped_df[cuped_df.group == 'A'],\n",
    "                             cuped_df[cuped_df.group == 'B'], 'cart_added_cnt_cuped')\n",
    "\n",
    "    vec_a = ranked_df[(ranked_df['group'] == 'A')]['rank']\n",
    "    vec_b = ranked_df[(ranked_df['group'] == 'B')]['rank']\n",
    "\n",
    "    vec_b_effect = cuped_df[cuped_df['group'] == 'B']['cart_added_cnt_cuped'] * 1.05\n",
    "    new_df_b = cuped_df[cuped_df.group == 'B'].drop(columns=['cart_added_cnt_cuped'])\n",
    "    new_df_b['cart_added_cnt_cuped'] = list(vec_b_effect)\n",
    "\n",
    "    ranked_df_effect = rank_transformation(cuped_df[cuped_df.group == 'A'], new_df_b, 'cart_added_cnt_cuped')\n",
    "    vec_a_power = ranked_df_effect[(ranked_df_effect['group'] == 'A')]['rank']\n",
    "    vec_b_power = ranked_df_effect[(ranked_df_effect['group'] == 'B')]['rank']\n",
    "\n",
    "\n",
    "    p_cor, p_power = stats.ttest_ind(vec_a, vec_b)[1], stats.ttest_ind(vec_a_power, vec_b_power)[1]\n",
    "    correctness.append(p_cor)\n",
    "    power.append(p_power)\n",
    "\n",
    "\n",
    "correctness = np.array(correctness)\n",
    "sns.set(rc={'figure.figsize':(4.7,4.27)})\n",
    "sns.histplot(data=correctness, bins=10, color='brown', kde=True)\n",
    "\n",
    "power = np.array(power)\n",
    "\n",
    "print(f' power: {(power[power < 0.05].shape[0] / power.shape[0]) * 100}% , correctness: {(1 - (correctness[correctness < 0.05].shape[0] / correctness.shape[0])) * 100}%')"
   ]
  },
  {
   "cell_type": "markdown",
   "id": "d1a7779e",
   "metadata": {},
   "source": [
    "## Вывод\n",
    "CUPED помогает нам (а именно уменьшает дисперсию) при обычной и логарифмированной метрике\\\n",
    "В случае ранговой трансформации судить сложно, разве что у нас довольно близкими становятся дисперсии в разных группах\\\n",
    "По p-value лучше всего показало себя логарифмирование метрики (практически приблизилось к 5%)"
   ]
  }
 ],
 "metadata": {
  "kernelspec": {
   "display_name": "Python 3 (ipykernel)",
   "language": "python",
   "name": "python3"
  },
  "language_info": {
   "codemirror_mode": {
    "name": "ipython",
    "version": 3
   },
   "file_extension": ".py",
   "mimetype": "text/x-python",
   "name": "python",
   "nbconvert_exporter": "python",
   "pygments_lexer": "ipython3",
   "version": "3.9.10"
  },
  "varInspector": {
   "cols": {
    "lenName": 16,
    "lenType": 16,
    "lenVar": 40
   },
   "kernels_config": {
    "python": {
     "delete_cmd_postfix": "",
     "delete_cmd_prefix": "del ",
     "library": "var_list.py",
     "varRefreshCmd": "print(var_dic_list())"
    },
    "r": {
     "delete_cmd_postfix": ") ",
     "delete_cmd_prefix": "rm(",
     "library": "var_list.r",
     "varRefreshCmd": "cat(var_dic_list()) "
    }
   },
   "types_to_exclude": [
    "module",
    "function",
    "builtin_function_or_method",
    "instance",
    "_Feature"
   ],
   "window_display": false
  }
 },
 "nbformat": 4,
 "nbformat_minor": 5
}
